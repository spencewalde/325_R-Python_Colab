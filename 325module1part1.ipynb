{
  "nbformat": 4,
  "nbformat_minor": 0,
  "metadata": {
    "colab": {
      "name": "325module1part1.ipynb",
      "provenance": [],
      "authorship_tag": "ABX9TyP4Q/BdvQlMi1MxOS09bNHU",
      "include_colab_link": true
    },
    "kernelspec": {
      "name": "ir",
      "display_name": "R"
    }
  },
  "cells": [
    {
      "cell_type": "markdown",
      "metadata": {
        "id": "view-in-github",
        "colab_type": "text"
      },
      "source": [
        "<a href=\"https://colab.research.google.com/github/spencewalde/325_R-Python_Colab/blob/main/325module1part1.ipynb\" target=\"_parent\"><img src=\"https://colab.research.google.com/assets/colab-badge.svg\" alt=\"Open In Colab\"/></a>"
      ]
    },
    {
      "cell_type": "markdown",
      "metadata": {
        "id": "7i7UF-_Irdvt"
      },
      "source": [
        "# using read_csv()"
      ]
    },
    {
      "cell_type": "markdown",
      "metadata": {
        "id": "VBfvwDgSwZUl"
      },
      "source": [
        "A dataset from the City of Austin, TX will be used for this example. The open data portal is often used for provide datasets to the public.\r\n",
        "\r\n",
        "Data Source: Austin Animal Center Outcomes - Link\r\n",
        "\r\n",
        "The dataset includes information regarding the status of animals as they leave the Austin Animal Center. Click Export to obtain a local copy of this dataset. For this example, a *.csv copy will be downloaded.\r\n",
        "\r\n"
      ]
    },
    {
      "cell_type": "code",
      "metadata": {
        "id": "3SdKOLbtgeGJ"
      },
      "source": [
        "# Reading data in using read.csv via Base R\r\n",
        "AustinAnimalShelter_BaseR <- read.csv(\"/content/sample_data/Austin_Animal_Center_Outcomes.csv\")"
      ],
      "execution_count": 10,
      "outputs": []
    },
    {
      "cell_type": "code",
      "metadata": {
        "id": "gXyK_nEzrKYC"
      },
      "source": [
        "#ls() command can be used to list variables in current session of R\r\n",
        "ls()\r\n",
        "\r\n",
        "#Note View() is a common fuction used to View a dataset // not available in Colab"
      ],
      "execution_count": null,
      "outputs": []
    },
    {
      "cell_type": "code",
      "metadata": {
        "id": "BUAipo6arKk1"
      },
      "source": [
        "# head() and tail() can be used to see top or bottom of the dataset\r\n",
        "\r\n",
        "#View of top few rows...\r\n",
        "head(AustinAnimalShelter_BaseR)\r\n",
        "\r\n",
        "#View of bottom few rows....\r\n",
        "tail(AustinAnimalShelter_BaseR)"
      ],
      "execution_count": null,
      "outputs": []
    },
    {
      "cell_type": "code",
      "metadata": {
        "id": "QIUfYkn0rKuB"
      },
      "source": [
        "# The class() function allows you to identify the variable type\r\n",
        "class(AustinAnimalShelter_BaseR)"
      ],
      "execution_count": null,
      "outputs": []
    },
    {
      "cell_type": "code",
      "metadata": {
        "id": "rNre1_4erOy2"
      },
      "source": [
        "# The str() function allows you to identify the structure of the variable\r\n",
        "str(AustinAnimalShelter_BaseR)\r\n",
        "\r\n",
        "# the dim() function can be used to obtain the size of the data.frame\r\n",
        "dim(AustinAnimalShelter_BaseR)\r\n",
        "\r\n",
        "# nrow() find # of rows\r\n",
        "# ncolumn() finds # of columns"
      ],
      "execution_count": null,
      "outputs": []
    },
    {
      "cell_type": "markdown",
      "metadata": {
        "id": "tM-kVe-4rXOb"
      },
      "source": [
        "# using read_csv()"
      ]
    },
    {
      "cell_type": "code",
      "metadata": {
        "id": "5-Z43TuFq5bk"
      },
      "source": [
        "library(tidyverse)"
      ],
      "execution_count": 11,
      "outputs": []
    },
    {
      "cell_type": "code",
      "metadata": {
        "id": "TBW_Rvf0q-V6"
      },
      "source": [
        "AustinAnimalShelter_Tidyverse <- read_csv(\"/content/sample_data/Austin_Animal_Center_Outcomes.csv\")"
      ],
      "execution_count": null,
      "outputs": []
    },
    {
      "cell_type": "code",
      "metadata": {
        "colab": {
          "base_uri": "https://localhost:8080/",
          "height": 34
        },
        "id": "ZRD-PkbNsM-0",
        "outputId": "98c408a0-5a99-42b4-a5ff-8d754580f12b"
      },
      "source": [
        "#Get a list of current variables\r\n",
        "ls()"
      ],
      "execution_count": 13,
      "outputs": [
        {
          "output_type": "display_data",
          "data": {
            "text/plain": [
              "[1] \"AustinAnimalShelter_BaseR\"     \"AustinAnimalShelter_Tidyverse\""
            ],
            "text/latex": "\\begin{enumerate*}\n\\item 'AustinAnimalShelter\\_BaseR'\n\\item 'AustinAnimalShelter\\_Tidyverse'\n\\end{enumerate*}\n",
            "text/markdown": "1. 'AustinAnimalShelter_BaseR'\n2. 'AustinAnimalShelter_Tidyverse'\n\n\n",
            "text/html": [
              "<style>\n",
              ".list-inline {list-style: none; margin:0; padding: 0}\n",
              ".list-inline>li {display: inline-block}\n",
              ".list-inline>li:not(:last-child)::after {content: \"\\00b7\"; padding: 0 .5ex}\n",
              "</style>\n",
              "<ol class=list-inline><li>'AustinAnimalShelter_BaseR'</li><li>'AustinAnimalShelter_Tidyverse'</li></ol>\n"
            ]
          },
          "metadata": {
            "tags": []
          }
        }
      ]
    },
    {
      "cell_type": "markdown",
      "metadata": {
        "id": "-GmsOS0_smJo"
      },
      "source": [
        "Self-Check Questions\r\n",
        "\r\n",
        "Run the class() function on dataset that was read into R using read_csv(). What is the variable type?\r\n",
        "\r\n",
        "Run the str() function on the dataset that was read into R using read_csv()_. What is the name of the first column? How does this name differ than the data.frame read in from read.csv()? Briefly discuss."
      ]
    },
    {
      "cell_type": "code",
      "metadata": {
        "id": "iZBiPNJjsz7l"
      },
      "source": [
        "class(AustinAnimalShelter_Tidyverse)"
      ],
      "execution_count": null,
      "outputs": []
    },
    {
      "cell_type": "code",
      "metadata": {
        "id": "MmFs5ebPs0DH"
      },
      "source": [
        "str(AustinAnimalShelter_Tidyverse)"
      ],
      "execution_count": null,
      "outputs": []
    },
    {
      "cell_type": "markdown",
      "metadata": {
        "id": "Y5dgMw-EtQ5U"
      },
      "source": [
        "# Data Structures for the structered data in R"
      ]
    },
    {
      "cell_type": "markdown",
      "metadata": {
        "id": "Ac-PLAP9tVDg"
      },
      "source": [
        "Three common structures for tabled data in R\r\n",
        "\r\n",
        "\r\n",
        "\r\n",
        "*   Matrix\r\n",
        "> Collection of vectors:  All must be the same length <strong>and</strong> same data type\r\n",
        "*   Data.Frame\r\n",
        "> Collection of vectors: All must be the same length\r\n",
        "* Tibble -- tabled data.frame\r\n",
        "> Collection of vectors\r\n",
        "\r\n",
        "\r\n",
        "\r\n",
        "\r\n",
        "<p align='center'><img src=\"https://drive.google.com/uc?export=view&id=1LIrZ9yiPZ147CHZs9uUjVofM_Ik0QvZ4\"></img></p> "
      ]
    },
    {
      "cell_type": "markdown",
      "metadata": {
        "id": "93Wr8nd4umq1"
      },
      "source": [
        "# MODULE 1 PART 2"
      ]
    },
    {
      "cell_type": "markdown",
      "metadata": {
        "id": "SM78hvvxvuxR"
      },
      "source": [
        "A dataset regarding a list of adoptable pets for the King County, WA will be used for this example. King County contains the Seattle metro area.\r\n",
        "\r\n",
        "Original Data Source: Adoptable Pets - Link\r\n",
        "\r\n",
        "URL for direct download in R: http://dsciclass.org/dsci325/datasets/KingCounty_Animal_LostandFound.csv"
      ]
    },
    {
      "cell_type": "code",
      "metadata": {
        "id": "dqwMdBxmurZp"
      },
      "source": [
        "# Load the tidyverse() libary in this session of R\r\n",
        "library(tidyverse)"
      ],
      "execution_count": 17,
      "outputs": []
    },
    {
      "cell_type": "code",
      "metadata": {
        "id": "0polkdThvK8i"
      },
      "source": [
        "# Using read_csv() to read in a dataset from an URL\r\n",
        "KingCounty_LostandFound <- read_csv(\"http://dsciclass.org/dsci325/datasets/KingCounty_Animal_LostandFound.csv\")\r\n",
        "\r\n",
        "# Ensure data.frame exists\r\n",
        "ls()"
      ],
      "execution_count": null,
      "outputs": []
    },
    {
      "cell_type": "code",
      "metadata": {
        "colab": {
          "base_uri": "https://localhost:8080/",
          "height": 538
        },
        "id": "401B2kegvRry",
        "outputId": "a62a9cff-b1ce-41fd-a482-90d95b952707"
      },
      "source": [
        "#Checking the first few rows of data\r\n",
        "head(KingCounty_LostandFound)\r\n",
        "\r\n",
        "#Identify the number of rows and columns \r\n",
        "dim(KingCounty_LostandFound)"
      ],
      "execution_count": 20,
      "outputs": [
        {
          "output_type": "display_data",
          "data": {
            "text/plain": [
              "  impound_no Animal_ID Data_Source                             Record_Type\n",
              "1 K20-133511 A628593   Regional Animal Services of King County FOUND      \n",
              "2 K20-133337 A628019   Regional Animal Services of King County LOST       \n",
              "3 K21-133834 A629695   Regional Animal Services of King County FOUND      \n",
              "4 K20-133358 A628078   Regional Animal Services of King County LOST       \n",
              "5 K20-133177 A520828   Regional Animal Services of King County LOST       \n",
              "6 K20-133370 A628120   Regional Animal Services of King County FOUND      \n",
              "  Link                                                                                                                    \n",
              "1 https://petharbor.com/PublicDetail.asp?searchtype=PUBFOUND&view=sysadm.v_animal&shelterlist='KING'&where=type&ID=2216674\n",
              "2 https://petharbor.com/PublicDetail.asp?searchtype=PUBFOUND&view=sysadm.v_animal&shelterlist='KING'&where=type&ID=2212683\n",
              "3 https://petharbor.com/pet.asp?uaid=KING.A629695                                                                         \n",
              "4 https://petharbor.com/PublicDetail.asp?searchtype=PUBFOUND&view=sysadm.v_animal&shelterlist='KING'&where=type&ID=2213139\n",
              "5 https://petharbor.com/PublicDetail.asp?searchtype=PUBFOUND&view=sysadm.v_animal&shelterlist='KING'&where=type&ID=2209496\n",
              "6 https://kingcounty.gov/depts/regional-animal-services/about-us/overview.aspx                                            \n",
              "  Current_Location                                                Animal_Name\n",
              "1 In Public Home                                                  NA         \n",
              "2 LOST                                                            Lila       \n",
              "3 King County Pet Adoption Center 21615 64TH AVE S KENT, WA 98032 NA         \n",
              "4 LOST                                                            Simon      \n",
              "5 LOST                                                            Rubee      \n",
              "6 NA                                                              Diamond    \n",
              "  animal_type Age         Animal_Gender ⋯ City     State Zip   jurisdiction\n",
              "1 Dog         Over 1 year Unknown       ⋯ NA       NA       NA JURISDICTION\n",
              "2 Cat         Over 1 year Female        ⋯ SEATTLE  WA    98178 KING COUNTY \n",
              "3 Cat         1 YEAR      Male          ⋯ SEATTLE  WA    98178 KING COUNTY \n",
              "4 Cat         Over 1 year Male          ⋯ NA       NA       NA JURISDICTION\n",
              "5 Dog         Over 1 year Spayed Female ⋯ NA       NA       NA JURISDICTION\n",
              "6 Dead Dog    NO AGE      Female        ⋯ BELLEVUE WA    98005 BELLEVUE    \n",
              "  obfuscated_latitude obfuscated_longitude\n",
              "1 NA                  NA                  \n",
              "2 NA                  NA                  \n",
              "3 NA                  NA                  \n",
              "4 NA                  NA                  \n",
              "5 NA                  NA                  \n",
              "6 NA                  NA                  \n",
              "  Image                                                                    \n",
              "1 https://petharbor.com/get_image.asp?RES=Detail&LOCATION=PUBLIC&ID=2216674\n",
              "2 https://petharbor.com/get_image.asp?RES=Detail&LOCATION=PUBLIC&ID=2212683\n",
              "3 https://petharbor.com/get_image.asp?RES=Detail&LOCATION=KING&ID=A629695  \n",
              "4 https://petharbor.com/get_image.asp?RES=Detail&LOCATION=PUBLIC&ID=2213139\n",
              "5 https://petharbor.com/get_image.asp?RES=Detail&LOCATION=PUBLIC&ID=2209496\n",
              "6 NA                                                                       \n",
              "  image_alt_text               \n",
              "1 Image Copyright HLP Inc. 2021\n",
              "2 Image Copyright HLP Inc. 2021\n",
              "3 Image Copyright HLP Inc. 2021\n",
              "4 Image Copyright HLP Inc. 2021\n",
              "5 Image Copyright HLP Inc. 2021\n",
              "6 Image Copyright HLP Inc. 2021\n",
              "  Memo                                                                                                                                                                                                                                                                                                                                                                                                                                                     \n",
              "1 Description: Longer/larger light brown chihuahua wandering streets at old Redmond rd and 140th ave in Redmond, WA. Did not come when called. Red collar with metal tags<p/>Age: Over 1 year<p/>Location Found: Old Redmond Rd and 140th Ave NE<p/>Notes: <p/>Found Date: 12/24/2020<p/>Finder Address:  Redmond WA 98052                                                                                                                                 \n",
              "2 Description: Lila is a small black cat. About six pounds. Can’t see well, usually both pupils a dilated. She needs meds for blood pressure and her thyroid. Tends to be extremely vocal. Missing both canines on left side of her mouth.<p/>Age: Over 1 year<p/>Location Lost: 7835 S 126th st<p/>Notes: Lila is a small black cat. About six pounds. Can’t see well. She needs meds for blood pressure and her thyroid.<p/>Lost Date: 12/14/2020<p/>    \n",
              "3 Received on: 2021-01-11<p/> Found Near: 12400 84TH AVE S, SEATTLE WA 98178<p/> Description: Org Tabby Male Domestic Longhair Cat<p/> Age: 1 YEAR<p/> Current Location: King County Pet Adoption Center 21615 64TH AVE S KENT, WA 98032<p/>                                                                                                                                                                                                               \n",
              "4 Description: Simon has sky colored blue eyes, he looks like he has eyeliner on and his nose is outlined in black.  He is skittish and shy.  Simon weighs 13 lbs so is a big boy. He doesn't have a collar and is mostly white but has black, light brown, and brown too<p/>Age: Over 1 year<p/>Location Lost: 2006 NE 158th Street<p/>Notes: Simon is very food motivated so he may come to you if you offer food or treats.<p/>Lost Date: 12/14/2020<p/>\n",
              "5 Description: Orange coat short legs. Looks like a Golden Retriever - Corgi mix.<p/>Age: Over 1 year<p/>Location Lost: 2500 block of Perkins Way NE<p/>Notes: Orange coat, short legs. Looks like a golden retriever - Corgi mix. Skittish with strangers.<p/>Lost Date: 12/06/2020<p/>                                                                                                                                                                   \n",
              "6 Received on: 2020-12-16<p/> Found Near: 2200 132ND AVE SE, BELLEVUE WA 98005<p/> Description: No Prvided Female Pit Bull Dog<p/> Age: NO AGE<p/>                                                                                                                                                                                                                                                                                                         \n",
              "  Temperament\n",
              "1 NA         \n",
              "2 NA         \n",
              "3 NA         \n",
              "4 NA         \n",
              "5 NA         \n",
              "6 NA         "
            ],
            "text/latex": "A tibble: 6 × 25\n\\begin{tabular}{lllllllllllllllllllll}\n impound\\_no & Animal\\_ID & Data\\_Source & Record\\_Type & Link & Current\\_Location & Animal\\_Name & animal\\_type & Age & Animal\\_Gender & ⋯ & City & State & Zip & jurisdiction & obfuscated\\_latitude & obfuscated\\_longitude & Image & image\\_alt\\_text & Memo & Temperament\\\\\n <chr> & <chr> & <chr> & <chr> & <chr> & <chr> & <chr> & <chr> & <chr> & <chr> & ⋯ & <chr> & <chr> & <dbl> & <chr> & <dbl> & <dbl> & <chr> & <chr> & <chr> & <chr>\\\\\n\\hline\n\t K20-133511 & A628593 & Regional Animal Services of King County & FOUND & https://petharbor.com/PublicDetail.asp?searchtype=PUBFOUND\\&view=sysadm.v\\_animal\\&shelterlist='KING'\\&where=type\\&ID=2216674 & In Public Home                                                  & NA      & Dog      & Over 1 year & Unknown       & ⋯ & NA       & NA &    NA & JURISDICTION & NA & NA & https://petharbor.com/get\\_image.asp?RES=Detail\\&LOCATION=PUBLIC\\&ID=2216674 & Image Copyright HLP Inc. 2021 & Description: Longer/larger light brown chihuahua wandering streets at old Redmond rd and 140th ave in Redmond, WA. Did not come when called. Red collar with metal tags<p/>Age: Over 1 year<p/>Location Found: Old Redmond Rd and 140th Ave NE<p/>Notes: <p/>Found Date: 12/24/2020<p/>Finder Address:  Redmond WA 98052                                                                                                                                  & NA\\\\\n\t K20-133337 & A628019 & Regional Animal Services of King County & LOST  & https://petharbor.com/PublicDetail.asp?searchtype=PUBFOUND\\&view=sysadm.v\\_animal\\&shelterlist='KING'\\&where=type\\&ID=2212683 & LOST                                                            & Lila    & Cat      & Over 1 year & Female        & ⋯ & SEATTLE  & WA & 98178 & KING COUNTY  & NA & NA & https://petharbor.com/get\\_image.asp?RES=Detail\\&LOCATION=PUBLIC\\&ID=2212683 & Image Copyright HLP Inc. 2021 & Description: Lila is a small black cat. About six pounds. Can’t see well, usually both pupils a dilated. She needs meds for blood pressure and her thyroid. Tends to be extremely vocal. Missing both canines on left side of her mouth.<p/>Age: Over 1 year<p/>Location Lost: 7835 S 126th st<p/>Notes: Lila is a small black cat. About six pounds. Can’t see well. She needs meds for blood pressure and her thyroid.<p/>Lost Date: 12/14/2020<p/>     & NA\\\\\n\t K21-133834 & A629695 & Regional Animal Services of King County & FOUND & https://petharbor.com/pet.asp?uaid=KING.A629695                                                                          & King County Pet Adoption Center 21615 64TH AVE S KENT, WA 98032 & NA      & Cat      & 1 YEAR      & Male          & ⋯ & SEATTLE  & WA & 98178 & KING COUNTY  & NA & NA & https://petharbor.com/get\\_image.asp?RES=Detail\\&LOCATION=KING\\&ID=A629695   & Image Copyright HLP Inc. 2021 & Received on: 2021-01-11<p/> Found Near: 12400 84TH AVE S, SEATTLE WA 98178<p/> Description: Org Tabby Male Domestic Longhair Cat<p/> Age: 1 YEAR<p/> Current Location: King County Pet Adoption Center 21615 64TH AVE S KENT, WA 98032<p/>                                                                                                                                                                                                                & NA\\\\\n\t K20-133358 & A628078 & Regional Animal Services of King County & LOST  & https://petharbor.com/PublicDetail.asp?searchtype=PUBFOUND\\&view=sysadm.v\\_animal\\&shelterlist='KING'\\&where=type\\&ID=2213139 & LOST                                                            & Simon   & Cat      & Over 1 year & Male          & ⋯ & NA       & NA &    NA & JURISDICTION & NA & NA & https://petharbor.com/get\\_image.asp?RES=Detail\\&LOCATION=PUBLIC\\&ID=2213139 & Image Copyright HLP Inc. 2021 & Description: Simon has sky colored blue eyes, he looks like he has eyeliner on and his nose is outlined in black.  He is skittish and shy.  Simon weighs 13 lbs so is a big boy. He doesn't have a collar and is mostly white but has black, light brown, and brown too<p/>Age: Over 1 year<p/>Location Lost: 2006 NE 158th Street<p/>Notes: Simon is very food motivated so he may come to you if you offer food or treats.<p/>Lost Date: 12/14/2020<p/> & NA\\\\\n\t K20-133177 & A520828 & Regional Animal Services of King County & LOST  & https://petharbor.com/PublicDetail.asp?searchtype=PUBFOUND\\&view=sysadm.v\\_animal\\&shelterlist='KING'\\&where=type\\&ID=2209496 & LOST                                                            & Rubee   & Dog      & Over 1 year & Spayed Female & ⋯ & NA       & NA &    NA & JURISDICTION & NA & NA & https://petharbor.com/get\\_image.asp?RES=Detail\\&LOCATION=PUBLIC\\&ID=2209496 & Image Copyright HLP Inc. 2021 & Description: Orange coat short legs. Looks like a Golden Retriever - Corgi mix.<p/>Age: Over 1 year<p/>Location Lost: 2500 block of Perkins Way NE<p/>Notes: Orange coat, short legs. Looks like a golden retriever - Corgi mix. Skittish with strangers.<p/>Lost Date: 12/06/2020<p/>                                                                                                                                                                    & NA\\\\\n\t K20-133370 & A628120 & Regional Animal Services of King County & FOUND & https://kingcounty.gov/depts/regional-animal-services/about-us/overview.aspx                                             & NA                                                              & Diamond & Dead Dog & NO AGE      & Female        & ⋯ & BELLEVUE & WA & 98005 & BELLEVUE     & NA & NA & NA                                                                        & Image Copyright HLP Inc. 2021 & Received on: 2020-12-16<p/> Found Near: 2200 132ND AVE SE, BELLEVUE WA 98005<p/> Description: No Prvided Female Pit Bull Dog<p/> Age: NO AGE<p/>                                                                                                                                                                                                                                                                                                          & NA\\\\\n\\end{tabular}\n",
            "text/markdown": "\nA tibble: 6 × 25\n\n| impound_no &lt;chr&gt; | Animal_ID &lt;chr&gt; | Data_Source &lt;chr&gt; | Record_Type &lt;chr&gt; | Link &lt;chr&gt; | Current_Location &lt;chr&gt; | Animal_Name &lt;chr&gt; | animal_type &lt;chr&gt; | Age &lt;chr&gt; | Animal_Gender &lt;chr&gt; | ⋯ ⋯ | City &lt;chr&gt; | State &lt;chr&gt; | Zip &lt;dbl&gt; | jurisdiction &lt;chr&gt; | obfuscated_latitude &lt;dbl&gt; | obfuscated_longitude &lt;dbl&gt; | Image &lt;chr&gt; | image_alt_text &lt;chr&gt; | Memo &lt;chr&gt; | Temperament &lt;chr&gt; |\n|---|---|---|---|---|---|---|---|---|---|---|---|---|---|---|---|---|---|---|---|---|\n| K20-133511 | A628593 | Regional Animal Services of King County | FOUND | https://petharbor.com/PublicDetail.asp?searchtype=PUBFOUND&amp;view=sysadm.v_animal&amp;shelterlist='KING'&amp;where=type&amp;ID=2216674 | In Public Home                                                  | NA      | Dog      | Over 1 year | Unknown       | ⋯ | NA       | NA |    NA | JURISDICTION | NA | NA | https://petharbor.com/get_image.asp?RES=Detail&amp;LOCATION=PUBLIC&amp;ID=2216674 | Image Copyright HLP Inc. 2021 | Description: Longer/larger light brown chihuahua wandering streets at old Redmond rd and 140th ave in Redmond, WA. Did not come when called. Red collar with metal tags&lt;p/&gt;Age: Over 1 year&lt;p/&gt;Location Found: Old Redmond Rd and 140th Ave NE&lt;p/&gt;Notes: &lt;p/&gt;Found Date: 12/24/2020&lt;p/&gt;Finder Address:  Redmond WA 98052                                                                                                                                  | NA |\n| K20-133337 | A628019 | Regional Animal Services of King County | LOST  | https://petharbor.com/PublicDetail.asp?searchtype=PUBFOUND&amp;view=sysadm.v_animal&amp;shelterlist='KING'&amp;where=type&amp;ID=2212683 | LOST                                                            | Lila    | Cat      | Over 1 year | Female        | ⋯ | SEATTLE  | WA | 98178 | KING COUNTY  | NA | NA | https://petharbor.com/get_image.asp?RES=Detail&amp;LOCATION=PUBLIC&amp;ID=2212683 | Image Copyright HLP Inc. 2021 | Description: Lila is a small black cat. About six pounds. Can’t see well, usually both pupils a dilated. She needs meds for blood pressure and her thyroid. Tends to be extremely vocal. Missing both canines on left side of her mouth.&lt;p/&gt;Age: Over 1 year&lt;p/&gt;Location Lost: 7835 S 126th st&lt;p/&gt;Notes: Lila is a small black cat. About six pounds. Can’t see well. She needs meds for blood pressure and her thyroid.&lt;p/&gt;Lost Date: 12/14/2020&lt;p/&gt;     | NA |\n| K21-133834 | A629695 | Regional Animal Services of King County | FOUND | https://petharbor.com/pet.asp?uaid=KING.A629695                                                                          | King County Pet Adoption Center 21615 64TH AVE S KENT, WA 98032 | NA      | Cat      | 1 YEAR      | Male          | ⋯ | SEATTLE  | WA | 98178 | KING COUNTY  | NA | NA | https://petharbor.com/get_image.asp?RES=Detail&amp;LOCATION=KING&amp;ID=A629695   | Image Copyright HLP Inc. 2021 | Received on: 2021-01-11&lt;p/&gt; Found Near: 12400 84TH AVE S, SEATTLE WA 98178&lt;p/&gt; Description: Org Tabby Male Domestic Longhair Cat&lt;p/&gt; Age: 1 YEAR&lt;p/&gt; Current Location: King County Pet Adoption Center 21615 64TH AVE S KENT, WA 98032&lt;p/&gt;                                                                                                                                                                                                                | NA |\n| K20-133358 | A628078 | Regional Animal Services of King County | LOST  | https://petharbor.com/PublicDetail.asp?searchtype=PUBFOUND&amp;view=sysadm.v_animal&amp;shelterlist='KING'&amp;where=type&amp;ID=2213139 | LOST                                                            | Simon   | Cat      | Over 1 year | Male          | ⋯ | NA       | NA |    NA | JURISDICTION | NA | NA | https://petharbor.com/get_image.asp?RES=Detail&amp;LOCATION=PUBLIC&amp;ID=2213139 | Image Copyright HLP Inc. 2021 | Description: Simon has sky colored blue eyes, he looks like he has eyeliner on and his nose is outlined in black.  He is skittish and shy.  Simon weighs 13 lbs so is a big boy. He doesn't have a collar and is mostly white but has black, light brown, and brown too&lt;p/&gt;Age: Over 1 year&lt;p/&gt;Location Lost: 2006 NE 158th Street&lt;p/&gt;Notes: Simon is very food motivated so he may come to you if you offer food or treats.&lt;p/&gt;Lost Date: 12/14/2020&lt;p/&gt; | NA |\n| K20-133177 | A520828 | Regional Animal Services of King County | LOST  | https://petharbor.com/PublicDetail.asp?searchtype=PUBFOUND&amp;view=sysadm.v_animal&amp;shelterlist='KING'&amp;where=type&amp;ID=2209496 | LOST                                                            | Rubee   | Dog      | Over 1 year | Spayed Female | ⋯ | NA       | NA |    NA | JURISDICTION | NA | NA | https://petharbor.com/get_image.asp?RES=Detail&amp;LOCATION=PUBLIC&amp;ID=2209496 | Image Copyright HLP Inc. 2021 | Description: Orange coat short legs. Looks like a Golden Retriever - Corgi mix.&lt;p/&gt;Age: Over 1 year&lt;p/&gt;Location Lost: 2500 block of Perkins Way NE&lt;p/&gt;Notes: Orange coat, short legs. Looks like a golden retriever - Corgi mix. Skittish with strangers.&lt;p/&gt;Lost Date: 12/06/2020&lt;p/&gt;                                                                                                                                                                    | NA |\n| K20-133370 | A628120 | Regional Animal Services of King County | FOUND | https://kingcounty.gov/depts/regional-animal-services/about-us/overview.aspx                                             | NA                                                              | Diamond | Dead Dog | NO AGE      | Female        | ⋯ | BELLEVUE | WA | 98005 | BELLEVUE     | NA | NA | NA                                                                        | Image Copyright HLP Inc. 2021 | Received on: 2020-12-16&lt;p/&gt; Found Near: 2200 132ND AVE SE, BELLEVUE WA 98005&lt;p/&gt; Description: No Prvided Female Pit Bull Dog&lt;p/&gt; Age: NO AGE&lt;p/&gt;                                                                                                                                                                                                                                                                                                          | NA |\n\n",
            "text/html": [
              "<table>\n",
              "<caption>A tibble: 6 × 25</caption>\n",
              "<thead>\n",
              "\t<tr><th scope=col>impound_no</th><th scope=col>Animal_ID</th><th scope=col>Data_Source</th><th scope=col>Record_Type</th><th scope=col>Link</th><th scope=col>Current_Location</th><th scope=col>Animal_Name</th><th scope=col>animal_type</th><th scope=col>Age</th><th scope=col>Animal_Gender</th><th scope=col>⋯</th><th scope=col>City</th><th scope=col>State</th><th scope=col>Zip</th><th scope=col>jurisdiction</th><th scope=col>obfuscated_latitude</th><th scope=col>obfuscated_longitude</th><th scope=col>Image</th><th scope=col>image_alt_text</th><th scope=col>Memo</th><th scope=col>Temperament</th></tr>\n",
              "\t<tr><th scope=col>&lt;chr&gt;</th><th scope=col>&lt;chr&gt;</th><th scope=col>&lt;chr&gt;</th><th scope=col>&lt;chr&gt;</th><th scope=col>&lt;chr&gt;</th><th scope=col>&lt;chr&gt;</th><th scope=col>&lt;chr&gt;</th><th scope=col>&lt;chr&gt;</th><th scope=col>&lt;chr&gt;</th><th scope=col>&lt;chr&gt;</th><th scope=col>⋯</th><th scope=col>&lt;chr&gt;</th><th scope=col>&lt;chr&gt;</th><th scope=col>&lt;dbl&gt;</th><th scope=col>&lt;chr&gt;</th><th scope=col>&lt;dbl&gt;</th><th scope=col>&lt;dbl&gt;</th><th scope=col>&lt;chr&gt;</th><th scope=col>&lt;chr&gt;</th><th scope=col>&lt;chr&gt;</th><th scope=col>&lt;chr&gt;</th></tr>\n",
              "</thead>\n",
              "<tbody>\n",
              "\t<tr><td>K20-133511</td><td>A628593</td><td>Regional Animal Services of King County</td><td>FOUND</td><td>https://petharbor.com/PublicDetail.asp?searchtype=PUBFOUND&amp;view=sysadm.v_animal&amp;shelterlist='KING'&amp;where=type&amp;ID=2216674</td><td><span style=white-space:pre-wrap>In Public Home                                                 </span></td><td><span style=white-space:pre-wrap>NA     </span></td><td><span style=white-space:pre-wrap>Dog     </span></td><td>Over 1 year</td><td><span style=white-space:pre-wrap>Unknown      </span></td><td>⋯</td><td><span style=white-space:pre-wrap>NA      </span></td><td>NA</td><td><span style=white-space:pre-wrap>   NA</span></td><td>JURISDICTION</td><td>NA</td><td>NA</td><td>https://petharbor.com/get_image.asp?RES=Detail&amp;LOCATION=PUBLIC&amp;ID=2216674</td><td>Image Copyright HLP Inc. 2021</td><td><span style=white-space:pre-wrap>Description: Longer/larger light brown chihuahua wandering streets at old Redmond rd and 140th ave in Redmond, WA. Did not come when called. Red collar with metal tags&lt;p/&gt;Age: Over 1 year&lt;p/&gt;Location Found: Old Redmond Rd and 140th Ave NE&lt;p/&gt;Notes: &lt;p/&gt;Found Date: 12/24/2020&lt;p/&gt;Finder Address:  Redmond WA 98052                                                                                                                                 </span></td><td>NA</td></tr>\n",
              "\t<tr><td>K20-133337</td><td>A628019</td><td>Regional Animal Services of King County</td><td>LOST </td><td>https://petharbor.com/PublicDetail.asp?searchtype=PUBFOUND&amp;view=sysadm.v_animal&amp;shelterlist='KING'&amp;where=type&amp;ID=2212683</td><td><span style=white-space:pre-wrap>LOST                                                           </span></td><td><span style=white-space:pre-wrap>Lila   </span></td><td><span style=white-space:pre-wrap>Cat     </span></td><td>Over 1 year</td><td><span style=white-space:pre-wrap>Female       </span></td><td>⋯</td><td>SEATTLE </td><td>WA</td><td>98178</td><td>KING COUNTY </td><td>NA</td><td>NA</td><td>https://petharbor.com/get_image.asp?RES=Detail&amp;LOCATION=PUBLIC&amp;ID=2212683</td><td>Image Copyright HLP Inc. 2021</td><td><span style=white-space:pre-wrap>Description: Lila is a small black cat. About six pounds. Can’t see well, usually both pupils a dilated. She needs meds for blood pressure and her thyroid. Tends to be extremely vocal. Missing both canines on left side of her mouth.&lt;p/&gt;Age: Over 1 year&lt;p/&gt;Location Lost: 7835 S 126th st&lt;p/&gt;Notes: Lila is a small black cat. About six pounds. Can’t see well. She needs meds for blood pressure and her thyroid.&lt;p/&gt;Lost Date: 12/14/2020&lt;p/&gt;    </span></td><td>NA</td></tr>\n",
              "\t<tr><td>K21-133834</td><td>A629695</td><td>Regional Animal Services of King County</td><td>FOUND</td><td><span style=white-space:pre-wrap>https://petharbor.com/pet.asp?uaid=KING.A629695                                                                         </span></td><td>King County Pet Adoption Center 21615 64TH AVE S KENT, WA 98032</td><td><span style=white-space:pre-wrap>NA     </span></td><td><span style=white-space:pre-wrap>Cat     </span></td><td><span style=white-space:pre-wrap>1 YEAR     </span></td><td><span style=white-space:pre-wrap>Male         </span></td><td>⋯</td><td>SEATTLE </td><td>WA</td><td>98178</td><td>KING COUNTY </td><td>NA</td><td>NA</td><td><span style=white-space:pre-wrap>https://petharbor.com/get_image.asp?RES=Detail&amp;LOCATION=KING&amp;ID=A629695  </span></td><td>Image Copyright HLP Inc. 2021</td><td><span style=white-space:pre-wrap>Received on: 2021-01-11&lt;p/&gt; Found Near: 12400 84TH AVE S, SEATTLE WA 98178&lt;p/&gt; Description: Org Tabby Male Domestic Longhair Cat&lt;p/&gt; Age: 1 YEAR&lt;p/&gt; Current Location: King County Pet Adoption Center 21615 64TH AVE S KENT, WA 98032&lt;p/&gt;                                                                                                                                                                                                               </span></td><td>NA</td></tr>\n",
              "\t<tr><td>K20-133358</td><td>A628078</td><td>Regional Animal Services of King County</td><td>LOST </td><td>https://petharbor.com/PublicDetail.asp?searchtype=PUBFOUND&amp;view=sysadm.v_animal&amp;shelterlist='KING'&amp;where=type&amp;ID=2213139</td><td><span style=white-space:pre-wrap>LOST                                                           </span></td><td><span style=white-space:pre-wrap>Simon  </span></td><td><span style=white-space:pre-wrap>Cat     </span></td><td>Over 1 year</td><td><span style=white-space:pre-wrap>Male         </span></td><td>⋯</td><td><span style=white-space:pre-wrap>NA      </span></td><td>NA</td><td><span style=white-space:pre-wrap>   NA</span></td><td>JURISDICTION</td><td>NA</td><td>NA</td><td>https://petharbor.com/get_image.asp?RES=Detail&amp;LOCATION=PUBLIC&amp;ID=2213139</td><td>Image Copyright HLP Inc. 2021</td><td><span style=white-space:pre-wrap>Description: Simon has sky colored blue eyes, he looks like he has eyeliner on and his nose is outlined in black.  He is skittish and shy.  Simon weighs 13 lbs so is a big boy. He doesn't have a collar and is mostly white but has black, light brown, and brown too&lt;p/&gt;Age: Over 1 year&lt;p/&gt;Location Lost: 2006 NE 158th Street&lt;p/&gt;Notes: Simon is very food motivated so he may come to you if you offer food or treats.&lt;p/&gt;Lost Date: 12/14/2020&lt;p/&gt;</span></td><td>NA</td></tr>\n",
              "\t<tr><td>K20-133177</td><td>A520828</td><td>Regional Animal Services of King County</td><td>LOST </td><td>https://petharbor.com/PublicDetail.asp?searchtype=PUBFOUND&amp;view=sysadm.v_animal&amp;shelterlist='KING'&amp;where=type&amp;ID=2209496</td><td><span style=white-space:pre-wrap>LOST                                                           </span></td><td><span style=white-space:pre-wrap>Rubee  </span></td><td><span style=white-space:pre-wrap>Dog     </span></td><td>Over 1 year</td><td>Spayed Female</td><td>⋯</td><td><span style=white-space:pre-wrap>NA      </span></td><td>NA</td><td><span style=white-space:pre-wrap>   NA</span></td><td>JURISDICTION</td><td>NA</td><td>NA</td><td>https://petharbor.com/get_image.asp?RES=Detail&amp;LOCATION=PUBLIC&amp;ID=2209496</td><td>Image Copyright HLP Inc. 2021</td><td><span style=white-space:pre-wrap>Description: Orange coat short legs. Looks like a Golden Retriever - Corgi mix.&lt;p/&gt;Age: Over 1 year&lt;p/&gt;Location Lost: 2500 block of Perkins Way NE&lt;p/&gt;Notes: Orange coat, short legs. Looks like a golden retriever - Corgi mix. Skittish with strangers.&lt;p/&gt;Lost Date: 12/06/2020&lt;p/&gt;                                                                                                                                                                   </span></td><td>NA</td></tr>\n",
              "\t<tr><td>K20-133370</td><td>A628120</td><td>Regional Animal Services of King County</td><td>FOUND</td><td><span style=white-space:pre-wrap>https://kingcounty.gov/depts/regional-animal-services/about-us/overview.aspx                                            </span></td><td><span style=white-space:pre-wrap>NA                                                             </span></td><td>Diamond</td><td>Dead Dog</td><td><span style=white-space:pre-wrap>NO AGE     </span></td><td><span style=white-space:pre-wrap>Female       </span></td><td>⋯</td><td>BELLEVUE</td><td>WA</td><td>98005</td><td><span style=white-space:pre-wrap>BELLEVUE    </span></td><td>NA</td><td>NA</td><td><span style=white-space:pre-wrap>NA                                                                       </span></td><td>Image Copyright HLP Inc. 2021</td><td><span style=white-space:pre-wrap>Received on: 2020-12-16&lt;p/&gt; Found Near: 2200 132ND AVE SE, BELLEVUE WA 98005&lt;p/&gt; Description: No Prvided Female Pit Bull Dog&lt;p/&gt; Age: NO AGE&lt;p/&gt;                                                                                                                                                                                                                                                                                                         </span></td><td>NA</td></tr>\n",
              "</tbody>\n",
              "</table>\n"
            ]
          },
          "metadata": {
            "tags": []
          }
        },
        {
          "output_type": "display_data",
          "data": {
            "text/plain": [
              "[1] 169  25"
            ],
            "text/latex": "\\begin{enumerate*}\n\\item 169\n\\item 25\n\\end{enumerate*}\n",
            "text/markdown": "1. 169\n2. 25\n\n\n",
            "text/html": [
              "<style>\n",
              ".list-inline {list-style: none; margin:0; padding: 0}\n",
              ".list-inline>li {display: inline-block}\n",
              ".list-inline>li:not(:last-child)::after {content: \"\\00b7\"; padding: 0 .5ex}\n",
              "</style>\n",
              "<ol class=list-inline><li>169</li><li>25</li></ol>\n"
            ]
          },
          "metadata": {
            "tags": []
          }
        }
      ]
    },
    {
      "cell_type": "markdown",
      "metadata": {
        "id": "QBUt5gi7vX4v"
      },
      "source": [
        "# Verification that data was read-in correcly"
      ]
    },
    {
      "cell_type": "markdown",
      "metadata": {
        "id": "ZvOZ7ryQvV-n"
      },
      "source": [
        "A good habit is to ensure that the data was successfully loaded into R. In this case, the dataset can be opened locally on your machine. Often the default is that *.csv files will open in Excel.\r\n",
        "\r\n",
        "You should verify that the number of rows and columns match those that were read into R"
      ]
    },
    {
      "cell_type": "markdown",
      "metadata": {
        "id": "zSq1FqdFwyUO"
      },
      "source": [
        ""
      ]
    },
    {
      "cell_type": "markdown",
      "metadata": {
        "id": "1HVYacY-wygS"
      },
      "source": [
        ""
      ]
    },
    {
      "cell_type": "code",
      "metadata": {
        "id": "T6lLxiSOwyvc"
      },
      "source": [
        ""
      ],
      "execution_count": null,
      "outputs": []
    }
  ]
}