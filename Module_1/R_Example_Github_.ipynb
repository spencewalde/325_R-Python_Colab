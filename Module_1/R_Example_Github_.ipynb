{
  "nbformat": 4,
  "nbformat_minor": 0,
  "metadata": {
    "colab": {
      "name": "R Example Github .ipynb",
      "provenance": [],
      "authorship_tag": "ABX9TyM4dWp/pf22e6uJlToJhaSA",
      "include_colab_link": true
    },
    "kernelspec": {
      "name": "ir",
      "display_name": "R"
    }
  },
  "cells": [
    {
      "cell_type": "markdown",
      "metadata": {
        "id": "view-in-github",
        "colab_type": "text"
      },
      "source": [
        "<a href=\"https://colab.research.google.com/github/christophermalone/DSCI325/blob/main/R_Example_Github_.ipynb\" target=\"_parent\"><img src=\"https://colab.research.google.com/assets/colab-badge.svg\" alt=\"Open In Colab\"/></a>"
      ]
    },
    {
      "cell_type": "markdown",
      "metadata": {
        "id": "g9RxG8VcIIoZ"
      },
      "source": [
        "Notebook From GitHub"
      ]
    },
    {
      "cell_type": "markdown",
      "metadata": {
        "id": "rpc-hxVAIQMt"
      },
      "source": [
        "Name: Chris Malone <br>\r\n",
        "Date: January 14 2021"
      ]
    },
    {
      "cell_type": "code",
      "metadata": {
        "id": "De9tKkurIdWH"
      },
      "source": [
        "#Code Cell that includes a string stored in a vector\r\n",
        "abc <- c(\"a\", \"b\", \"c\")"
      ],
      "execution_count": 1,
      "outputs": []
    }
  ]
}