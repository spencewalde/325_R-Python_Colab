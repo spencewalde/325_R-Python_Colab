{
  "nbformat": 4,
  "nbformat_minor": 0,
  "metadata": {
    "colab": {
      "name": "Copy of Module1_Part3B.ipynb",
      "provenance": []
    },
    "kernelspec": {
      "name": "python3",
      "display_name": "Python 3"
    }
  },
  "cells": [
    {
      "cell_type": "markdown",
      "metadata": {
        "id": "emY8KQasF017"
      },
      "source": [
        "# Module 1 | Part 3B: Downloading a <strong>Private</strong> File From G Drive "
      ]
    },
    {
      "cell_type": "markdown",
      "metadata": {
        "id": "xZcJZMdoGMR3"
      },
      "source": [
        "Once again, downloading a private file from G Drive requires two steps.\r\n",
        "\r\n",
        "\r\n",
        "1.   Mount G Drive to this Colab session (can only be done with a Python Notebook)\r\n",
        "2.   Read dataset into R\r\n",
        "\r\n"
      ]
    },
    {
      "cell_type": "markdown",
      "metadata": {
        "id": "YFP273IeGlr_"
      },
      "source": [
        " ## Mount G Drive using Python Notebook"
      ]
    },
    {
      "cell_type": "markdown",
      "metadata": {
        "id": "tANecC1eLJjj"
      },
      "source": [
        "Note:  Mounting a G Drive can only be done with a Python Notebook."
      ]
    },
    {
      "cell_type": "markdown",
      "metadata": {
        "id": "whGuFJWWH7Uz"
      },
      "source": [
        "To <strong>mount</strong> a G Drive, select the Mount Drive icon."
      ]
    },
    {
      "cell_type": "markdown",
      "metadata": {
        "id": "69swzsoTGxQf"
      },
      "source": [
        "\r\n",
        "\r\n",
        "<p align='center'><img src=\"https://drive.google.com/uc?export=view&id=1s8bK9e59OFNL36Rh46JAn_bBH9oZspwK\"></p>\r\n",
        "\r\n"
      ]
    },
    {
      "cell_type": "markdown",
      "metadata": {
        "id": "cGn98vXTISu1"
      },
      "source": [
        "Next, select Connect to Google Drive.\r\n",
        "\r\n",
        "<p align='center'><img src=\"https://drive.google.com/uc?export=view&id=10ChJEGZNqqQsKyCYoPAqAclnwe73Cjxl\"></p>\r\n"
      ]
    },
    {
      "cell_type": "markdown",
      "metadata": {
        "id": "wUke3KY6J9ua"
      },
      "source": [
        "Upon a successful connection, the G Drive should be mounted.  The path of this new drive is drive/MyDrive.\r\n",
        "\r\n",
        "G Drive Path: <strong>drive/MyDrive/</strong>"
      ]
    },
    {
      "cell_type": "markdown",
      "metadata": {
        "id": "r1if9v7dIuJf"
      },
      "source": [
        "\r\n",
        "<p align='center'><img src=\"https://drive.google.com/uc?export=view&id=1a9XHEHiBgULql680sx4MmLWmbECy1Gje\"></p>\r\n",
        "\r\n"
      ]
    },
    {
      "cell_type": "markdown",
      "metadata": {
        "id": "gczamCSQGpXe"
      },
      "source": [
        "## Reading data into R with R Magic"
      ]
    },
    {
      "cell_type": "markdown",
      "metadata": {
        "id": "rCw6pLJ0LFBc"
      },
      "source": [
        "This notebook was initated with Python.  R can be used within this Python Notebook through the use of something called R Magic.  In Notebooks, Magic allows for multiple programs to be used within the same notebook."
      ]
    },
    {
      "cell_type": "markdown",
      "metadata": {
        "id": "VIdYXC7DLw5I"
      },
      "source": [
        "The following command will allow us to use R within this noteboook.  The command must be run before R code can run."
      ]
    },
    {
      "cell_type": "code",
      "metadata": {
        "colab": {
          "base_uri": "https://localhost:8080/"
        },
        "id": "9czdg9sK5DQP",
        "outputId": "b74a36c1-845e-412f-c7a5-6ef325fd8fc8"
      },
      "source": [
        "%load_ext rpy2.ipython"
      ],
      "execution_count": null,
      "outputs": [
        {
          "output_type": "stream",
          "text": [
            "/usr/local/lib/python3.6/dist-packages/rpy2/robjects/pandas2ri.py:14: FutureWarning: pandas.core.index is deprecated and will be removed in a future version.  The public classes are available in the top-level namespace.\n",
            "  from pandas.core.index import Index as PandasIndex\n",
            "/usr/local/lib/python3.6/dist-packages/rpy2/robjects/pandas2ri.py:34: UserWarning: pandas >= 1.0 is not supported.\n",
            "  warnings.warn('pandas >= 1.0 is not supported.')\n"
          ],
          "name": "stderr"
        }
      ]
    },
    {
      "cell_type": "markdown",
      "metadata": {
        "id": "md09bigQL5f7"
      },
      "source": [
        "In order for R to run in this Python Notebook, the code block must start with %%R.  This is show below."
      ]
    },
    {
      "cell_type": "code",
      "metadata": {
        "id": "oUdWz0oLF7XX"
      },
      "source": [
        "%%R\r\n",
        "\r\n",
        "#reading in the NYC Dog Bite dataset using read.csv().\r\n",
        "NYC_Dog_Bites = read.csv(\"/content/drive/MyDrive/DSCI325/Datasets/NYC_Dog_Bites_Data.csv\")"
      ],
      "execution_count": null,
      "outputs": []
    },
    {
      "cell_type": "code",
      "metadata": {
        "colab": {
          "base_uri": "https://localhost:8080/"
        },
        "id": "fhgpj2Tt5B5E",
        "outputId": "a7545a48-f5a6-49fd-d46e-5eff17241bd9"
      },
      "source": [
        "%%R \r\n",
        "\r\n",
        "#Running the listing command to see contents\r\n",
        "ls()"
      ],
      "execution_count": null,
      "outputs": [
        {
          "output_type": "stream",
          "text": [
            "[1] \"NYC_Dog_Bites\"\n"
          ],
          "name": "stdout"
        }
      ]
    },
    {
      "cell_type": "markdown",
      "metadata": {
        "id": "8lJhuSNzM3tU"
      },
      "source": [
        "A quick check of head() and tail() to verify that file was read in correctly."
      ]
    },
    {
      "cell_type": "code",
      "metadata": {
        "id": "qeOrsacL5JMj",
        "colab": {
          "base_uri": "https://localhost:8080/"
        },
        "outputId": "2c4bb712-7f30-4f24-ba20-2c9c2fd800db"
      },
      "source": [
        "%%R\r\n",
        "\r\n",
        "#running head()\r\n",
        "head(NYC_Dog_Bites)"
      ],
      "execution_count": null,
      "outputs": [
        {
          "output_type": "stream",
          "text": [
            "  UniqueID      DateOfBite Species                              Breed Age\n",
            "1        1 January 02 2015     DOG                   Poodle, Standard   3\n",
            "2        2 January 02 2015     DOG                              HUSKY    \n",
            "3        3 January 02 2015     DOG                                       \n",
            "4        4 January 01 2015     DOG American Pit Bull Terrier/Pit Bull   6\n",
            "5        5 January 03 2015     DOG American Pit Bull Terrier/Pit Bull   1\n",
            "6        6 January 05 2015     DOG American Pit Bull Terrier/Pit Bull   1\n",
            "  Gender SpayNeuter  Borough ZipCode\n",
            "1      M       true Brooklyn   11238\n",
            "2      U      false Brooklyn   11249\n",
            "3      U      false Brooklyn        \n",
            "4      M      false Brooklyn   11221\n",
            "5      M      false Brooklyn   11207\n",
            "6      F      false Brooklyn   11209\n"
          ],
          "name": "stdout"
        }
      ]
    },
    {
      "cell_type": "code",
      "metadata": {
        "colab": {
          "base_uri": "https://localhost:8080/"
        },
        "id": "ig3oCiDXM8lU",
        "outputId": "8348ee83-e18c-460e-b420-5c03617609b4"
      },
      "source": [
        "%%R\r\n",
        "\r\n",
        "#running tail()\r\n",
        "tail(NYC_Dog_Bites)"
      ],
      "execution_count": null,
      "outputs": [
        {
          "output_type": "stream",
          "text": [
            "      UniqueID       DateOfBite Species                Breed Age Gender\n",
            "10275    10275 December 21 2017     DOG             Pit Bull   1      M\n",
            "10276    10276 December 24 2017     DOG        CHIWEENIE MIX   7      M\n",
            "10277    10277 December 24 2017     DOG               DUNKER   5      F\n",
            "10278    10278 December 21 2017     DOG Schnauzer, Miniature 10M      M\n",
            "10279    10279 December 28 2017     DOG          Mixed/Other          F\n",
            "10280    10280 December 29 2017     DOG       BOXER/PIT BULL          M\n",
            "      SpayNeuter       Borough ZipCode\n",
            "10275      false Staten Island   10303\n",
            "10276       true Staten Island   10303\n",
            "10277       true Staten Island   10303\n",
            "10278       true Staten Island   10312\n",
            "10279      false Staten Island   10308\n",
            "10280      false Staten Island   10314\n"
          ],
          "name": "stdout"
        }
      ]
    }
  ]
}