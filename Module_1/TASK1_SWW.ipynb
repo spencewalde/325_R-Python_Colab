{
  "nbformat": 4,
  "nbformat_minor": 0,
  "metadata": {
    "colab": {
      "name": "TASK1_SWW.ipynb",
      "provenance": [],
      "collapsed_sections": []
    },
    "kernelspec": {
      "name": "ir",
      "display_name": "R"
    }
  },
  "cells": [
    {
      "cell_type": "markdown",
      "metadata": {
        "id": "qxz9x0KmCPWu"
      },
      "source": [
        "# Task #1 - Fixing Issues Related to Reading in the US Zipcode data file \r\n",
        "Points: 10\r\n",
        "\r\n",
        "Due: Tuesday, Jan 26"
      ]
    },
    {
      "cell_type": "markdown",
      "metadata": {
        "id": "-7o82uGrMdIb"
      },
      "source": [
        "In Module 1 | Part 4 the US Zipcode dataset was read into R.  R failed to read in about 1200 rows of this dataset.  In paticular, the text file contains 41,470 unique zipcodes, but R only readin 40,268.  \r\n",
        "\r\n",
        "<strong>Task Requirements</strong>\r\n",
        "\r\n",
        "1.   Figure out what happened to the 1200 missing rows\r\n",
        "2.   Correct the issue\r\n",
        "3.   Re-read the data in and verify that all rows have been successfully included\r\n",
        "\r\n",
        "<strong>Hints</strong>: \r\n",
        "1.   The issue first appeared when reading in data from Iowa.  It also occured when reading in data Idaho, Illinois, etc. \r\n",
        "2.   I fixed this issue by adding something to the read.table() command.  Figure out the problem and then figure out how to get the read.table() functin to overcome this problem."
      ]
    },
    {
      "cell_type": "markdown",
      "metadata": {
        "id": "At64flMI6fVT"
      },
      "source": [
        "<strong>What do I turn in?</strong>\r\n",
        "\r\n",
        "1. You will be asked to turn in a link to your iPython Notebook\r\n",
        "2. Using the text block below, explain why the 1200 were missing and provide an brief explanation of how you fixed this issue.\r\n",
        "3. Proof that data was read in correctly, e.g. provide output from the dim() function\r\n"
      ]
    },
    {
      "cell_type": "markdown",
      "metadata": {
        "id": "LD_ZNMzR7S_S"
      },
      "source": [
        "#read.table()\r\n",
        "read.table(file, header = FALSE, sep = \"\", quote = \"\\\"'\",\r\n",
        "           dec = \".\", numerals = c(\"allow.loss\", \"warn.loss\", \"no.loss\"),\r\n",
        "           row.names, col.names, as.is = !stringsAsFactors,\r\n",
        "           na.strings = \"NA\", colClasses = NA, nrows = -1,\r\n",
        "           skip = 0, check.names = TRUE, fill = !blank.lines.skip,\r\n",
        "           strip.white = FALSE, blank.lines.skip = TRUE,\r\n",
        "           comment.char = \"#\",\r\n",
        "           allowEscapes = FALSE, flush = FALSE,\r\n",
        "           stringsAsFactors = default.stringsAsFactors(),\r\n",
        "           fileEncoding = \"\", encoding = \"unknown\", text, skipNul = FALSE)\r\n",
        "\r\n",
        "#read.delim()\r\n",
        "read.delim(file, header = TRUE, sep = \"\\t\", quote = \"\\\"\",\r\n",
        "           dec = \".\", fill = TRUE, comment.char = \"\", …)\r\n",
        "\r\n",
        "#Answer\r\n",
        "\r\n",
        "\"You can also use the read.delim() function as, similiar to read.csv(), read.delim() is a wrapper of read.table() with defaults set specifically for tab delimited files.\" (github.io)\r\n",
        "\r\n",
        "some of the most common problems with read.table() is the fact that it has all of these default values you can use to specify how you want to read your file.\r\n",
        "these default values tend to have a lot of problems with reading delimited text files like US.txt\r\n",
        "read.table defaults to:\r\n",
        "\r\n",
        "-how it reads quotes is single quotes not double quotes\r\n",
        "\r\n",
        "-all columns are read as char unless colClasses is specified\r\n",
        "so every value is read with quotes\r\n",
        "-blank.lines.skip = true\r\n",
        "\r\n",
        "Read.delim simplifies what read.table() does, specificly for those small errors like reading quotes or comments wrong or classifying whitespace incorrectly\r\n",
        "\r\n",
        "\r\n",
        "\r\n",
        "\r\n",
        "\r\n",
        "# http://uc-r.github.io/import_text_files"
      ]
    },
    {
      "cell_type": "markdown",
      "metadata": {
        "id": "1cFJWgbW7dUU"
      },
      "source": [
        "\r\n",
        "\r\n",
        "---\r\n",
        "\r\n",
        "---\r\n",
        "\r\n",
        "\r\n",
        "\r\n"
      ]
    },
    {
      "cell_type": "markdown",
      "metadata": {
        "id": "XDhxPJ1C7hy5"
      },
      "source": [
        "# Code for Task #1"
      ]
    },
    {
      "cell_type": "markdown",
      "metadata": {
        "id": "fBexa6FBMpO5"
      },
      "source": [
        "## Using the download.file() function"
      ]
    },
    {
      "cell_type": "code",
      "metadata": {
        "id": "eWZnqGeyCQG-"
      },
      "source": [
        "#Creating a temporary directory for download\r\n",
        "Zipcode_Directory <- tempdir()"
      ],
      "execution_count": 1,
      "outputs": []
    },
    {
      "cell_type": "code",
      "metadata": {
        "id": "Ve3naWo3CXnn"
      },
      "source": [
        "#Creating a temporary file \r\n",
        "Zipcode_File <-tempfile()"
      ],
      "execution_count": 2,
      "outputs": []
    },
    {
      "cell_type": "code",
      "metadata": {
        "id": "-afZLMNFCXw2"
      },
      "source": [
        "#Downlaod the file, happens to be a zip file thus must be unpacked\r\n",
        "download.file(url=\"http://download.geonames.org/export/zip/US.zip\", destfile=Zipcode_File)"
      ],
      "execution_count": 3,
      "outputs": []
    },
    {
      "cell_type": "code",
      "metadata": {
        "id": "Asq8PDTuCX53"
      },
      "source": [
        "#Unzipping the file\r\n",
        "unzip(zipfile=Zipcode_File, exdir=Zipcode_Directory)"
      ],
      "execution_count": 4,
      "outputs": []
    },
    {
      "cell_type": "code",
      "metadata": {
        "id": "xiS2t2LcCzFQ"
      },
      "source": [
        "#Using file.path() function to create the necessary path to the file.\r\n",
        "filelocation <- file.path(Zipcode_Directory,\"US.txt\")"
      ],
      "execution_count": 5,
      "outputs": []
    },
    {
      "cell_type": "markdown",
      "metadata": {
        "id": "gE-aXJuO5ERs"
      },
      "source": [
        "Reading in the file using the read.table() function."
      ]
    },
    {
      "cell_type": "code",
      "metadata": {
        "id": "l_bxaFLzCX-v",
        "colab": {
          "base_uri": "https://localhost:8080/",
          "height": 67
        },
        "outputId": "f187fdbd-aff2-4df7-9ec0-75b04bd78d94"
      },
      "source": [
        "####### answer ######\r\n",
        "\r\n",
        "\r\n",
        "Zipcode_Data <- read.table(file=filelocation, sep=\"\\t\", header=FALSE)\r\n",
        "Zipcode_Data2 <- read.table(file=filelocation, sep=\"\\t\", header=FALSE, quote=\"\")\r\n",
        "#specific function for tab delimited .txt files that adjust the default parameters\r\n",
        "Zipcode_Datadelim <- read.delim(file=filelocation, sep = \"\\t\", header =FALSE)\r\n",
        "#dim for original table\r\n",
        "dim(Zipcode_Data)\r\n",
        "#dim for with quotes parameter changed\r\n",
        "dim(Zipcode_Data2) \r\n",
        "#dim for delimit function\r\n",
        "dim(Zipcode_Datadelim)"
      ],
      "execution_count": 6,
      "outputs": [
        {
          "output_type": "display_data",
          "data": {
            "text/plain": [
              "[1] 40268    12"
            ],
            "text/latex": "\\begin{enumerate*}\n\\item 40268\n\\item 12\n\\end{enumerate*}\n",
            "text/markdown": "1. 40268\n2. 12\n\n\n",
            "text/html": [
              "<style>\n",
              ".list-inline {list-style: none; margin:0; padding: 0}\n",
              ".list-inline>li {display: inline-block}\n",
              ".list-inline>li:not(:last-child)::after {content: \"\\00b7\"; padding: 0 .5ex}\n",
              "</style>\n",
              "<ol class=list-inline><li>40268</li><li>12</li></ol>\n"
            ]
          },
          "metadata": {
            "tags": []
          }
        },
        {
          "output_type": "display_data",
          "data": {
            "text/plain": [
              "[1] 41470    12"
            ],
            "text/latex": "\\begin{enumerate*}\n\\item 41470\n\\item 12\n\\end{enumerate*}\n",
            "text/markdown": "1. 41470\n2. 12\n\n\n",
            "text/html": [
              "<style>\n",
              ".list-inline {list-style: none; margin:0; padding: 0}\n",
              ".list-inline>li {display: inline-block}\n",
              ".list-inline>li:not(:last-child)::after {content: \"\\00b7\"; padding: 0 .5ex}\n",
              "</style>\n",
              "<ol class=list-inline><li>41470</li><li>12</li></ol>\n"
            ]
          },
          "metadata": {
            "tags": []
          }
        },
        {
          "output_type": "display_data",
          "data": {
            "text/plain": [
              "[1] 41470    12"
            ],
            "text/latex": "\\begin{enumerate*}\n\\item 41470\n\\item 12\n\\end{enumerate*}\n",
            "text/markdown": "1. 41470\n2. 12\n\n\n",
            "text/html": [
              "<style>\n",
              ".list-inline {list-style: none; margin:0; padding: 0}\n",
              ".list-inline>li {display: inline-block}\n",
              ".list-inline>li:not(:last-child)::after {content: \"\\00b7\"; padding: 0 .5ex}\n",
              "</style>\n",
              "<ol class=list-inline><li>41470</li><li>12</li></ol>\n"
            ]
          },
          "metadata": {
            "tags": []
          }
        }
      ]
    },
    {
      "cell_type": "code",
      "metadata": {
        "id": "WdsdK4TiJ5BV"
      },
      "source": [
        "#Creating new names for the Zipcode_Data data.frame\r\n",
        "names(Zipcode_Data2) <- c(\"Country\", \"Zipcode\", \"Location\", \"StateName\", \"StateAbbrevation\",\"CountyName\", \"CountyAbbreviation\", \"CommunityName\", \"CommunityAbbreviation\", \"Latitude\", \"Longitude\", \"Accuracy\")"
      ],
      "execution_count": 9,
      "outputs": []
    },
    {
      "cell_type": "code",
      "metadata": {
        "colab": {
          "base_uri": "https://localhost:8080/",
          "height": 198
        },
        "id": "3sA7VvqrK6_V",
        "outputId": "bb6d0895-6823-48ed-b23c-817dfb0d9b22"
      },
      "source": [
        "head(Zipcode_Data2)"
      ],
      "execution_count": 11,
      "outputs": [
        {
          "output_type": "display_data",
          "data": {
            "text/plain": [
              "  Country Zipcode Location   StateName StateAbbrevation CountyName         \n",
              "1 US      99553   Akutan     Alaska    AK               Aleutians East     \n",
              "2 US      99571   Cold Bay   Alaska    AK               Aleutians East     \n",
              "3 US      99583   False Pass Alaska    AK               Aleutians East     \n",
              "4 US      99612   King Cove  Alaska    AK               Aleutians East     \n",
              "5 US      99661   Sand Point Alaska    AK               Aleutians East     \n",
              "6 US      99546   Adak       Alaska    AK               Aleutians West (CA)\n",
              "  CountyAbbreviation CommunityName CommunityAbbreviation Latitude Longitude\n",
              "1 13                               NA                    54.1430  -165.7854\n",
              "2 13                               NA                    55.1858  -162.7211\n",
              "3 13                               NA                    54.8542  -163.4113\n",
              "4 13                               NA                    55.0628  -162.3056\n",
              "5 13                               NA                    55.3192  -160.4914\n",
              "6 16                               NA                    51.8740  -176.6340\n",
              "  Accuracy\n",
              "1 1       \n",
              "2 1       \n",
              "3 1       \n",
              "4 1       \n",
              "5 1       \n",
              "6 1       "
            ],
            "text/latex": "A data.frame: 6 × 12\n\\begin{tabular}{r|llllllllllll}\n  & Country & Zipcode & Location & StateName & StateAbbrevation & CountyName & CountyAbbreviation & CommunityName & CommunityAbbreviation & Latitude & Longitude & Accuracy\\\\\n  & <chr> & <int> & <chr> & <chr> & <chr> & <chr> & <int> & <chr> & <int> & <dbl> & <dbl> & <int>\\\\\n\\hline\n\t1 & US & 99553 & Akutan     & Alaska & AK & Aleutians East      & 13 &  & NA & 54.1430 & -165.7854 & 1\\\\\n\t2 & US & 99571 & Cold Bay   & Alaska & AK & Aleutians East      & 13 &  & NA & 55.1858 & -162.7211 & 1\\\\\n\t3 & US & 99583 & False Pass & Alaska & AK & Aleutians East      & 13 &  & NA & 54.8542 & -163.4113 & 1\\\\\n\t4 & US & 99612 & King Cove  & Alaska & AK & Aleutians East      & 13 &  & NA & 55.0628 & -162.3056 & 1\\\\\n\t5 & US & 99661 & Sand Point & Alaska & AK & Aleutians East      & 13 &  & NA & 55.3192 & -160.4914 & 1\\\\\n\t6 & US & 99546 & Adak       & Alaska & AK & Aleutians West (CA) & 16 &  & NA & 51.8740 & -176.6340 & 1\\\\\n\\end{tabular}\n",
            "text/markdown": "\nA data.frame: 6 × 12\n\n| <!--/--> | Country &lt;chr&gt; | Zipcode &lt;int&gt; | Location &lt;chr&gt; | StateName &lt;chr&gt; | StateAbbrevation &lt;chr&gt; | CountyName &lt;chr&gt; | CountyAbbreviation &lt;int&gt; | CommunityName &lt;chr&gt; | CommunityAbbreviation &lt;int&gt; | Latitude &lt;dbl&gt; | Longitude &lt;dbl&gt; | Accuracy &lt;int&gt; |\n|---|---|---|---|---|---|---|---|---|---|---|---|---|\n| 1 | US | 99553 | Akutan     | Alaska | AK | Aleutians East      | 13 | <!----> | NA | 54.1430 | -165.7854 | 1 |\n| 2 | US | 99571 | Cold Bay   | Alaska | AK | Aleutians East      | 13 | <!----> | NA | 55.1858 | -162.7211 | 1 |\n| 3 | US | 99583 | False Pass | Alaska | AK | Aleutians East      | 13 | <!----> | NA | 54.8542 | -163.4113 | 1 |\n| 4 | US | 99612 | King Cove  | Alaska | AK | Aleutians East      | 13 | <!----> | NA | 55.0628 | -162.3056 | 1 |\n| 5 | US | 99661 | Sand Point | Alaska | AK | Aleutians East      | 13 | <!----> | NA | 55.3192 | -160.4914 | 1 |\n| 6 | US | 99546 | Adak       | Alaska | AK | Aleutians West (CA) | 16 | <!----> | NA | 51.8740 | -176.6340 | 1 |\n\n",
            "text/html": [
              "<table>\n",
              "<caption>A data.frame: 6 × 12</caption>\n",
              "<thead>\n",
              "\t<tr><th></th><th scope=col>Country</th><th scope=col>Zipcode</th><th scope=col>Location</th><th scope=col>StateName</th><th scope=col>StateAbbrevation</th><th scope=col>CountyName</th><th scope=col>CountyAbbreviation</th><th scope=col>CommunityName</th><th scope=col>CommunityAbbreviation</th><th scope=col>Latitude</th><th scope=col>Longitude</th><th scope=col>Accuracy</th></tr>\n",
              "\t<tr><th></th><th scope=col>&lt;chr&gt;</th><th scope=col>&lt;int&gt;</th><th scope=col>&lt;chr&gt;</th><th scope=col>&lt;chr&gt;</th><th scope=col>&lt;chr&gt;</th><th scope=col>&lt;chr&gt;</th><th scope=col>&lt;int&gt;</th><th scope=col>&lt;chr&gt;</th><th scope=col>&lt;int&gt;</th><th scope=col>&lt;dbl&gt;</th><th scope=col>&lt;dbl&gt;</th><th scope=col>&lt;int&gt;</th></tr>\n",
              "</thead>\n",
              "<tbody>\n",
              "\t<tr><th scope=row>1</th><td>US</td><td>99553</td><td>Akutan    </td><td>Alaska</td><td>AK</td><td>Aleutians East     </td><td>13</td><td></td><td>NA</td><td>54.1430</td><td>-165.7854</td><td>1</td></tr>\n",
              "\t<tr><th scope=row>2</th><td>US</td><td>99571</td><td>Cold Bay  </td><td>Alaska</td><td>AK</td><td>Aleutians East     </td><td>13</td><td></td><td>NA</td><td>55.1858</td><td>-162.7211</td><td>1</td></tr>\n",
              "\t<tr><th scope=row>3</th><td>US</td><td>99583</td><td>False Pass</td><td>Alaska</td><td>AK</td><td>Aleutians East     </td><td>13</td><td></td><td>NA</td><td>54.8542</td><td>-163.4113</td><td>1</td></tr>\n",
              "\t<tr><th scope=row>4</th><td>US</td><td>99612</td><td>King Cove </td><td>Alaska</td><td>AK</td><td>Aleutians East     </td><td>13</td><td></td><td>NA</td><td>55.0628</td><td>-162.3056</td><td>1</td></tr>\n",
              "\t<tr><th scope=row>5</th><td>US</td><td>99661</td><td>Sand Point</td><td>Alaska</td><td>AK</td><td>Aleutians East     </td><td>13</td><td></td><td>NA</td><td>55.3192</td><td>-160.4914</td><td>1</td></tr>\n",
              "\t<tr><th scope=row>6</th><td>US</td><td>99546</td><td>Adak      </td><td>Alaska</td><td>AK</td><td>Aleutians West (CA)</td><td>16</td><td></td><td>NA</td><td>51.8740</td><td>-176.6340</td><td>1</td></tr>\n",
              "</tbody>\n",
              "</table>\n"
            ]
          },
          "metadata": {
            "tags": []
          }
        }
      ]
    }
  ]
}