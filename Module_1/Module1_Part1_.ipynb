{
  "nbformat": 4,
  "nbformat_minor": 0,
  "metadata": {
    "colab": {
      "name": "Module1_Part1 .ipynb",
      "provenance": [],
      "collapsed_sections": [
        "DTpb86r69_Lv"
      ],
      "authorship_tag": "ABX9TyNv6XP93tnc737d3s6IKDKu",
      "include_colab_link": true
    },
    "kernelspec": {
      "name": "ir",
      "display_name": "R"
    }
  },
  "cells": [
    {
      "cell_type": "markdown",
      "metadata": {
        "id": "view-in-github",
        "colab_type": "text"
      },
      "source": [
        "<a href=\"https://colab.research.google.com/github/christophermalone/DSCI325/blob/main/Module1_Part1_.ipynb\" target=\"_parent\"><img src=\"https://colab.research.google.com/assets/colab-badge.svg\" alt=\"Open In Colab\"/></a>"
      ]
    },
    {
      "cell_type": "markdown",
      "metadata": {
        "id": "KhClO9b02SXA"
      },
      "source": [
        "# Module 1 | Part 1: Reading in Data from Current Colab Session"
      ]
    },
    {
      "cell_type": "markdown",
      "metadata": {
        "id": "AXDYLbzK2o7e"
      },
      "source": [
        "There are two steps involved with reading in data from the current colab session.\r\n",
        "\r\n",
        "1.   Upload a copy of the data into the current colab session\r\n",
        "2.   Read the data into R\r\n",
        "\r\n"
      ]
    },
    {
      "cell_type": "markdown",
      "metadata": {
        "id": "njXGRUIC9Lgs"
      },
      "source": [
        "## Uploading Data into Current Colab Session"
      ]
    },
    {
      "cell_type": "markdown",
      "metadata": {
        "id": "3eGZ0aSg_a5K"
      },
      "source": [
        "A session in Colab is a temporary.  A session starts when a Notebook is opened and closes after a certain amount of inactivity or when exising the browser/tab.  The <strong>sample_data</strong> folder is a commonplace location for data to be stored within a Colab session. "
      ]
    },
    {
      "cell_type": "markdown",
      "metadata": {
        "id": "vpppE9Km9T93"
      },
      "source": [
        "<p align='center'><img src=\"https://drive.google.com/uc?export=view&id=17ozQuchHHuObCsTLmsNArmRhQmV17M6-\"></img></p>\r\n"
      ]
    },
    {
      "cell_type": "markdown",
      "metadata": {
        "id": "DWMRogIl8o_v"
      },
      "source": [
        "The following message is provided upon uploading a data file into the current Colab session. "
      ]
    },
    {
      "cell_type": "markdown",
      "metadata": {
        "id": "T8ULLlSnB4tl"
      },
      "source": [
        "<p align='center'><img src=\"https://drive.google.com/uc?export=view&id=1HiPuxHQx8CukWkvwxXiq9KCpVSgb_goW\"></img></p>"
      ]
    },
    {
      "cell_type": "markdown",
      "metadata": {
        "id": "DTpb86r69_Lv"
      },
      "source": [
        "<table width='100%' ><tr><td bgcolor='green'></td></tr></table>\r\n",
        "\r\n",
        "### Example 1.1.1\r\n",
        "\r\n",
        "A dataset from the City of Austin, TX will be used for this example.  The open data portal is often used for provide datasets to the public.\r\n",
        "\r\n",
        "<i>Data Source</i>: Austin Animal Center Outcomes - [Link](https://data.austintexas.gov/Health-and-Community-Services/Austin-Animal-Center-Outcomes/9t4d-g238)\r\n"
      ]
    },
    {
      "cell_type": "markdown",
      "metadata": {
        "id": "oThX5uQ795F_"
      },
      "source": [
        "The dataset includes information regarding the status of animals as they leave the Austin Animal Center. Click Export to obtain a local copy of this dataset.  For this example, a *.csv copy will be downloaded.\r\n",
        "\r\n",
        "<p align='center'><img src=\"https://drive.google.com/uc?export=view&id=1_ni0aOSg4JxiDSAgATSfdDCNsRPBBwBP\"></img></p> \r\n"
      ]
    },
    {
      "cell_type": "markdown",
      "metadata": {
        "id": "tAg016SeCNZS"
      },
      "source": [
        "<table width='100%' ><tr><td bgcolor='green'></td></tr></table>"
      ]
    },
    {
      "cell_type": "markdown",
      "metadata": {
        "id": "uuYAn9V__aBp"
      },
      "source": [
        "### Details regarding Data via Open Data Portal \r\n",
        "\r\n",
        "The Open Data Portal provides some basic information regarding this dataset.  In particular, the number of rows and columns have been provided (sometimes an estimate is provided instead of the exact value).  In addition, some basic information regarding the columns provided in this dataset is given.\r\n",
        "\r\n",
        "<strong>Definition: </strong>  A dataset that takes on the form of simple rows and columns is sometimes referred to as data in a <strong>table format</strong>.  This data may be referred to as data that is <strong>highly structured</strong>.\r\n"
      ]
    },
    {
      "cell_type": "markdown",
      "metadata": {
        "id": "JDeuj_WIFji8"
      },
      "source": [
        "<p align='center'><img src=\"https://drive.google.com/uc?export=view&id=1FIczRZYbx8aPpTe09utO_SAK-4I83odQ\"></img></p> "
      ]
    },
    {
      "cell_type": "markdown",
      "metadata": {
        "id": "W1FKL1wkCwTy"
      },
      "source": [
        "### Upload data file into colab session\r\n",
        "\r\n",
        "To upload a copy of a dataset into the temporary colab session, simple drag-and-drop the data file into the sample_data directory.  The file will appear upon a successful upload."
      ]
    },
    {
      "cell_type": "markdown",
      "metadata": {
        "id": "wMsHMTaEBq26"
      },
      "source": [
        "\r\n",
        "\r\n",
        "<p align='center'><img src=\"https://drive.google.com/uc?export=view&id=1Ig0TgTwy7SCyYiVCHAmvp6Mv0fudSUUo\"></img></p> \r\n"
      ]
    },
    {
      "cell_type": "markdown",
      "metadata": {
        "id": "zuyxn7jDEbD-"
      },
      "source": [
        "## Reading Data into R"
      ]
    },
    {
      "cell_type": "markdown",
      "metadata": {
        "id": "zQ8N3_SsIh-l"
      },
      "source": [
        "### Using read.csv()"
      ]
    },
    {
      "cell_type": "code",
      "metadata": {
        "id": "e07lUbQ1F1cV"
      },
      "source": [
        "# Reading data in using read.csv via Base R\r\n",
        "AustinAnimalShelter_BaseR <- read.csv(\"/content/sample_data/Austin_Animal_Center_Outcomes.csv\")"
      ],
      "execution_count": 7,
      "outputs": []
    },
    {
      "cell_type": "markdown",
      "metadata": {
        "id": "p37kA-rtIoMO"
      },
      "source": [
        "### Utility Functions for a data.frame"
      ]
    },
    {
      "cell_type": "code",
      "metadata": {
        "id": "hxWnUhHGGrV6"
      },
      "source": [
        "#ls() command can be used to list variables in current session of R\r\n",
        "ls()\r\n",
        "\r\n",
        "#Note View() is a common fuction used to View a dataset // not available in Colab"
      ],
      "execution_count": null,
      "outputs": []
    },
    {
      "cell_type": "code",
      "metadata": {
        "id": "sqX4_96hHP5l"
      },
      "source": [
        "# head() and tail() can be used to see top or bottom of the dataset\r\n",
        "\r\n",
        "#View of top few rows...\r\n",
        "head(AustinAnimalShelter_BaseR)\r\n",
        "\r\n",
        "#View of bottom few rows....\r\n",
        "tail(AustinAnimalShelter_BaseR)"
      ],
      "execution_count": null,
      "outputs": []
    },
    {
      "cell_type": "code",
      "metadata": {
        "colab": {
          "base_uri": "https://localhost:8080/",
          "height": 35
        },
        "id": "3FWqxttNH_5O",
        "outputId": "1a40ac4a-52b6-444f-f5ac-740e8c0ca3b2"
      },
      "source": [
        "# The class() function allows you to identify the variable type\r\n",
        "class(AustinAnimalShelter_BaseR)"
      ],
      "execution_count": 14,
      "outputs": [
        {
          "output_type": "display_data",
          "data": {
            "text/plain": [
              "[1] \"data.frame\""
            ],
            "text/latex": "'data.frame'",
            "text/markdown": "'data.frame'",
            "text/html": [
              "'data.frame'"
            ]
          },
          "metadata": {
            "tags": []
          }
        }
      ]
    },
    {
      "cell_type": "code",
      "metadata": {
        "colab": {
          "base_uri": "https://localhost:8080/"
        },
        "id": "GlJ7WW7cJCQY",
        "outputId": "a16214b4-5fb7-45fc-ef3e-af1796bf0c35"
      },
      "source": [
        "# The str() function allows you to identify the structure of the variable\r\n",
        "str(AustinAnimalShelter_BaseR)"
      ],
      "execution_count": 15,
      "outputs": [
        {
          "output_type": "stream",
          "text": [
            "'data.frame':\t123591 obs. of  12 variables:\n",
            " $ Animal.ID       : chr  \"A794011\" \"A776359\" \"A821648\" \"A720371\" ...\n",
            " $ Name            : chr  \"Chunk\" \"Gizmo\" \"\" \"Moose\" ...\n",
            " $ DateTime        : chr  \"05/08/2019 06:20:00 PM\" \"07/18/2018 04:02:00 PM\" \"08/16/2020 11:38:00 AM\" \"02/13/2016 05:59:00 PM\" ...\n",
            " $ MonthYear       : chr  \"05/08/2019 06:20:00 PM\" \"07/18/2018 04:02:00 PM\" \"08/16/2020 11:38:00 AM\" \"02/13/2016 05:59:00 PM\" ...\n",
            " $ Date.of.Birth   : chr  \"05/02/2017\" \"07/12/2017\" \"08/16/2019\" \"10/08/2015\" ...\n",
            " $ Outcome.Type    : chr  \"Rto-Adopt\" \"Adoption\" \"Euthanasia\" \"Adoption\" ...\n",
            " $ Outcome.Subtype : chr  \"\" \"\" \"\" \"\" ...\n",
            " $ Animal.Type     : chr  \"Cat\" \"Dog\" \"Other\" \"Dog\" ...\n",
            " $ Sex.upon.Outcome: chr  \"Neutered Male\" \"Neutered Male\" \"Unknown\" \"Neutered Male\" ...\n",
            " $ Age.upon.Outcome: chr  \"2 years\" \"1 year\" \"1 year\" \"4 months\" ...\n",
            " $ Breed           : chr  \"Domestic Shorthair Mix\" \"Chihuahua Shorthair Mix\" \"Raccoon\" \"Anatol Shepherd/Labrador Retriever\" ...\n",
            " $ Color           : chr  \"Brown Tabby/White\" \"White/Brown\" \"Gray\" \"Buff\" ...\n"
          ],
          "name": "stdout"
        }
      ]
    },
    {
      "cell_type": "markdown",
      "metadata": {
        "id": "oTNXErEjJOKl"
      },
      "source": [
        "#### Self-Check Questions \r\n",
        "\r\n",
        "\r\n",
        "1.   How many columns are contained in this data.frame?\r\n",
        "2.   How many rows (observations) are contained in this data.frame?\r\n",
        "3.   Provide a detailed explaination of what a 'row' represented in this data.frame?   \r\n",
        "\r\n"
      ]
    },
    {
      "cell_type": "markdown",
      "metadata": {
        "id": "kzLE9xOPKwdp"
      },
      "source": [
        "### Using read_csv()"
      ]
    },
    {
      "cell_type": "markdown",
      "metadata": {
        "id": "8V3Ft1xeK9YL"
      },
      "source": [
        "Tidyverse [ [Link](http://tidyverse.org) ] is a collection of R packages designed for data science. The R packages contained in this collection have been written to overcome some of the inherent limitations of base R.  For example, tidyverse uses a modifed version of a data.frame. "
      ]
    },
    {
      "cell_type": "code",
      "metadata": {
        "colab": {
          "base_uri": "https://localhost:8080/"
        },
        "id": "PlJhfbnzDE8s",
        "outputId": "28ccf225-13ad-4c8f-9425-6b0de0829ddb"
      },
      "source": [
        "# Load the tidyverse() libary in this session of R\r\n",
        "library(tidyverse)"
      ],
      "execution_count": 16,
      "outputs": [
        {
          "output_type": "stream",
          "text": [
            "── \u001b[1mAttaching packages\u001b[22m ─────────────────────────────────────── tidyverse 1.3.0 ──\n",
            "\n",
            "\u001b[32m✔\u001b[39m \u001b[34mggplot2\u001b[39m 3.3.3     \u001b[32m✔\u001b[39m \u001b[34mpurrr  \u001b[39m 0.3.4\n",
            "\u001b[32m✔\u001b[39m \u001b[34mtibble \u001b[39m 3.0.4     \u001b[32m✔\u001b[39m \u001b[34mdplyr  \u001b[39m 1.0.2\n",
            "\u001b[32m✔\u001b[39m \u001b[34mtidyr  \u001b[39m 1.1.2     \u001b[32m✔\u001b[39m \u001b[34mstringr\u001b[39m 1.4.0\n",
            "\u001b[32m✔\u001b[39m \u001b[34mreadr  \u001b[39m 1.4.0     \u001b[32m✔\u001b[39m \u001b[34mforcats\u001b[39m 0.5.0\n",
            "\n",
            "── \u001b[1mConflicts\u001b[22m ────────────────────────────────────────── tidyverse_conflicts() ──\n",
            "\u001b[31m✖\u001b[39m \u001b[34mdplyr\u001b[39m::\u001b[32mfilter()\u001b[39m masks \u001b[34mstats\u001b[39m::filter()\n",
            "\u001b[31m✖\u001b[39m \u001b[34mdplyr\u001b[39m::\u001b[32mlag()\u001b[39m    masks \u001b[34mstats\u001b[39m::lag()\n",
            "\n"
          ],
          "name": "stderr"
        }
      ]
    },
    {
      "cell_type": "code",
      "metadata": {
        "colab": {
          "base_uri": "https://localhost:8080/"
        },
        "id": "OHbIi8elF0ru",
        "outputId": "c7f6b654-c9c0-432e-ef92-890730623f34"
      },
      "source": [
        "# Use read_csv() function (which is part of tidyverse) to read in the dataset\r\n",
        "AustinAnimalShelter_Tidyverse <- read_csv(\"/content/sample_data/Austin_Animal_Center_Outcomes.csv\")"
      ],
      "execution_count": 18,
      "outputs": [
        {
          "output_type": "stream",
          "text": [
            "\n",
            "\u001b[36m──\u001b[39m \u001b[1m\u001b[1mColumn specification\u001b[1m\u001b[22m \u001b[36m────────────────────────────────────────────────────────\u001b[39m\n",
            "cols(\n",
            "  `Animal ID` = \u001b[31mcol_character()\u001b[39m,\n",
            "  Name = \u001b[31mcol_character()\u001b[39m,\n",
            "  DateTime = \u001b[31mcol_character()\u001b[39m,\n",
            "  MonthYear = \u001b[31mcol_character()\u001b[39m,\n",
            "  `Date of Birth` = \u001b[31mcol_character()\u001b[39m,\n",
            "  `Outcome Type` = \u001b[31mcol_character()\u001b[39m,\n",
            "  `Outcome Subtype` = \u001b[31mcol_character()\u001b[39m,\n",
            "  `Animal Type` = \u001b[31mcol_character()\u001b[39m,\n",
            "  `Sex upon Outcome` = \u001b[31mcol_character()\u001b[39m,\n",
            "  `Age upon Outcome` = \u001b[31mcol_character()\u001b[39m,\n",
            "  Breed = \u001b[31mcol_character()\u001b[39m,\n",
            "  Color = \u001b[31mcol_character()\u001b[39m\n",
            ")\n",
            "\n",
            "\n"
          ],
          "name": "stderr"
        }
      ]
    },
    {
      "cell_type": "code",
      "metadata": {
        "colab": {
          "base_uri": "https://localhost:8080/",
          "height": 35
        },
        "id": "EPzo7XzEDNg0",
        "outputId": "9f169fe2-ad56-4cb3-83bf-d24d116a256e"
      },
      "source": [
        "#Get a list of current variables\r\n",
        "ls()"
      ],
      "execution_count": 19,
      "outputs": [
        {
          "output_type": "display_data",
          "data": {
            "text/plain": [
              "[1] \"AustinAnimalShelter_BaseR\"     \"AustinAnimalShelter_Tidyverse\""
            ],
            "text/latex": "\\begin{enumerate*}\n\\item 'AustinAnimalShelter\\_BaseR'\n\\item 'AustinAnimalShelter\\_Tidyverse'\n\\end{enumerate*}\n",
            "text/markdown": "1. 'AustinAnimalShelter_BaseR'\n2. 'AustinAnimalShelter_Tidyverse'\n\n\n",
            "text/html": [
              "<style>\n",
              ".list-inline {list-style: none; margin:0; padding: 0}\n",
              ".list-inline>li {display: inline-block}\n",
              ".list-inline>li:not(:last-child)::after {content: \"\\00b7\"; padding: 0 .5ex}\n",
              "</style>\n",
              "<ol class=list-inline><li>'AustinAnimalShelter_BaseR'</li><li>'AustinAnimalShelter_Tidyverse'</li></ol>\n"
            ]
          },
          "metadata": {
            "tags": []
          }
        }
      ]
    },
    {
      "cell_type": "markdown",
      "metadata": {
        "id": "y3HwgqsyQh6J"
      },
      "source": [
        "### Self-Check Questions\r\n",
        "\r\n",
        "\r\n",
        "1.   Run the class() function on dataset that was read into R using read_csv().  What is the variable type?\r\n",
        "2.   Run the str() function on the dataset that was read into R using read_csv()_.  What is the name of the first column?  How does this name differ than the data.frame read in from read.csv()?  Briefly discuss.\r\n",
        "\r\n"
      ]
    },
    {
      "cell_type": "markdown",
      "metadata": {
        "id": "blCwAvhzQGIQ"
      },
      "source": [
        "## Data Structures for structered data in R\r\n",
        "\r\n"
      ]
    },
    {
      "cell_type": "markdown",
      "metadata": {
        "id": "9nXpEnfgRWdL"
      },
      "source": [
        "Three common structures for tabled data in R\r\n",
        "\r\n",
        "\r\n",
        "\r\n",
        "*   Matrix\r\n",
        "> Collection of vectors:  All must be the same length <strong>and</strong> same data type\r\n",
        "*   Data.Frame\r\n",
        "> Collection of vectors: All must be the same length\r\n",
        "* Tibble -- tabled data.frame\r\n",
        "> Collection of vectors\r\n",
        "\r\n",
        "\r\n",
        "\r\n",
        "\r\n",
        "<p align='center'><img src=\"https://drive.google.com/uc?export=view&id=1LIrZ9yiPZ147CHZs9uUjVofM_Ik0QvZ4\"></img></p> "
      ]
    },
    {
      "cell_type": "code",
      "metadata": {
        "id": "jiIs77Z_QVZm"
      },
      "source": [
        ""
      ],
      "execution_count": null,
      "outputs": []
    }
  ]
}