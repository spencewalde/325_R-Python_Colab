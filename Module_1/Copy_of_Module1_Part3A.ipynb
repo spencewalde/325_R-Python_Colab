{
  "nbformat": 4,
  "nbformat_minor": 0,
  "metadata": {
    "colab": {
      "name": "Copy of Module1_Part3A.ipynb",
      "provenance": [],
      "collapsed_sections": []
    },
    "kernelspec": {
      "name": "ir",
      "display_name": "R"
    }
  },
  "cells": [
    {
      "cell_type": "markdown",
      "metadata": {
        "id": "KhClO9b02SXA"
      },
      "source": [
        "# Module 1 | Part 3A: Downloading a <strong>Public</strong> File From G Drive "
      ]
    },
    {
      "cell_type": "markdown",
      "metadata": {
        "id": "njXGRUIC9Lgs"
      },
      "source": [
        "Two Step Process to get a Public file from G Drive\r\n",
        "\r\n",
        "\r\n",
        "1.   Download file from G Drive\r\n",
        "2.   Read file into R\r\n",
        "\r\n"
      ]
    },
    {
      "cell_type": "markdown",
      "metadata": {
        "id": "DTpb86r69_Lv"
      },
      "source": [
        "<table width='100%' ><tr><td bgcolor='green'></td></tr></table>\r\n",
        "\r\n",
        "## Example 1.3A.1\r\n",
        "\r\n",
        "This example consists of a dataset containing information from dog bites for New York City.  This data was collected over a two year time period.  \r\n",
        "\r\n",
        "<i>NYC Dog Bite Data</i>: [Link](https://catalog.data.gov/dataset/dohmh-dog-bite-data/resource/bfd306c6-382c-420d-9aaa-be47616a1261?inner_span=True)\r\n"
      ]
    },
    {
      "cell_type": "markdown",
      "metadata": {
        "id": "pgAGLO5u7emq"
      },
      "source": [
        "\r\n",
        "\r\n",
        "<p align='center'><img src=\"https://drive.google.com/uc?export=view&id=12RanX5LTURANF1iMorOueu6slRb8uGES\"></p>"
      ]
    },
    {
      "cell_type": "markdown",
      "metadata": {
        "id": "tAg016SeCNZS"
      },
      "source": [
        "<table width='100%' ><tr><td bgcolor='green'></td></tr></table>"
      ]
    },
    {
      "cell_type": "markdown",
      "metadata": {
        "id": "j_cIcTSNA7js"
      },
      "source": [
        "## Downloading the Public file from G Drive"
      ]
    },
    {
      "cell_type": "markdown",
      "metadata": {
        "id": "2IrfKaDY85OG"
      },
      "source": [
        "For the purposes of this handout, obtain a CSV file of the NYC Dog Bite dataset and place a copy of this dataset into your G Drive.  My dataset has been placed into the DSCI325 > Datasets folder as shown below."
      ]
    },
    {
      "cell_type": "markdown",
      "metadata": {
        "id": "EBQ8OYTM9rrO"
      },
      "source": [
        "\r\n",
        "<p align='center'><img src=\"https://drive.google.com/uc?export=view&id=1qBOuHY4yzlaHzXn7G9KIyVs0guwszo25\"></p>\r\n",
        "\r\n"
      ]
    },
    {
      "cell_type": "markdown",
      "metadata": {
        "id": "LlYxMt8aAC-1"
      },
      "source": [
        "In order to download the file into this Colab session, the Google File ID for thsi file must be known.  To obtain the Google File ID, right click on the datafile and select Get link."
      ]
    },
    {
      "cell_type": "markdown",
      "metadata": {
        "id": "F_FKcyO1_NHL"
      },
      "source": [
        "\r\n",
        "<p align='center'><img src=\"https://drive.google.com/uc?export=view&id=1dmcTZt24R4giwHHpKOeT9FiDA6ikjBY1\"></p>\r\n",
        "\r\n"
      ]
    },
    {
      "cell_type": "markdown",
      "metadata": {
        "id": "yP59EFVpAZlU"
      },
      "source": [
        "The Google File ID can be retrieved from the URL under Get Link.  The Google File ID for this file is <i>1omD_I64jCqzxYkUIB63i-GuD5899tMDa</i>."
      ]
    },
    {
      "cell_type": "markdown",
      "metadata": {
        "id": "ngTh3MCL_Ohx"
      },
      "source": [
        "<p align='center'><img src=\"https://drive.google.com/uc?export=view&id=1cNDb8WRq7m1iHUfKYQi7dsXxTpocIZSj\"></p>\r\n",
        "\r\n"
      ]
    },
    {
      "cell_type": "markdown",
      "metadata": {
        "id": "fsJrrSW1C25G"
      },
      "source": [
        "The command <strong>gdown</strong> is used to download a copy of the file from G Drive into this Colab session.  The gdown function is analogous to Wget which is a window's ultilty function to retrieve a variety of file from the internet, e.g. http://, https://, ftp://, etc.\r\n",
        "\r\n",
        "The gdown function is run on the sytem level (not within R).  The syntax for using gdown is given here.  The gdown function requires the Google File ID of the file to be downloaded."
      ]
    },
    {
      "cell_type": "code",
      "metadata": {
        "id": "-jY7XcDEv79y"
      },
      "source": [
        "system(\"gdown --id 1omD_I64jCqzxYkUIB63i-GuD5899tMDa\")"
      ],
      "execution_count": null,
      "outputs": []
    },
    {
      "cell_type": "markdown",
      "metadata": {
        "id": "Sj_Fdt58Cu1P"
      },
      "source": [
        "The dataset will be placed into the content folder as is shown here.  The gdown function maintains the name of the file, e.g. NYC_Dog_Bites_Data.csv. \r\n",
        "\r\n",
        "<p align='center'><img src=\"https://drive.google.com/uc?export=view&id=1lcIk2dIzvjMcLFTFNzfl8PIWXMWfUPMe\"></p>\r\n",
        "\r\n"
      ]
    },
    {
      "cell_type": "markdown",
      "metadata": {
        "id": "EB9wIM5RDw8h"
      },
      "source": [
        "## Reading the dataset into R"
      ]
    },
    {
      "cell_type": "markdown",
      "metadata": {
        "id": "8QY922fMD1Pv"
      },
      "source": [
        "The read.csv() function is used to read in this dataset into R."
      ]
    },
    {
      "cell_type": "code",
      "metadata": {
        "id": "3y-m5GVmB0fe"
      },
      "source": [
        "NYC_Dog_Bites <- read.csv(\"/content/NYC_Dog_Bites_Data.csv\")"
      ],
      "execution_count": null,
      "outputs": []
    },
    {
      "cell_type": "markdown",
      "metadata": {
        "id": "oH3PRLWHD7Y3"
      },
      "source": [
        "Running a head() and tail() command to ensure data has been read in correctly."
      ]
    },
    {
      "cell_type": "code",
      "metadata": {
        "colab": {
          "base_uri": "https://localhost:8080/",
          "height": 390
        },
        "id": "XDKsrN-8B6rU",
        "outputId": "84f201d0-f629-4d68-d7b5-f4fdb84e5e8d"
      },
      "source": [
        "head(NYC_Dog_Bites)\r\n",
        "\r\n",
        "tail(NYC_Dog_Bites)"
      ],
      "execution_count": null,
      "outputs": [
        {
          "output_type": "display_data",
          "data": {
            "text/plain": [
              "  UniqueID DateOfBite      Species Breed                              Age\n",
              "1 1        January 02 2015 DOG     Poodle, Standard                   3  \n",
              "2 2        January 02 2015 DOG     HUSKY                                 \n",
              "3 3        January 02 2015 DOG                                           \n",
              "4 4        January 01 2015 DOG     American Pit Bull Terrier/Pit Bull 6  \n",
              "5 5        January 03 2015 DOG     American Pit Bull Terrier/Pit Bull 1  \n",
              "6 6        January 05 2015 DOG     American Pit Bull Terrier/Pit Bull 1  \n",
              "  Gender SpayNeuter Borough  ZipCode\n",
              "1 M      true       Brooklyn 11238  \n",
              "2 U      false      Brooklyn 11249  \n",
              "3 U      false      Brooklyn        \n",
              "4 M      false      Brooklyn 11221  \n",
              "5 M      false      Brooklyn 11207  \n",
              "6 F      false      Brooklyn 11209  "
            ],
            "text/latex": "A data.frame: 6 × 9\n\\begin{tabular}{r|lllllllll}\n  & UniqueID & DateOfBite & Species & Breed & Age & Gender & SpayNeuter & Borough & ZipCode\\\\\n  & <int> & <chr> & <chr> & <chr> & <chr> & <chr> & <chr> & <chr> & <chr>\\\\\n\\hline\n\t1 & 1 & January 02 2015 & DOG & Poodle, Standard                   & 3 & M & true  & Brooklyn & 11238\\\\\n\t2 & 2 & January 02 2015 & DOG & HUSKY                              &   & U & false & Brooklyn & 11249\\\\\n\t3 & 3 & January 02 2015 & DOG &                                    &   & U & false & Brooklyn &      \\\\\n\t4 & 4 & January 01 2015 & DOG & American Pit Bull Terrier/Pit Bull & 6 & M & false & Brooklyn & 11221\\\\\n\t5 & 5 & January 03 2015 & DOG & American Pit Bull Terrier/Pit Bull & 1 & M & false & Brooklyn & 11207\\\\\n\t6 & 6 & January 05 2015 & DOG & American Pit Bull Terrier/Pit Bull & 1 & F & false & Brooklyn & 11209\\\\\n\\end{tabular}\n",
            "text/markdown": "\nA data.frame: 6 × 9\n\n| <!--/--> | UniqueID &lt;int&gt; | DateOfBite &lt;chr&gt; | Species &lt;chr&gt; | Breed &lt;chr&gt; | Age &lt;chr&gt; | Gender &lt;chr&gt; | SpayNeuter &lt;chr&gt; | Borough &lt;chr&gt; | ZipCode &lt;chr&gt; |\n|---|---|---|---|---|---|---|---|---|---|\n| 1 | 1 | January 02 2015 | DOG | Poodle, Standard                   | 3 | M | true  | Brooklyn | 11238 |\n| 2 | 2 | January 02 2015 | DOG | HUSKY                              | <!----> | U | false | Brooklyn | 11249 |\n| 3 | 3 | January 02 2015 | DOG | <!----> | <!----> | U | false | Brooklyn | <!----> |\n| 4 | 4 | January 01 2015 | DOG | American Pit Bull Terrier/Pit Bull | 6 | M | false | Brooklyn | 11221 |\n| 5 | 5 | January 03 2015 | DOG | American Pit Bull Terrier/Pit Bull | 1 | M | false | Brooklyn | 11207 |\n| 6 | 6 | January 05 2015 | DOG | American Pit Bull Terrier/Pit Bull | 1 | F | false | Brooklyn | 11209 |\n\n",
            "text/html": [
              "<table>\n",
              "<caption>A data.frame: 6 × 9</caption>\n",
              "<thead>\n",
              "\t<tr><th></th><th scope=col>UniqueID</th><th scope=col>DateOfBite</th><th scope=col>Species</th><th scope=col>Breed</th><th scope=col>Age</th><th scope=col>Gender</th><th scope=col>SpayNeuter</th><th scope=col>Borough</th><th scope=col>ZipCode</th></tr>\n",
              "\t<tr><th></th><th scope=col>&lt;int&gt;</th><th scope=col>&lt;chr&gt;</th><th scope=col>&lt;chr&gt;</th><th scope=col>&lt;chr&gt;</th><th scope=col>&lt;chr&gt;</th><th scope=col>&lt;chr&gt;</th><th scope=col>&lt;chr&gt;</th><th scope=col>&lt;chr&gt;</th><th scope=col>&lt;chr&gt;</th></tr>\n",
              "</thead>\n",
              "<tbody>\n",
              "\t<tr><th scope=row>1</th><td>1</td><td>January 02 2015</td><td>DOG</td><td>Poodle, Standard                  </td><td>3</td><td>M</td><td>true </td><td>Brooklyn</td><td>11238</td></tr>\n",
              "\t<tr><th scope=row>2</th><td>2</td><td>January 02 2015</td><td>DOG</td><td>HUSKY                             </td><td> </td><td>U</td><td>false</td><td>Brooklyn</td><td>11249</td></tr>\n",
              "\t<tr><th scope=row>3</th><td>3</td><td>January 02 2015</td><td>DOG</td><td>                                  </td><td> </td><td>U</td><td>false</td><td>Brooklyn</td><td>     </td></tr>\n",
              "\t<tr><th scope=row>4</th><td>4</td><td>January 01 2015</td><td>DOG</td><td>American Pit Bull Terrier/Pit Bull</td><td>6</td><td>M</td><td>false</td><td>Brooklyn</td><td>11221</td></tr>\n",
              "\t<tr><th scope=row>5</th><td>5</td><td>January 03 2015</td><td>DOG</td><td>American Pit Bull Terrier/Pit Bull</td><td>1</td><td>M</td><td>false</td><td>Brooklyn</td><td>11207</td></tr>\n",
              "\t<tr><th scope=row>6</th><td>6</td><td>January 05 2015</td><td>DOG</td><td>American Pit Bull Terrier/Pit Bull</td><td>1</td><td>F</td><td>false</td><td>Brooklyn</td><td>11209</td></tr>\n",
              "</tbody>\n",
              "</table>\n"
            ]
          },
          "metadata": {
            "tags": []
          }
        },
        {
          "output_type": "display_data",
          "data": {
            "text/plain": [
              "      UniqueID DateOfBite       Species Breed                Age Gender\n",
              "10275 10275    December 21 2017 DOG     Pit Bull             1   M     \n",
              "10276 10276    December 24 2017 DOG     CHIWEENIE MIX        7   M     \n",
              "10277 10277    December 24 2017 DOG     DUNKER               5   F     \n",
              "10278 10278    December 21 2017 DOG     Schnauzer, Miniature 10M M     \n",
              "10279 10279    December 28 2017 DOG     Mixed/Other              F     \n",
              "10280 10280    December 29 2017 DOG     BOXER/PIT BULL           M     \n",
              "      SpayNeuter Borough       ZipCode\n",
              "10275 false      Staten Island 10303  \n",
              "10276 true       Staten Island 10303  \n",
              "10277 true       Staten Island 10303  \n",
              "10278 true       Staten Island 10312  \n",
              "10279 false      Staten Island 10308  \n",
              "10280 false      Staten Island 10314  "
            ],
            "text/latex": "A data.frame: 6 × 9\n\\begin{tabular}{r|lllllllll}\n  & UniqueID & DateOfBite & Species & Breed & Age & Gender & SpayNeuter & Borough & ZipCode\\\\\n  & <int> & <chr> & <chr> & <chr> & <chr> & <chr> & <chr> & <chr> & <chr>\\\\\n\\hline\n\t10275 & 10275 & December 21 2017 & DOG & Pit Bull             & 1   & M & false & Staten Island & 10303\\\\\n\t10276 & 10276 & December 24 2017 & DOG & CHIWEENIE MIX        & 7   & M & true  & Staten Island & 10303\\\\\n\t10277 & 10277 & December 24 2017 & DOG & DUNKER               & 5   & F & true  & Staten Island & 10303\\\\\n\t10278 & 10278 & December 21 2017 & DOG & Schnauzer, Miniature & 10M & M & true  & Staten Island & 10312\\\\\n\t10279 & 10279 & December 28 2017 & DOG & Mixed/Other          &     & F & false & Staten Island & 10308\\\\\n\t10280 & 10280 & December 29 2017 & DOG & BOXER/PIT BULL       &     & M & false & Staten Island & 10314\\\\\n\\end{tabular}\n",
            "text/markdown": "\nA data.frame: 6 × 9\n\n| <!--/--> | UniqueID &lt;int&gt; | DateOfBite &lt;chr&gt; | Species &lt;chr&gt; | Breed &lt;chr&gt; | Age &lt;chr&gt; | Gender &lt;chr&gt; | SpayNeuter &lt;chr&gt; | Borough &lt;chr&gt; | ZipCode &lt;chr&gt; |\n|---|---|---|---|---|---|---|---|---|---|\n| 10275 | 10275 | December 21 2017 | DOG | Pit Bull             | 1   | M | false | Staten Island | 10303 |\n| 10276 | 10276 | December 24 2017 | DOG | CHIWEENIE MIX        | 7   | M | true  | Staten Island | 10303 |\n| 10277 | 10277 | December 24 2017 | DOG | DUNKER               | 5   | F | true  | Staten Island | 10303 |\n| 10278 | 10278 | December 21 2017 | DOG | Schnauzer, Miniature | 10M | M | true  | Staten Island | 10312 |\n| 10279 | 10279 | December 28 2017 | DOG | Mixed/Other          | <!----> | F | false | Staten Island | 10308 |\n| 10280 | 10280 | December 29 2017 | DOG | BOXER/PIT BULL       | <!----> | M | false | Staten Island | 10314 |\n\n",
            "text/html": [
              "<table>\n",
              "<caption>A data.frame: 6 × 9</caption>\n",
              "<thead>\n",
              "\t<tr><th></th><th scope=col>UniqueID</th><th scope=col>DateOfBite</th><th scope=col>Species</th><th scope=col>Breed</th><th scope=col>Age</th><th scope=col>Gender</th><th scope=col>SpayNeuter</th><th scope=col>Borough</th><th scope=col>ZipCode</th></tr>\n",
              "\t<tr><th></th><th scope=col>&lt;int&gt;</th><th scope=col>&lt;chr&gt;</th><th scope=col>&lt;chr&gt;</th><th scope=col>&lt;chr&gt;</th><th scope=col>&lt;chr&gt;</th><th scope=col>&lt;chr&gt;</th><th scope=col>&lt;chr&gt;</th><th scope=col>&lt;chr&gt;</th><th scope=col>&lt;chr&gt;</th></tr>\n",
              "</thead>\n",
              "<tbody>\n",
              "\t<tr><th scope=row>10275</th><td>10275</td><td>December 21 2017</td><td>DOG</td><td>Pit Bull            </td><td>1  </td><td>M</td><td>false</td><td>Staten Island</td><td>10303</td></tr>\n",
              "\t<tr><th scope=row>10276</th><td>10276</td><td>December 24 2017</td><td>DOG</td><td>CHIWEENIE MIX       </td><td>7  </td><td>M</td><td>true </td><td>Staten Island</td><td>10303</td></tr>\n",
              "\t<tr><th scope=row>10277</th><td>10277</td><td>December 24 2017</td><td>DOG</td><td>DUNKER              </td><td>5  </td><td>F</td><td>true </td><td>Staten Island</td><td>10303</td></tr>\n",
              "\t<tr><th scope=row>10278</th><td>10278</td><td>December 21 2017</td><td>DOG</td><td>Schnauzer, Miniature</td><td>10M</td><td>M</td><td>true </td><td>Staten Island</td><td>10312</td></tr>\n",
              "\t<tr><th scope=row>10279</th><td>10279</td><td>December 28 2017</td><td>DOG</td><td>Mixed/Other         </td><td>   </td><td>F</td><td>false</td><td>Staten Island</td><td>10308</td></tr>\n",
              "\t<tr><th scope=row>10280</th><td>10280</td><td>December 29 2017</td><td>DOG</td><td>BOXER/PIT BULL      </td><td>   </td><td>M</td><td>false</td><td>Staten Island</td><td>10314</td></tr>\n",
              "</tbody>\n",
              "</table>\n"
            ]
          },
          "metadata": {
            "tags": []
          }
        }
      ]
    },
    {
      "cell_type": "code",
      "metadata": {
        "id": "iXGhCd6XCbnO"
      },
      "source": [
        ""
      ],
      "execution_count": null,
      "outputs": []
    }
  ]
}