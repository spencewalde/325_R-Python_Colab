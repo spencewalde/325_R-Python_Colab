{
  "nbformat": 4,
  "nbformat_minor": 0,
  "metadata": {
    "colab": {
      "name": "Copy of Module1_Part4.ipynb",
      "provenance": []
    },
    "kernelspec": {
      "name": "ir",
      "display_name": "R"
    }
  },
  "cells": [
    {
      "cell_type": "markdown",
      "metadata": {
        "id": "qxz9x0KmCPWu"
      },
      "source": [
        "# Module 1 | Part 4: Using the download.file() Function in R "
      ]
    },
    {
      "cell_type": "markdown",
      "metadata": {
        "id": "-7o82uGrMdIb"
      },
      "source": [
        "As seen previously, a data file can be directly read into R via a URL.  That is, the read.csv() function allows for the use of a URL.  R also has the ability to do some basic file management tasks.  In Module 1 | Part 4, the download.file() function will be used to download a dataset that has been zipped to reduce its overall size.\r\n",
        "\r\n",
        "The following steps are necessary\r\n",
        "\r\n",
        "1.   Use download.file() to download a zipped dataset\r\n",
        "2.   Unzip the file so that its contents are accessible\r\n",
        "3.   Read the data file into R\r\n"
      ]
    },
    {
      "cell_type": "markdown",
      "metadata": {
        "id": "zdICMm51MiYg"
      },
      "source": [
        "<table width='100%' ><tr><td bgcolor='green'></td></tr></table>\r\n",
        "\r\n",
        "### Example 1.4.1\r\n",
        "\r\n",
        "Consider information about Postal Codes for this example. This information can be found on the Geonames.org website and their website contains information about postal codes for many countries around the world. This example will focus on zipcodes in the United States will be used here.  \r\n",
        "\r\n",
        "<i>Geonames.org Website</i>: [Link](http://download.geonames.org/)\r\n",
        "\r\n",
        "<i>Link for US.zip file</i>: http://download.geonames.org/export/zip/US.zip\r\n",
        "\r\n",
        "<table width='100%' ><tr><td bgcolor='green'></td></tr></table>"
      ]
    },
    {
      "cell_type": "markdown",
      "metadata": {
        "id": "fBexa6FBMpO5"
      },
      "source": [
        "## Using the download.file() function"
      ]
    },
    {
      "cell_type": "markdown",
      "metadata": {
        "id": "1oIhvhUXMtnZ"
      },
      "source": [
        "The file to be downloaded for this example is a zipped file.  Therefore, a temporary directory will be created to hold the zipped file. "
      ]
    },
    {
      "cell_type": "code",
      "metadata": {
        "id": "eWZnqGeyCQG-"
      },
      "source": [
        "#Creating a temporary directory for download\r\n",
        "Zipcode_Directory <- tempdir()"
      ],
      "execution_count": null,
      "outputs": []
    },
    {
      "cell_type": "markdown",
      "metadata": {
        "id": "MNNEWBbEM5ZB"
      },
      "source": [
        "Again, let us take advantage of some ultility functions in R.  Here, <strong>file.info()</strong> will give us information about this newly created diretory."
      ]
    },
    {
      "cell_type": "code",
      "metadata": {
        "colab": {
          "base_uri": "https://localhost:8080/",
          "height": 99
        },
        "id": "qNCwY5iXCR4O",
        "outputId": "30e56228-babb-44f4-abca-501fba16a3a8"
      },
      "source": [
        "#The file.info() function provides information regarding this temporary directory\r\n",
        "file.info(Zipcode_Directory)"
      ],
      "execution_count": null,
      "outputs": [
        {
          "output_type": "display_data",
          "data": {
            "text/plain": [
              "                size isdir mode mtime               ctime              \n",
              "/tmp/RtmpkoGaCD 4096 TRUE  700  2021-01-21 17:42:04 2021-01-21 17:42:04\n",
              "                atime               uid gid uname grname\n",
              "/tmp/RtmpkoGaCD 2021-01-21 17:42:14 0   0   root  root  "
            ],
            "text/latex": "A data.frame: 1 × 10\n\\begin{tabular}{r|llllllllll}\n  & size & isdir & mode & mtime & ctime & atime & uid & gid & uname & grname\\\\\n  & <dbl> & <lgl> & <octmode> & <dttm> & <dttm> & <dttm> & <int> & <int> & <chr> & <chr>\\\\\n\\hline\n\t/tmp/RtmpkoGaCD & 4096 & TRUE & 700 & 2021-01-21 17:42:04 & 2021-01-21 17:42:04 & 2021-01-21 17:42:14 & 0 & 0 & root & root\\\\\n\\end{tabular}\n",
            "text/markdown": "\nA data.frame: 1 × 10\n\n| <!--/--> | size &lt;dbl&gt; | isdir &lt;lgl&gt; | mode &lt;octmode&gt; | mtime &lt;dttm&gt; | ctime &lt;dttm&gt; | atime &lt;dttm&gt; | uid &lt;int&gt; | gid &lt;int&gt; | uname &lt;chr&gt; | grname &lt;chr&gt; |\n|---|---|---|---|---|---|---|---|---|---|---|\n| /tmp/RtmpkoGaCD | 4096 | TRUE | 700 | 2021-01-21 17:42:04 | 2021-01-21 17:42:04 | 2021-01-21 17:42:14 | 0 | 0 | root | root |\n\n",
            "text/html": [
              "<table>\n",
              "<caption>A data.frame: 1 × 10</caption>\n",
              "<thead>\n",
              "\t<tr><th></th><th scope=col>size</th><th scope=col>isdir</th><th scope=col>mode</th><th scope=col>mtime</th><th scope=col>ctime</th><th scope=col>atime</th><th scope=col>uid</th><th scope=col>gid</th><th scope=col>uname</th><th scope=col>grname</th></tr>\n",
              "\t<tr><th></th><th scope=col>&lt;dbl&gt;</th><th scope=col>&lt;lgl&gt;</th><th scope=col>&lt;octmode&gt;</th><th scope=col>&lt;dttm&gt;</th><th scope=col>&lt;dttm&gt;</th><th scope=col>&lt;dttm&gt;</th><th scope=col>&lt;int&gt;</th><th scope=col>&lt;int&gt;</th><th scope=col>&lt;chr&gt;</th><th scope=col>&lt;chr&gt;</th></tr>\n",
              "</thead>\n",
              "<tbody>\n",
              "\t<tr><th scope=row>/tmp/RtmpkoGaCD</th><td>4096</td><td>TRUE</td><td>700</td><td>2021-01-21 17:42:04</td><td>2021-01-21 17:42:04</td><td>2021-01-21 17:42:14</td><td>0</td><td>0</td><td>root</td><td>root</td></tr>\n",
              "</tbody>\n",
              "</table>\n"
            ]
          },
          "metadata": {
            "tags": []
          }
        }
      ]
    },
    {
      "cell_type": "markdown",
      "metadata": {
        "id": "UXYeZsNBNLuq"
      },
      "source": [
        "Next, a temporary file must be created that will be used to name the file to be downloaded. "
      ]
    },
    {
      "cell_type": "code",
      "metadata": {
        "id": "Ve3naWo3CXnn"
      },
      "source": [
        "#Creating a temporary file \r\n",
        "Zipcode_File <-tempfile()"
      ],
      "execution_count": null,
      "outputs": []
    },
    {
      "cell_type": "markdown",
      "metadata": {
        "id": "_26zc4GJOrsg"
      },
      "source": [
        "Again, let us verify that a file was actually created using file.info() on this newly created file.  NA are produced because this is an \"empty\" file."
      ]
    },
    {
      "cell_type": "code",
      "metadata": {
        "colab": {
          "base_uri": "https://localhost:8080/",
          "height": 99
        },
        "id": "DGyV2IVOOEeE",
        "outputId": "296f866f-5d13-4581-ec69-ae37b23cfb79"
      },
      "source": [
        "file.info(Zipcode_File)"
      ],
      "execution_count": null,
      "outputs": [
        {
          "output_type": "display_data",
          "data": {
            "text/plain": [
              "                               size isdir mode mtime ctime atime uid gid uname\n",
              "/tmp/RtmpkoGaCD/file3e625a95dc NA   NA    <NA> <NA>  <NA>  <NA>  NA  NA  NA   \n",
              "                               grname\n",
              "/tmp/RtmpkoGaCD/file3e625a95dc NA    "
            ],
            "text/latex": "A data.frame: 1 × 10\n\\begin{tabular}{r|llllllllll}\n  & size & isdir & mode & mtime & ctime & atime & uid & gid & uname & grname\\\\\n  & <dbl> & <lgl> & <octmode> & <dttm> & <dttm> & <dttm> & <int> & <int> & <chr> & <chr>\\\\\n\\hline\n\t/tmp/RtmpkoGaCD/file3e625a95dc & NA & NA & NA & NA & NA & NA & NA & NA & NA & NA\\\\\n\\end{tabular}\n",
            "text/markdown": "\nA data.frame: 1 × 10\n\n| <!--/--> | size &lt;dbl&gt; | isdir &lt;lgl&gt; | mode &lt;octmode&gt; | mtime &lt;dttm&gt; | ctime &lt;dttm&gt; | atime &lt;dttm&gt; | uid &lt;int&gt; | gid &lt;int&gt; | uname &lt;chr&gt; | grname &lt;chr&gt; |\n|---|---|---|---|---|---|---|---|---|---|---|\n| /tmp/RtmpkoGaCD/file3e625a95dc | NA | NA | NA | NA | NA | NA | NA | NA | NA | NA |\n\n",
            "text/html": [
              "<table>\n",
              "<caption>A data.frame: 1 × 10</caption>\n",
              "<thead>\n",
              "\t<tr><th></th><th scope=col>size</th><th scope=col>isdir</th><th scope=col>mode</th><th scope=col>mtime</th><th scope=col>ctime</th><th scope=col>atime</th><th scope=col>uid</th><th scope=col>gid</th><th scope=col>uname</th><th scope=col>grname</th></tr>\n",
              "\t<tr><th></th><th scope=col>&lt;dbl&gt;</th><th scope=col>&lt;lgl&gt;</th><th scope=col>&lt;octmode&gt;</th><th scope=col>&lt;dttm&gt;</th><th scope=col>&lt;dttm&gt;</th><th scope=col>&lt;dttm&gt;</th><th scope=col>&lt;int&gt;</th><th scope=col>&lt;int&gt;</th><th scope=col>&lt;chr&gt;</th><th scope=col>&lt;chr&gt;</th></tr>\n",
              "</thead>\n",
              "<tbody>\n",
              "\t<tr><th scope=row>/tmp/RtmpkoGaCD/file3e625a95dc</th><td>NA</td><td>NA</td><td>NA</td><td>NA</td><td>NA</td><td>NA</td><td>NA</td><td>NA</td><td>NA</td><td>NA</td></tr>\n",
              "</tbody>\n",
              "</table>\n"
            ]
          },
          "metadata": {
            "tags": []
          }
        }
      ]
    },
    {
      "cell_type": "markdown",
      "metadata": {
        "id": "mNckJc_4NZGF"
      },
      "source": [
        "Finally, we are ready to use the <strong>download.file()</strong> function to download the zipped file.  The temporary file created above will be the destination file passed into this function."
      ]
    },
    {
      "cell_type": "code",
      "metadata": {
        "id": "-afZLMNFCXw2"
      },
      "source": [
        "#Downlaod the file, happens to be a zip file thus must be unpacked\r\n",
        "download.file(url=\"http://download.geonames.org/export/zip/US.zip\", destfile=Zipcode_File)"
      ],
      "execution_count": null,
      "outputs": []
    },
    {
      "cell_type": "markdown",
      "metadata": {
        "id": "FFGG8WufPGEX"
      },
      "source": [
        "One more time, use the file.info() function to verify that the file was downloaded successsfully. "
      ]
    },
    {
      "cell_type": "code",
      "metadata": {
        "colab": {
          "base_uri": "https://localhost:8080/",
          "height": 116
        },
        "id": "62xEoY2kNzom",
        "outputId": "199dc42d-5bfc-473c-dcfa-4c767e90ef66"
      },
      "source": [
        "file.info(Zipcode_File)"
      ],
      "execution_count": null,
      "outputs": [
        {
          "output_type": "display_data",
          "data": {
            "text/plain": [
              "                               size   isdir mode mtime              \n",
              "/tmp/RtmpkoGaCD/file3e625a95dc 633982 FALSE 644  2021-01-21 18:33:02\n",
              "                               ctime               atime               uid gid\n",
              "/tmp/RtmpkoGaCD/file3e625a95dc 2021-01-21 18:33:02 2021-01-21 18:33:01 0   0  \n",
              "                               uname grname\n",
              "/tmp/RtmpkoGaCD/file3e625a95dc root  root  "
            ],
            "text/latex": "A data.frame: 1 × 10\n\\begin{tabular}{r|llllllllll}\n  & size & isdir & mode & mtime & ctime & atime & uid & gid & uname & grname\\\\\n  & <dbl> & <lgl> & <octmode> & <dttm> & <dttm> & <dttm> & <int> & <int> & <chr> & <chr>\\\\\n\\hline\n\t/tmp/RtmpkoGaCD/file3e625a95dc & 633982 & FALSE & 644 & 2021-01-21 18:33:02 & 2021-01-21 18:33:02 & 2021-01-21 18:33:01 & 0 & 0 & root & root\\\\\n\\end{tabular}\n",
            "text/markdown": "\nA data.frame: 1 × 10\n\n| <!--/--> | size &lt;dbl&gt; | isdir &lt;lgl&gt; | mode &lt;octmode&gt; | mtime &lt;dttm&gt; | ctime &lt;dttm&gt; | atime &lt;dttm&gt; | uid &lt;int&gt; | gid &lt;int&gt; | uname &lt;chr&gt; | grname &lt;chr&gt; |\n|---|---|---|---|---|---|---|---|---|---|---|\n| /tmp/RtmpkoGaCD/file3e625a95dc | 633982 | FALSE | 644 | 2021-01-21 18:33:02 | 2021-01-21 18:33:02 | 2021-01-21 18:33:01 | 0 | 0 | root | root |\n\n",
            "text/html": [
              "<table>\n",
              "<caption>A data.frame: 1 × 10</caption>\n",
              "<thead>\n",
              "\t<tr><th></th><th scope=col>size</th><th scope=col>isdir</th><th scope=col>mode</th><th scope=col>mtime</th><th scope=col>ctime</th><th scope=col>atime</th><th scope=col>uid</th><th scope=col>gid</th><th scope=col>uname</th><th scope=col>grname</th></tr>\n",
              "\t<tr><th></th><th scope=col>&lt;dbl&gt;</th><th scope=col>&lt;lgl&gt;</th><th scope=col>&lt;octmode&gt;</th><th scope=col>&lt;dttm&gt;</th><th scope=col>&lt;dttm&gt;</th><th scope=col>&lt;dttm&gt;</th><th scope=col>&lt;int&gt;</th><th scope=col>&lt;int&gt;</th><th scope=col>&lt;chr&gt;</th><th scope=col>&lt;chr&gt;</th></tr>\n",
              "</thead>\n",
              "<tbody>\n",
              "\t<tr><th scope=row>/tmp/RtmpkoGaCD/file3e625a95dc</th><td>633982</td><td>FALSE</td><td>644</td><td>2021-01-21 18:33:02</td><td>2021-01-21 18:33:02</td><td>2021-01-21 18:33:01</td><td>0</td><td>0</td><td>root</td><td>root</td></tr>\n",
              "</tbody>\n",
              "</table>\n"
            ]
          },
          "metadata": {
            "tags": []
          }
        }
      ]
    },
    {
      "cell_type": "markdown",
      "metadata": {
        "id": "rKJKt_SnPUax"
      },
      "source": [
        "Notice that Zipcode_File is simply a string variable in R whose contents is the path to this file."
      ]
    },
    {
      "cell_type": "code",
      "metadata": {
        "colab": {
          "base_uri": "https://localhost:8080/",
          "height": 35
        },
        "id": "LvVU0O47ORQs",
        "outputId": "ff12d2ea-7f9c-4e3d-d6da-062946db97d9"
      },
      "source": [
        "Zipcode_File"
      ],
      "execution_count": null,
      "outputs": [
        {
          "output_type": "display_data",
          "data": {
            "text/plain": [
              "[1] \"/tmp/RtmpkoGaCD/file3e625a95dc\""
            ],
            "text/latex": "'/tmp/RtmpkoGaCD/file3e625a95dc'",
            "text/markdown": "'/tmp/RtmpkoGaCD/file3e625a95dc'",
            "text/html": [
              "'/tmp/RtmpkoGaCD/file3e625a95dc'"
            ]
          },
          "metadata": {
            "tags": []
          }
        }
      ]
    },
    {
      "cell_type": "markdown",
      "metadata": {
        "id": "ptuTcG_VPn5X"
      },
      "source": [
        "## Using the unzip() function"
      ]
    },
    {
      "cell_type": "markdown",
      "metadata": {
        "id": "H2901LZPP5Iy"
      },
      "source": [
        "After the zip file has been downloaded, the next step is to unzip the file so that R can retrieve the dataset.  The utility function unzip() will be used to accomplish this task.  The temporary file and directory will be passed into the unzip() function."
      ]
    },
    {
      "cell_type": "code",
      "metadata": {
        "id": "Asq8PDTuCX53"
      },
      "source": [
        "#Unzipping the file\r\n",
        "unzip(zipfile=Zipcode_File, exdir=Zipcode_Directory)"
      ],
      "execution_count": null,
      "outputs": []
    },
    {
      "cell_type": "markdown",
      "metadata": {
        "id": "uadKlC5CQjTL"
      },
      "source": [
        "The <strong>list.files()</strong> function is used here to list all the files contained in this temporary directory."
      ]
    },
    {
      "cell_type": "code",
      "metadata": {
        "colab": {
          "base_uri": "https://localhost:8080/",
          "height": 35
        },
        "id": "MMXN1ID-CX8d",
        "outputId": "af054a91-884e-4a70-957f-7f379c783540"
      },
      "source": [
        "#Get a list of all the files in the Zipcode_Directory\r\n",
        "list.files(Zipcode_Directory)"
      ],
      "execution_count": null,
      "outputs": [
        {
          "output_type": "display_data",
          "data": {
            "text/plain": [
              "[1] \"file3e625a95dc\" \"readme.txt\"     \"US.txt\"        "
            ],
            "text/latex": "\\begin{enumerate*}\n\\item 'file3e625a95dc'\n\\item 'readme.txt'\n\\item 'US.txt'\n\\end{enumerate*}\n",
            "text/markdown": "1. 'file3e625a95dc'\n2. 'readme.txt'\n3. 'US.txt'\n\n\n",
            "text/html": [
              "<style>\n",
              ".list-inline {list-style: none; margin:0; padding: 0}\n",
              ".list-inline>li {display: inline-block}\n",
              ".list-inline>li:not(:last-child)::after {content: \"\\00b7\"; padding: 0 .5ex}\n",
              "</style>\n",
              "<ol class=list-inline><li>'file3e625a95dc'</li><li>'readme.txt'</li><li>'US.txt'</li></ol>\n"
            ]
          },
          "metadata": {
            "tags": []
          }
        }
      ]
    },
    {
      "cell_type": "markdown",
      "metadata": {
        "id": "F-maWXaZRQoE"
      },
      "source": [
        "## Reading the unzipped (text) file into R"
      ]
    },
    {
      "cell_type": "markdown",
      "metadata": {
        "id": "7asSP3DVSLK3"
      },
      "source": [
        "In Colab, the temporary directory is contained within the tmp directory.\r\n",
        "\r\n",
        "\r\n",
        "<p align='center'><img src=\"https://drive.google.com/uc?export=view&id=1MUSRJLuriJ0VAvZFWa7ndbiWrJ7XhotB\"></p>\r\n",
        "\r\n",
        " "
      ]
    },
    {
      "cell_type": "markdown",
      "metadata": {
        "id": "voH8D1CFTW_1"
      },
      "source": [
        "Here the <strong>file.path()</strong> utility function will be used to create the necessary path to our dataset."
      ]
    },
    {
      "cell_type": "code",
      "metadata": {
        "id": "xiS2t2LcCzFQ"
      },
      "source": [
        "#Using file.path() function to create the necessary path to the file.\r\n",
        "filelocation <- file.path(Zipcode_Directory,\"US.txt\")"
      ],
      "execution_count": null,
      "outputs": []
    },
    {
      "cell_type": "code",
      "metadata": {
        "colab": {
          "base_uri": "https://localhost:8080/",
          "height": 35
        },
        "id": "yjzW77LaC7xA",
        "outputId": "618d5cca-d5e6-4319-dc2c-7c9fbe21b961"
      },
      "source": [
        "#Look at the newly created variable to verify the path\r\n",
        "filelocation"
      ],
      "execution_count": null,
      "outputs": [
        {
          "output_type": "display_data",
          "data": {
            "text/plain": [
              "[1] \"/tmp/RtmpkoGaCD/US.txt\""
            ],
            "text/latex": "'/tmp/RtmpkoGaCD/US.txt'",
            "text/markdown": "'/tmp/RtmpkoGaCD/US.txt'",
            "text/html": [
              "'/tmp/RtmpkoGaCD/US.txt'"
            ]
          },
          "metadata": {
            "tags": []
          }
        }
      ]
    },
    {
      "cell_type": "markdown",
      "metadata": {
        "id": "ArTVG5d1VxTM"
      },
      "source": [
        "Before reading in the US.txt file into R, let us first consider the structure of this file.  Make note that this file is *not* a CSV file.  This file appears to have a column structure -- albeit not all the columns are aligned."
      ]
    },
    {
      "cell_type": "markdown",
      "metadata": {
        "id": "TTLgrD2qV1AV"
      },
      "source": [
        "\r\n",
        "<p align='center'><img src=\"https://drive.google.com/uc?export=view&id=1FsXX6gbWBoY0PcCV2k1LN9x1fvkK3ZKh\"></p>\r\n"
      ]
    },
    {
      "cell_type": "markdown",
      "metadata": {
        "id": "UIck-vM2ZgwQ"
      },
      "source": [
        "This particular text file is <strong>tab aligned</strong>.  The tab is a hidden character and is most often not revealed when viewing the file.  All most all files have hidden characters, e.g. characters to identify an end of a line are present in a most file.\r\n",
        "\r\n",
        "Some more advanced text editors, e.g. Notepad ++, allow you to reveal the hidden characters in a file.  Here the tab character is indicated by an arrow and the end-of-line charaters are indicated by LF."
      ]
    },
    {
      "cell_type": "markdown",
      "metadata": {
        "id": "tr8BSp1TY4QV"
      },
      "source": [
        "\r\n",
        "\r\n",
        "<p align='center'><img src=\"https://drive.google.com/uc?export=view&id=1HriLPzOjb-eUeHK5YSzPAUn2ieXN_SYD\"></p>"
      ]
    },
    {
      "cell_type": "markdown",
      "metadata": {
        "id": "exEvXTEhaZ-4"
      },
      "source": [
        "The <strong>read.table()</strong> function can be used to read in this file.  Parameters being passed into this function include\r\n",
        "\r\n",
        "\r\n",
        "1.   The location of the file\r\n",
        "2.   The seperator used to seperate the various fields in this data file\r\n",
        "3.   A logical variable to indicate that field names are not present in this data file \r\n",
        "\r\n"
      ]
    },
    {
      "cell_type": "code",
      "metadata": {
        "id": "l_bxaFLzCX-v"
      },
      "source": [
        "Zipcode_Data <- read.table(file=filepath, sep=\"\\t\", header=FALSE)"
      ],
      "execution_count": null,
      "outputs": []
    },
    {
      "cell_type": "code",
      "metadata": {
        "colab": {
          "base_uri": "https://localhost:8080/",
          "height": 35
        },
        "id": "bnciIIabbNGP",
        "outputId": "3974a843-2cd9-40c7-d129-4141035ba0b7"
      },
      "source": [
        "#Verify that the data was read in correctly\r\n",
        "ls()"
      ],
      "execution_count": null,
      "outputs": [
        {
          "output_type": "display_data",
          "data": {
            "text/plain": [
              "[1] \"filelocation\"      \"Zipcode_Data\"      \"Zipcode_Directory\"\n",
              "[4] \"Zipcode_File\"     "
            ],
            "text/latex": "\\begin{enumerate*}\n\\item 'filelocation'\n\\item 'Zipcode\\_Data'\n\\item 'Zipcode\\_Directory'\n\\item 'Zipcode\\_File'\n\\end{enumerate*}\n",
            "text/markdown": "1. 'filelocation'\n2. 'Zipcode_Data'\n3. 'Zipcode_Directory'\n4. 'Zipcode_File'\n\n\n",
            "text/html": [
              "<style>\n",
              ".list-inline {list-style: none; margin:0; padding: 0}\n",
              ".list-inline>li {display: inline-block}\n",
              ".list-inline>li:not(:last-child)::after {content: \"\\00b7\"; padding: 0 .5ex}\n",
              "</style>\n",
              "<ol class=list-inline><li>'filelocation'</li><li>'Zipcode_Data'</li><li>'Zipcode_Directory'</li><li>'Zipcode_File'</li></ol>\n"
            ]
          },
          "metadata": {
            "tags": []
          }
        }
      ]
    },
    {
      "cell_type": "code",
      "metadata": {
        "colab": {
          "base_uri": "https://localhost:8080/",
          "height": 204
        },
        "id": "L8EmMuS9beoo",
        "outputId": "37f5a116-d4c7-44ac-d618-d1d901bd525e"
      },
      "source": [
        "#Use head() to verify the top few rows of the data.frame\r\n",
        "head(Zipcode_Data)"
      ],
      "execution_count": null,
      "outputs": [
        {
          "output_type": "display_data",
          "data": {
            "text/plain": [
              "  V1 V2    V3         V4     V5 V6                  V7 V8 V9 V10     V11      \n",
              "1 US 99553 Akutan     Alaska AK Aleutians East      13    NA 54.1430 -165.7854\n",
              "2 US 99571 Cold Bay   Alaska AK Aleutians East      13    NA 55.1858 -162.7211\n",
              "3 US 99583 False Pass Alaska AK Aleutians East      13    NA 54.8542 -163.4113\n",
              "4 US 99612 King Cove  Alaska AK Aleutians East      13    NA 55.0628 -162.3056\n",
              "5 US 99661 Sand Point Alaska AK Aleutians East      13    NA 55.3192 -160.4914\n",
              "6 US 99546 Adak       Alaska AK Aleutians West (CA) 16    NA 51.8740 -176.6340\n",
              "  V12\n",
              "1 1  \n",
              "2 1  \n",
              "3 1  \n",
              "4 1  \n",
              "5 1  \n",
              "6 1  "
            ],
            "text/latex": "A data.frame: 6 × 12\n\\begin{tabular}{r|llllllllllll}\n  & V1 & V2 & V3 & V4 & V5 & V6 & V7 & V8 & V9 & V10 & V11 & V12\\\\\n  & <chr> & <int> & <chr> & <chr> & <chr> & <chr> & <int> & <chr> & <int> & <dbl> & <dbl> & <int>\\\\\n\\hline\n\t1 & US & 99553 & Akutan     & Alaska & AK & Aleutians East      & 13 &  & NA & 54.1430 & -165.7854 & 1\\\\\n\t2 & US & 99571 & Cold Bay   & Alaska & AK & Aleutians East      & 13 &  & NA & 55.1858 & -162.7211 & 1\\\\\n\t3 & US & 99583 & False Pass & Alaska & AK & Aleutians East      & 13 &  & NA & 54.8542 & -163.4113 & 1\\\\\n\t4 & US & 99612 & King Cove  & Alaska & AK & Aleutians East      & 13 &  & NA & 55.0628 & -162.3056 & 1\\\\\n\t5 & US & 99661 & Sand Point & Alaska & AK & Aleutians East      & 13 &  & NA & 55.3192 & -160.4914 & 1\\\\\n\t6 & US & 99546 & Adak       & Alaska & AK & Aleutians West (CA) & 16 &  & NA & 51.8740 & -176.6340 & 1\\\\\n\\end{tabular}\n",
            "text/markdown": "\nA data.frame: 6 × 12\n\n| <!--/--> | V1 &lt;chr&gt; | V2 &lt;int&gt; | V3 &lt;chr&gt; | V4 &lt;chr&gt; | V5 &lt;chr&gt; | V6 &lt;chr&gt; | V7 &lt;int&gt; | V8 &lt;chr&gt; | V9 &lt;int&gt; | V10 &lt;dbl&gt; | V11 &lt;dbl&gt; | V12 &lt;int&gt; |\n|---|---|---|---|---|---|---|---|---|---|---|---|---|\n| 1 | US | 99553 | Akutan     | Alaska | AK | Aleutians East      | 13 | <!----> | NA | 54.1430 | -165.7854 | 1 |\n| 2 | US | 99571 | Cold Bay   | Alaska | AK | Aleutians East      | 13 | <!----> | NA | 55.1858 | -162.7211 | 1 |\n| 3 | US | 99583 | False Pass | Alaska | AK | Aleutians East      | 13 | <!----> | NA | 54.8542 | -163.4113 | 1 |\n| 4 | US | 99612 | King Cove  | Alaska | AK | Aleutians East      | 13 | <!----> | NA | 55.0628 | -162.3056 | 1 |\n| 5 | US | 99661 | Sand Point | Alaska | AK | Aleutians East      | 13 | <!----> | NA | 55.3192 | -160.4914 | 1 |\n| 6 | US | 99546 | Adak       | Alaska | AK | Aleutians West (CA) | 16 | <!----> | NA | 51.8740 | -176.6340 | 1 |\n\n",
            "text/html": [
              "<table>\n",
              "<caption>A data.frame: 6 × 12</caption>\n",
              "<thead>\n",
              "\t<tr><th></th><th scope=col>V1</th><th scope=col>V2</th><th scope=col>V3</th><th scope=col>V4</th><th scope=col>V5</th><th scope=col>V6</th><th scope=col>V7</th><th scope=col>V8</th><th scope=col>V9</th><th scope=col>V10</th><th scope=col>V11</th><th scope=col>V12</th></tr>\n",
              "\t<tr><th></th><th scope=col>&lt;chr&gt;</th><th scope=col>&lt;int&gt;</th><th scope=col>&lt;chr&gt;</th><th scope=col>&lt;chr&gt;</th><th scope=col>&lt;chr&gt;</th><th scope=col>&lt;chr&gt;</th><th scope=col>&lt;int&gt;</th><th scope=col>&lt;chr&gt;</th><th scope=col>&lt;int&gt;</th><th scope=col>&lt;dbl&gt;</th><th scope=col>&lt;dbl&gt;</th><th scope=col>&lt;int&gt;</th></tr>\n",
              "</thead>\n",
              "<tbody>\n",
              "\t<tr><th scope=row>1</th><td>US</td><td>99553</td><td>Akutan    </td><td>Alaska</td><td>AK</td><td>Aleutians East     </td><td>13</td><td></td><td>NA</td><td>54.1430</td><td>-165.7854</td><td>1</td></tr>\n",
              "\t<tr><th scope=row>2</th><td>US</td><td>99571</td><td>Cold Bay  </td><td>Alaska</td><td>AK</td><td>Aleutians East     </td><td>13</td><td></td><td>NA</td><td>55.1858</td><td>-162.7211</td><td>1</td></tr>\n",
              "\t<tr><th scope=row>3</th><td>US</td><td>99583</td><td>False Pass</td><td>Alaska</td><td>AK</td><td>Aleutians East     </td><td>13</td><td></td><td>NA</td><td>54.8542</td><td>-163.4113</td><td>1</td></tr>\n",
              "\t<tr><th scope=row>4</th><td>US</td><td>99612</td><td>King Cove </td><td>Alaska</td><td>AK</td><td>Aleutians East     </td><td>13</td><td></td><td>NA</td><td>55.0628</td><td>-162.3056</td><td>1</td></tr>\n",
              "\t<tr><th scope=row>5</th><td>US</td><td>99661</td><td>Sand Point</td><td>Alaska</td><td>AK</td><td>Aleutians East     </td><td>13</td><td></td><td>NA</td><td>55.3192</td><td>-160.4914</td><td>1</td></tr>\n",
              "\t<tr><th scope=row>6</th><td>US</td><td>99546</td><td>Adak      </td><td>Alaska</td><td>AK</td><td>Aleutians West (CA)</td><td>16</td><td></td><td>NA</td><td>51.8740</td><td>-176.6340</td><td>1</td></tr>\n",
              "</tbody>\n",
              "</table>\n"
            ]
          },
          "metadata": {
            "tags": []
          }
        }
      ]
    },
    {
      "cell_type": "markdown",
      "metadata": {
        "id": "tX3nRh2hborY"
      },
      "source": [
        "Next, we will add in appropriate names for the 12 fields in this data.frame.  Information regarding these 12 fields is provided in the readme.txt file that was contained in the zipped file that was downloaded. "
      ]
    },
    {
      "cell_type": "markdown",
      "metadata": {
        "id": "24YcIrbMVy6z"
      },
      "source": [
        "<p align='center'><img src=\"https://drive.google.com/uc?export=view&id=1HhWzpoJ3z3OAZNIKvJHRttOXIHcGCJ86\"></p>\r\n",
        "\r\n"
      ]
    },
    {
      "cell_type": "markdown",
      "metadata": {
        "id": "4KC75lyLcJOB"
      },
      "source": [
        "The <strong>names()</strong> function can be used to provide names to fields contained in a data.frame."
      ]
    },
    {
      "cell_type": "code",
      "metadata": {
        "colab": {
          "base_uri": "https://localhost:8080/",
          "height": 35
        },
        "id": "iQ5JiS7FCYA-",
        "outputId": "09e31156-6250-4e18-d03d-9827a0fb8b85"
      },
      "source": [
        "#Existing names for the 12 fields in this data.frame\r\n",
        "names(Zipcode_Data)"
      ],
      "execution_count": null,
      "outputs": [
        {
          "output_type": "display_data",
          "data": {
            "text/plain": [
              " [1] \"V1\"  \"V2\"  \"V3\"  \"V4\"  \"V5\"  \"V6\"  \"V7\"  \"V8\"  \"V9\"  \"V10\" \"V11\" \"V12\""
            ],
            "text/latex": "\\begin{enumerate*}\n\\item 'V1'\n\\item 'V2'\n\\item 'V3'\n\\item 'V4'\n\\item 'V5'\n\\item 'V6'\n\\item 'V7'\n\\item 'V8'\n\\item 'V9'\n\\item 'V10'\n\\item 'V11'\n\\item 'V12'\n\\end{enumerate*}\n",
            "text/markdown": "1. 'V1'\n2. 'V2'\n3. 'V3'\n4. 'V4'\n5. 'V5'\n6. 'V6'\n7. 'V7'\n8. 'V8'\n9. 'V9'\n10. 'V10'\n11. 'V11'\n12. 'V12'\n\n\n",
            "text/html": [
              "<style>\n",
              ".list-inline {list-style: none; margin:0; padding: 0}\n",
              ".list-inline>li {display: inline-block}\n",
              ".list-inline>li:not(:last-child)::after {content: \"\\00b7\"; padding: 0 .5ex}\n",
              "</style>\n",
              "<ol class=list-inline><li>'V1'</li><li>'V2'</li><li>'V3'</li><li>'V4'</li><li>'V5'</li><li>'V6'</li><li>'V7'</li><li>'V8'</li><li>'V9'</li><li>'V10'</li><li>'V11'</li><li>'V12'</li></ol>\n"
            ]
          },
          "metadata": {
            "tags": []
          }
        }
      ]
    },
    {
      "cell_type": "code",
      "metadata": {
        "id": "52OyMHFDcimZ"
      },
      "source": [
        "#Creating new names for the Zipcode_Data data.frame\r\n",
        "names(Zipcode_Data) <- c(\"Country\", \"Zipcode\", \"Location\", \"StateName\", \"StateAbbrevation\",\"CountyName\", \"CountyAbbreviation\", \"CommunityName\", \"CommunityAbbreviation\", \"Latitude\", \"Longitude\", \"Accuracy\")"
      ],
      "execution_count": null,
      "outputs": []
    },
    {
      "cell_type": "code",
      "metadata": {
        "colab": {
          "base_uri": "https://localhost:8080/",
          "height": 35
        },
        "id": "i_5IpxUmdOl-",
        "outputId": "b214bf1a-f35b-44b8-fa06-a9c0e6c3225a"
      },
      "source": [
        "#Verify that new names were correctly applied to this data.frame\r\n",
        "names(Zipcode_Data)"
      ],
      "execution_count": null,
      "outputs": [
        {
          "output_type": "display_data",
          "data": {
            "text/plain": [
              " [1] \"Country\"               \"Zipcode\"               \"Location\"             \n",
              " [4] \"StateName\"             \"StateAbbrevation\"      \"CountyName\"           \n",
              " [7] \"CountyAbbreviation\"    \"CommunityName\"         \"CommunityAbbreviation\"\n",
              "[10] \"Latitude\"              \"Longitude\"             \"Accuracy\"             "
            ],
            "text/latex": "\\begin{enumerate*}\n\\item 'Country'\n\\item 'Zipcode'\n\\item 'Location'\n\\item 'StateName'\n\\item 'StateAbbrevation'\n\\item 'CountyName'\n\\item 'CountyAbbreviation'\n\\item 'CommunityName'\n\\item 'CommunityAbbreviation'\n\\item 'Latitude'\n\\item 'Longitude'\n\\item 'Accuracy'\n\\end{enumerate*}\n",
            "text/markdown": "1. 'Country'\n2. 'Zipcode'\n3. 'Location'\n4. 'StateName'\n5. 'StateAbbrevation'\n6. 'CountyName'\n7. 'CountyAbbreviation'\n8. 'CommunityName'\n9. 'CommunityAbbreviation'\n10. 'Latitude'\n11. 'Longitude'\n12. 'Accuracy'\n\n\n",
            "text/html": [
              "<style>\n",
              ".list-inline {list-style: none; margin:0; padding: 0}\n",
              ".list-inline>li {display: inline-block}\n",
              ".list-inline>li:not(:last-child)::after {content: \"\\00b7\"; padding: 0 .5ex}\n",
              "</style>\n",
              "<ol class=list-inline><li>'Country'</li><li>'Zipcode'</li><li>'Location'</li><li>'StateName'</li><li>'StateAbbrevation'</li><li>'CountyName'</li><li>'CountyAbbreviation'</li><li>'CommunityName'</li><li>'CommunityAbbreviation'</li><li>'Latitude'</li><li>'Longitude'</li><li>'Accuracy'</li></ol>\n"
            ]
          },
          "metadata": {
            "tags": []
          }
        }
      ]
    },
    {
      "cell_type": "markdown",
      "metadata": {
        "id": "9rWOb4bOeXVs"
      },
      "source": [
        "The <strong>str()</strong> function can be used to identify the structure of the various columns in the data.frame."
      ]
    },
    {
      "cell_type": "code",
      "metadata": {
        "colab": {
          "base_uri": "https://localhost:8080/"
        },
        "id": "iSlHEaJ2CYDS",
        "outputId": "00857d99-a35f-4a9d-9113-7d0edd87685e"
      },
      "source": [
        "str(Zipcode_Data)"
      ],
      "execution_count": null,
      "outputs": [
        {
          "output_type": "stream",
          "text": [
            "'data.frame':\t40268 obs. of  12 variables:\n",
            " $ Country              : chr  \"US\" \"US\" \"US\" \"US\" ...\n",
            " $ Zipcode              : int  99553 99571 99583 99612 99661 99546 99547 99591 99638 99660 ...\n",
            " $ Location             : chr  \"Akutan\" \"Cold Bay\" \"False Pass\" \"King Cove\" ...\n",
            " $ StateName            : chr  \"Alaska\" \"Alaska\" \"Alaska\" \"Alaska\" ...\n",
            " $ StateAbbrevation     : chr  \"AK\" \"AK\" \"AK\" \"AK\" ...\n",
            " $ CountyName           : chr  \"Aleutians East\" \"Aleutians East\" \"Aleutians East\" \"Aleutians East\" ...\n",
            " $ CountyAbbreviation   : int  13 13 13 13 13 16 16 16 16 16 ...\n",
            " $ CommunityName        : chr  \"\" \"\" \"\" \"\" ...\n",
            " $ CommunityAbbreviation: int  NA NA NA NA NA NA NA NA NA NA ...\n",
            " $ Latitude             : num  54.1 55.2 54.9 55.1 55.3 ...\n",
            " $ Longitude            : num  -166 -163 -163 -162 -160 ...\n",
            " $ Accuracy             : int  1 1 1 1 1 1 1 1 1 1 ...\n"
          ],
          "name": "stdout"
        }
      ]
    },
    {
      "cell_type": "markdown",
      "metadata": {
        "id": "R4DdmJV1en43"
      },
      "source": [
        "Notice that Zipcode is specified as an integer.  Indeed a zipcode is a five digit number; however, the Zipcode field is simply a sequence of five digits to identify a location.  For example, it does not make sense to add two zipcodes together.  For this reason, a string type is most likely more meaningful for the Zipcode field.  The <strong>as.character()</strong> function can be used to convert a vector into a string vector."
      ]
    },
    {
      "cell_type": "code",
      "metadata": {
        "id": "i4AQ0gbJetzw"
      },
      "source": [
        "Zipcode_Data$Zipcode <- as.character(Zipcode_Data$Zipcode)"
      ],
      "execution_count": null,
      "outputs": []
    },
    {
      "cell_type": "code",
      "metadata": {
        "colab": {
          "base_uri": "https://localhost:8080/"
        },
        "id": "yljFmB5Ee0Ck",
        "outputId": "0d36aa38-4574-46a3-be71-67f8444f254e"
      },
      "source": [
        "#Verify that Zipcode is indeed a string vector\r\n",
        "str(Zipcode_Data)"
      ],
      "execution_count": null,
      "outputs": [
        {
          "output_type": "stream",
          "text": [
            "'data.frame':\t40268 obs. of  12 variables:\n",
            " $ Country              : chr  \"US\" \"US\" \"US\" \"US\" ...\n",
            " $ Zipcode              : chr  \"99553\" \"99571\" \"99583\" \"99612\" ...\n",
            " $ Location             : chr  \"Akutan\" \"Cold Bay\" \"False Pass\" \"King Cove\" ...\n",
            " $ StateName            : chr  \"Alaska\" \"Alaska\" \"Alaska\" \"Alaska\" ...\n",
            " $ StateAbbrevation     : chr  \"AK\" \"AK\" \"AK\" \"AK\" ...\n",
            " $ CountyName           : chr  \"Aleutians East\" \"Aleutians East\" \"Aleutians East\" \"Aleutians East\" ...\n",
            " $ CountyAbbreviation   : int  13 13 13 13 13 16 16 16 16 16 ...\n",
            " $ CommunityName        : chr  \"\" \"\" \"\" \"\" ...\n",
            " $ CommunityAbbreviation: int  NA NA NA NA NA NA NA NA NA NA ...\n",
            " $ Latitude             : num  54.1 55.2 54.9 55.1 55.3 ...\n",
            " $ Longitude            : num  -166 -163 -163 -162 -160 ...\n",
            " $ Accuracy             : int  1 1 1 1 1 1 1 1 1 1 ...\n"
          ],
          "name": "stdout"
        }
      ]
    },
    {
      "cell_type": "code",
      "metadata": {
        "colab": {
          "base_uri": "https://localhost:8080/"
        },
        "id": "hpXJaFk5e88l",
        "outputId": "e8fa85be-5194-4285-ae2a-7a56482f7688"
      },
      "source": [
        "#The as.integer() function can be used to convert back to an integer type\r\n",
        "Zipcode_Data$Zipcode <- as.integer(Zipcode_Data$Zipcode)\r\n",
        "str(Zipcode_Data)"
      ],
      "execution_count": null,
      "outputs": [
        {
          "output_type": "stream",
          "text": [
            "'data.frame':\t40268 obs. of  12 variables:\n",
            " $ Country              : chr  \"US\" \"US\" \"US\" \"US\" ...\n",
            " $ Zipcode              : int  99553 99571 99583 99612 99661 99546 99547 99591 99638 99660 ...\n",
            " $ Location             : chr  \"Akutan\" \"Cold Bay\" \"False Pass\" \"King Cove\" ...\n",
            " $ StateName            : chr  \"Alaska\" \"Alaska\" \"Alaska\" \"Alaska\" ...\n",
            " $ StateAbbrevation     : chr  \"AK\" \"AK\" \"AK\" \"AK\" ...\n",
            " $ CountyName           : chr  \"Aleutians East\" \"Aleutians East\" \"Aleutians East\" \"Aleutians East\" ...\n",
            " $ CountyAbbreviation   : int  13 13 13 13 13 16 16 16 16 16 ...\n",
            " $ CommunityName        : chr  \"\" \"\" \"\" \"\" ...\n",
            " $ CommunityAbbreviation: int  NA NA NA NA NA NA NA NA NA NA ...\n",
            " $ Latitude             : num  54.1 55.2 54.9 55.1 55.3 ...\n",
            " $ Longitude            : num  -166 -163 -163 -162 -160 ...\n",
            " $ Accuracy             : int  1 1 1 1 1 1 1 1 1 1 ...\n"
          ],
          "name": "stdout"
        }
      ]
    },
    {
      "cell_type": "markdown",
      "metadata": {
        "id": "miKgwyY8e7bN"
      },
      "source": [
        "<strong>Questions</strong>\r\n",
        "\r\n",
        "\r\n",
        "1.   Currently there are a little over 41,000 zipcodes in the United States. How many zipcodes are included in the file that was read in by R?\r\n",
        "\r\n"
      ]
    },
    {
      "cell_type": "code",
      "metadata": {
        "colab": {
          "base_uri": "https://localhost:8080/",
          "height": 35
        },
        "id": "8gcah0C2CYFx",
        "outputId": "b3839b57-eda2-44a8-d82d-c4281d4660aa"
      },
      "source": [
        "dim(mydata2)"
      ],
      "execution_count": null,
      "outputs": [
        {
          "output_type": "display_data",
          "data": {
            "text/plain": [
              "[1] 40268    12"
            ],
            "text/latex": "\\begin{enumerate*}\n\\item 40268\n\\item 12\n\\end{enumerate*}\n",
            "text/markdown": "1. 40268\n2. 12\n\n\n",
            "text/html": [
              "<style>\n",
              ".list-inline {list-style: none; margin:0; padding: 0}\n",
              ".list-inline>li {display: inline-block}\n",
              ".list-inline>li:not(:last-child)::after {content: \"\\00b7\"; padding: 0 .5ex}\n",
              "</style>\n",
              "<ol class=list-inline><li>40268</li><li>12</li></ol>\n"
            ]
          },
          "metadata": {
            "tags": []
          }
        }
      ]
    },
    {
      "cell_type": "markdown",
      "metadata": {
        "id": "WBgOJqvfhMLL"
      },
      "source": [
        "<strong>Task</strong>:\r\n",
        "\r\n",
        "R did not correctly read in all the zipcodes in the US.txt file.  Your task is to figure out why and fix it.  Hint:  The first occurance of the issue occured when reading in the lines for Iowa."
      ]
    },
    {
      "cell_type": "markdown",
      "metadata": {
        "id": "sKHr1betg7RZ"
      },
      "source": [
        "<br><br><br><strong>Note:</strong> The following command can be used to save a csv version of the Zipcode_Data into our working R directory."
      ]
    },
    {
      "cell_type": "code",
      "metadata": {
        "id": "V1dVXzgnHaKR"
      },
      "source": [
        "write.csv(Zipcode_Data,file=\"/content/Zipcode_Data.csv\")"
      ],
      "execution_count": null,
      "outputs": []
    }
  ]
}