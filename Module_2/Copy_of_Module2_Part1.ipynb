{
  "nbformat": 4,
  "nbformat_minor": 0,
  "metadata": {
    "colab": {
      "name": "Copy of Module2_Part1.ipynb",
      "provenance": [],
      "toc_visible": true
    },
    "kernelspec": {
      "name": "python3",
      "display_name": "Python 3"
    }
  },
  "cells": [
    {
      "cell_type": "markdown",
      "metadata": {
        "id": "R05cYFVzZm7R"
      },
      "source": [
        "# Module 2 | Part 1: Pre-Processing of Data Files"
      ]
    },
    {
      "cell_type": "markdown",
      "metadata": {
        "id": "BbnR0V-jbBzu"
      },
      "source": [
        "This handout will include some of the common tasks regarding the pre-processing of data file before the data is read into R or Python.  In particular, the processing being done here is happening at the operating system level.  \r\n"
      ]
    },
    {
      "cell_type": "markdown",
      "metadata": {
        "id": "oPMXRRD9kY3m"
      },
      "source": [
        "<table width='100%' ><tr><td bgcolor='green'></td></tr></table>\r\n",
        "\r\n",
        "### Example 2.1.1\r\n",
        "\r\n",
        "Consider data on births in the United States. This information is provided by the Center for Disease Control (CDC) and it's Natality data within their  WONDER online databases.\r\n",
        "\r\n",
        "Two different datasets were obtained for the most recent year available. \r\n",
        "\r\n",
        "*   Number of Births that took place At Home for each State\r\n",
        "*   Number of Births that took place in a Hospital for each State\r\n",
        "\r\n",
        "<i>Data Sources</i>: https://wonder.cdc.gov/natality-current.html\r\n",
        "\r\n",
        "<table width='100%' ><tr><td bgcolor='green'></td></tr></table>"
      ]
    },
    {
      "cell_type": "markdown",
      "metadata": {
        "id": "v3j4KfE4kDAm"
      },
      "source": [
        "These two data files have been saved into the following folder in Colab.\r\n",
        "\r\n",
        "<p align='center'><img src=\"https://drive.google.com/uc?export=view&id=1jieTL2t7jEocOtJAas1Svn8nOKNByKBr \"></p>\r\n",
        "\r\n"
      ]
    },
    {
      "cell_type": "markdown",
      "metadata": {
        "id": "1t1JFKoaln--"
      },
      "source": [
        "## Utility Functions to View Contents of a File\r\n",
        "Colab / iPython Notebook allows one to run commands at the operating system level using typical code blocks.  The commands must simply be preceeded with <strong>!</strong> , i.e. an exclaimation point."
      ]
    },
    {
      "cell_type": "markdown",
      "metadata": {
        "id": "H-JsRFwyl3GF"
      },
      "source": [
        "For example, to get a listing of file in a particular directory, use <strong> !ls *\\<path to directory\\>* </strong>"
      ]
    },
    {
      "cell_type": "code",
      "metadata": {
        "id": "icz2AxREaq--"
      },
      "source": [
        "#A listing of the files in the /content/sample_data/ folder\r\n",
        "!ls '/content/sample_data'"
      ],
      "execution_count": null,
      "outputs": []
    },
    {
      "cell_type": "markdown",
      "metadata": {
        "id": "E85MpubHmlaF"
      },
      "source": [
        "To see the contents of a file, use <strong> !cat *\\<filename\\>* </strong>\r\n",
        "\r\n",
        "WARNING: Do *not* run this command on a large file."
      ]
    },
    {
      "cell_type": "code",
      "metadata": {
        "id": "5uTqherImkxG"
      },
      "source": [
        "!cat /content/sample_data/athome.txt"
      ],
      "execution_count": null,
      "outputs": []
    },
    {
      "cell_type": "markdown",
      "metadata": {
        "id": "wyCwQhxDnFUV"
      },
      "source": [
        "For large files, use <strong> !head *\\<filename\\>* </strong> instead of !cat"
      ]
    },
    {
      "cell_type": "code",
      "metadata": {
        "id": "dOAyZyBNnNx9"
      },
      "source": [
        "!head /content/sample_data/athome.txt"
      ],
      "execution_count": null,
      "outputs": []
    },
    {
      "cell_type": "markdown",
      "metadata": {
        "id": "GtSB2UqmnnMN"
      },
      "source": [
        "To view the last 15 lines of a file, use <strong> !tail -n 15 *\\<filename\\>* </strong>"
      ]
    },
    {
      "cell_type": "code",
      "metadata": {
        "id": "OfphcKJwnwi1"
      },
      "source": [
        "#Print last 15 lines of a file\r\n",
        "!tail -n 15 /content/sample_data/athome.txt"
      ],
      "execution_count": null,
      "outputs": []
    },
    {
      "cell_type": "markdown",
      "metadata": {
        "id": "7Tva-2QtqVf9"
      },
      "source": [
        "Next, print all lines in a file -- starting with Line #2."
      ]
    },
    {
      "cell_type": "code",
      "metadata": {
        "id": "z_n3Kiaeoybg"
      },
      "source": [
        "#Don't print the first line, use + with !tail\r\n",
        "!tail -n +2 /content/sample_data/athome.txt"
      ],
      "execution_count": null,
      "outputs": []
    },
    {
      "cell_type": "markdown",
      "metadata": {
        "id": "bypwbXfvqf9c"
      },
      "source": [
        "Finally, printing lines from the start to a certain point -- truncating the last 22 lines here.  Use case here would be to exclude footer information."
      ]
    },
    {
      "cell_type": "code",
      "metadata": {
        "id": "jeZHeRu-qsTF"
      },
      "source": [
        "#Do not print the last number of lines, use - with !head\r\n",
        "!head -n -22 /content/sample_data/athome.txt"
      ],
      "execution_count": null,
      "outputs": []
    },
    {
      "cell_type": "markdown",
      "metadata": {
        "id": "bnOWtbiVr-2r"
      },
      "source": [
        "## Using SED to Manipulate Files"
      ]
    },
    {
      "cell_type": "markdown",
      "metadata": {
        "id": "86o3H7GbsUkp"
      },
      "source": [
        "A text editor can be used to change the contents of a file. SED (Stream EDitor) is a common text editor that can be used to manipulate text files from a command line.\r\n",
        "\r\n",
        "Wiki Page for sed: https://en.wikipedia.org/wiki/Sed"
      ]
    },
    {
      "cell_type": "markdown",
      "metadata": {
        "id": "fwh14dDFtYOc"
      },
      "source": [
        "A text editor such as sed is certainly more powerful than commands used to print the contents of a file.  For example, the following sed command can be used to print a sequence of lines in the middle of a file. "
      ]
    },
    {
      "cell_type": "code",
      "metadata": {
        "id": "MYZrT2tNrwwz"
      },
      "source": [
        "#Printing lines 2 through 52 of a file\r\n",
        "!sed -n 2,52p /content/sample_data/athome.txt"
      ],
      "execution_count": null,
      "outputs": []
    },
    {
      "cell_type": "markdown",
      "metadata": {
        "id": "T15lNi5VvSwE"
      },
      "source": [
        "SED allows one to *push* the contents being printing to the screen to be saved into a second file.  This action requires the use of a piping command, i.e. <strong>></strong>, and a file name should be provided for the new file."
      ]
    },
    {
      "cell_type": "code",
      "metadata": {
        "id": "kPQNSnbauwlO"
      },
      "source": [
        "#Printing lines 2 through 52 of a file AND pushing contents from print into a new file\r\n",
        "!sed -n 2,52p /content/sample_data/athome.txt > /content/sample_data/AtHome_Births_StateLevel_v2.txt"
      ],
      "execution_count": 15,
      "outputs": []
    },
    {
      "cell_type": "code",
      "metadata": {
        "id": "pu5Jp8X1gfkX"
      },
      "source": [
        "!sed -n 's/---//' /content/sample_data/athome.txt > /content/sample_data/AtHome_Births_StateLevel_v2.txt"
      ],
      "execution_count": null,
      "outputs": []
    },
    {
      "cell_type": "code",
      "metadata": {
        "id": "l_VpeOphu4Ul"
      },
      "source": [
        "#Checking to see if new file was created\r\n",
        "!ls '/content/sample_data'"
      ],
      "execution_count": null,
      "outputs": []
    },
    {
      "cell_type": "code",
      "metadata": {
        "id": "gYssmYqOwIwH"
      },
      "source": [
        "#Printing entire file to view changes\r\n",
        "!cat /content/sample_data/AtHome_Births_StateLevel_v2.txt"
      ],
      "execution_count": null,
      "outputs": []
    },
    {
      "cell_type": "markdown",
      "metadata": {
        "id": "CGHVBWza9lEm"
      },
      "source": [
        "## Using SED to Find/Replace Contents"
      ]
    },
    {
      "cell_type": "markdown",
      "metadata": {
        "id": "HACJTPuFzaoX"
      },
      "source": [
        "Notice that each line in this data file begins with a tab character.  This is evident when the file is put into Notepad ++ and Show All Characters has been specifed for the text file.\r\n",
        "\r\n",
        "<p align='center'><img src=\"https://drive.google.com/uc?export=view&id=1JR_XPxdAl2RPsJAod1s7BW8V7vdUXkU_\"></p>\r\n",
        "\r\n"
      ]
    },
    {
      "cell_type": "markdown",
      "metadata": {
        "id": "5CLOAfrv4kVQ"
      },
      "source": [
        "The following sed command does the following\r\n",
        "\r\n",
        "*   Searches each line of the file named *filename*\r\n",
        "*   Finds the first occurance of the tab character, i.e. \\t\r\n",
        "*   Replaces the first occurance of \\t with *nothing*\r\n",
        "*   Creates a new file, named *filename2* for the output\r\n",
        "\r\n",
        "\r\n",
        "\r\n",
        "\r\n",
        "<p align='center'><img src=\"https://drive.google.com/uc?export=view&id=1sg9zYH1c2i6Ucrxm-2i6uiVy7SYvb_1_\"></p>"
      ]
    },
    {
      "cell_type": "code",
      "metadata": {
        "id": "CqUXFcvwzc4r"
      },
      "source": [
        "#Run the command above to remove the first tab occurance on each line in the AtHome_Births_StateLevel_v2 file\r\n",
        "!sed 's/\\t//' /content/sample_data/AtHome_Births_StateLevel_v2.txt > /content/sample_data/AtHome_Births_StateLevel_v3.txt"
      ],
      "execution_count": 19,
      "outputs": []
    },
    {
      "cell_type": "code",
      "metadata": {
        "id": "3oznOp1Izpk0"
      },
      "source": [
        "#Verify that this command produces the desired output\r\n",
        "!cat /content/sample_data/AtHome_Births_StateLevel_v3.txt"
      ],
      "execution_count": null,
      "outputs": []
    },
    {
      "cell_type": "markdown",
      "metadata": {
        "id": "pk8cAS5b4uUH"
      },
      "source": [
        "The removal of the first tab occurance can be verified in Notepad ++ as is shown here.\r\n",
        "\r\n",
        "<p align='center'><img src=\"https://drive.google.com/uc?export=view&id=1-7ALLdTSvPTjrFrH4u3q4maTkdenzkEX\"></p>"
      ]
    },
    {
      "cell_type": "markdown",
      "metadata": {
        "id": "JGF7weUv44cn"
      },
      "source": [
        "SED can be used to easily convert this tab delimited file into the more common CSV delimited file.  In this situaiton all occurance of the tab character will be replaced with the comma.\r\n",
        "\r\n",
        "*   Search each line of the file named *filename*\r\n",
        "*   Finds each occurance of the tab character, i.e. \\t\r\n",
        "*   Replaces the each occurance of \\t with ,\r\n",
        "*   The trailing g preforms a global search, i.e. all occurances\r\n",
        "*   Creates a new file, named *filename2* for the output\r\n",
        "\r\n",
        "<p align='center'><img src=\"https://drive.google.com/uc?export=view&id=1fUmMPbEsRXSNdld3gn-gcTfPlQhXtQ95\"></p>"
      ]
    },
    {
      "cell_type": "code",
      "metadata": {
        "id": "Fzyunn4g7FUd"
      },
      "source": [
        "#Convert from tab delimited to comma delimited\r\n",
        "!sed 's/\\t/,/g' /content/sample_data/AtHome_Births_StateLevel_v3.txt > /content/sample_data/AtHome_Births_StateLevel_v4.txt"
      ],
      "execution_count": 42,
      "outputs": []
    },
    {
      "cell_type": "code",
      "metadata": {
        "id": "gbq0q5YD0DHU"
      },
      "source": [
        "#Verify that conversion was completed successfully\r\n",
        "!cat /content/sample_data/AtHome_Births_StateLevel_v4.txt"
      ],
      "execution_count": null,
      "outputs": []
    },
    {
      "cell_type": "markdown",
      "metadata": {
        "id": "aztgvtNF8TN7"
      },
      "source": [
        "## Using SED to Insert/Delete Lines"
      ]
    },
    {
      "cell_type": "markdown",
      "metadata": {
        "id": "eHlnNEf0_XP1"
      },
      "source": [
        "Next, sed will be used to add field or variable names to the first line of this data file. \r\n",
        "\r\n",
        "*   Insert a line at line 1\r\n",
        "*   Insert the field/variable names into Line 1; Contents are contained with slashes\r\n",
        "*   Create a new file, named *filename2* for the output\r\n",
        "\r\n",
        "<p align='center'><img src=\"https://drive.google.com/uc?export=view&id=1Rdzm5SCRiKKdt67JBcX5uJ6toNk6CVan\"></p>"
      ]
    },
    {
      "cell_type": "code",
      "metadata": {
        "id": "eMoGmQ0B8SgU"
      },
      "source": [
        "#Insert variable names into first line of data file\r\n",
        "## NOTE: Be careful not to run this line mutiple times          ##\r\n",
        "##       Can delete lines using '1d' option of sed (see below)  ##\r\n",
        "\r\n",
        "!sed '1i \\State, StateCode, Year, YearCode, AtHomeCount\\' /content/sample_data/AtHome_Births_StateLevel_v4.txt > /content/sample_data/AtHome_Births_StateLevel_v5.txt "
      ],
      "execution_count": 47,
      "outputs": []
    },
    {
      "cell_type": "code",
      "metadata": {
        "id": "-1RlqkQq8mUe"
      },
      "source": [
        "#Verify that header was successfully added to thd data file\r\n",
        "!cat /content/sample_data/AtHome_Births_StateLevel_v5.txt"
      ],
      "execution_count": null,
      "outputs": []
    },
    {
      "cell_type": "markdown",
      "metadata": {
        "id": "wGbipl8y_iO_"
      },
      "source": [
        "Comment:  The -i option in sed permits one to edit the file <strong>in-place</strong>.  Here, the header information here is put into the *same* file -- no new file is being created here for the output.\r\n",
        "\r\n",
        "<p align='center'><img src=\"https://drive.google.com/uc?export=view&id=1-HSWFO_nvam13ZBI3peDbB8a2G60k-ep\"></p>"
      ]
    },
    {
      "cell_type": "markdown",
      "metadata": {
        "id": "6Q4VYxiKEbJ0"
      },
      "source": [
        "The following command can be used to <strong>delete</strong> line 1 from an existing data file."
      ]
    },
    {
      "cell_type": "code",
      "metadata": {
        "id": "kSp3RiN0c-sg"
      },
      "source": [
        "#The following can be used delete the first line in a data file\r\n",
        "!sed -i '1d' /content/sample_data/AtHome_Births_StateLevel_v5.txt"
      ],
      "execution_count": 46,
      "outputs": []
    },
    {
      "cell_type": "markdown",
      "metadata": {
        "id": "xUcZ3_GANAxI"
      },
      "source": [
        "## Complete the following task:\r\n",
        "\r\n",
        "\r\n",
        "1.   Clean-up the hosptial data file, e.g. remove footer info, remove initial tabs on each line, etc.\r\n",
        "2.   Convert the file from tab deliminated to comma deliminated\r\n",
        "3.   Add an appropriate header to label each field\r\n",
        "\r\n"
      ]
    },
    {
      "cell_type": "markdown",
      "metadata": {
        "id": "fomoixfik_X6"
      },
      "source": [
        "gets lines needed from file and prints\r\n"
      ]
    },
    {
      "cell_type": "code",
      "metadata": {
        "colab": {
          "base_uri": "https://localhost:8080/"
        },
        "id": "Hey6G89Qg8bW",
        "outputId": "3599496d-355c-4556-d46f-08839ae01ad2"
      },
      "source": [
        "\r\n",
        "!sed -n 2,52p /content/sample_data/hospital.txt > /content/sample_data/hospital_v2.txt\r\n",
        "!cat /content/sample_data/hospital.txt"
      ],
      "execution_count": 127,
      "outputs": [
        {
          "output_type": "stream",
          "text": [
            "\"Notes\"\t\"State\"\t\"State Code\"\t\"Year\"\t\"Year Code\"\tBirths\r\n",
            "\t\"Alabama\"\t\"01\"\t\"2019\"\t\"2019\"\t58292\r\n",
            "\t\"Alaska\"\t\"02\"\t\"2019\"\t\"2019\"\t9148\r\n",
            "\t\"Arizona\"\t\"04\"\t\"2019\"\t\"2019\"\t78020\r\n",
            "\t\"Arkansas\"\t\"05\"\t\"2019\"\t\"2019\"\t36169\r\n",
            "\t\"California\"\t\"06\"\t\"2019\"\t\"2019\"\t441421\r\n",
            "\t\"Colorado\"\t\"08\"\t\"2019\"\t\"2019\"\t61134\r\n",
            "\t\"Connecticut\"\t\"09\"\t\"2019\"\t\"2019\"\t33941\r\n",
            "\t\"Delaware\"\t\"10\"\t\"2019\"\t\"2019\"\t10304\r\n",
            "\t\"District of Columbia\"\t\"11\"\t\"2019\"\t\"2019\"\t8967\r\n",
            "\t\"Florida\"\t\"12\"\t\"2019\"\t\"2019\"\t216112\r\n",
            "\t\"Georgia\"\t\"13\"\t\"2019\"\t\"2019\"\t125133\r\n",
            "\t\"Hawaii\"\t\"15\"\t\"2019\"\t\"2019\"\t16442\r\n",
            "\t\"Idaho\"\t\"16\"\t\"2019\"\t\"2019\"\t20822\r\n",
            "\t\"Illinois\"\t\"17\"\t\"2019\"\t\"2019\"\t139203\r\n",
            "\t\"Indiana\"\t\"18\"\t\"2019\"\t\"2019\"\t78743\r\n",
            "\t\"Iowa\"\t\"19\"\t\"2019\"\t\"2019\"\t37087\r\n",
            "\t\"Kansas\"\t\"20\"\t\"2019\"\t\"2019\"\t34643\r\n",
            "\t\"Kentucky\"\t\"21\"\t\"2019\"\t\"2019\"\t52199\r\n",
            "\t\"Louisiana\"\t\"22\"\t\"2019\"\t\"2019\"\t58683\r\n",
            "\t\"Maine\"\t\"23\"\t\"2019\"\t\"2019\"\t11518\r\n",
            "\t\"Maryland\"\t\"24\"\t\"2019\"\t\"2019\"\t69214\r\n",
            "\t\"Massachusetts\"\t\"25\"\t\"2019\"\t\"2019\"\t68539\r\n",
            "\t\"Michigan\"\t\"26\"\t\"2019\"\t\"2019\"\t106215\r\n",
            "\t\"Minnesota\"\t\"27\"\t\"2019\"\t\"2019\"\t64466\r\n",
            "\t\"Mississippi\"\t\"28\"\t\"2019\"\t\"2019\"\t36451\r\n",
            "\t\"Missouri\"\t\"29\"\t\"2019\"\t\"2019\"\t70422\r\n",
            "\t\"Montana\"\t\"30\"\t\"2019\"\t\"2019\"\t10639\r\n",
            "\t\"Nebraska\"\t\"31\"\t\"2019\"\t\"2019\"\t24616\r\n",
            "\t\"Nevada\"\t\"32\"\t\"2019\"\t\"2019\"\t34479\r\n",
            "\t\"New Hampshire\"\t\"33\"\t\"2019\"\t\"2019\"\t11542\r\n",
            "\t\"New Jersey\"\t\"34\"\t\"2019\"\t\"2019\"\t98926\r\n",
            "\t\"New Mexico\"\t\"35\"\t\"2019\"\t\"2019\"\t22440\r\n",
            "\t\"New York\"\t\"36\"\t\"2019\"\t\"2019\"\t218297\r\n",
            "\t\"North Carolina\"\t\"37\"\t\"2019\"\t\"2019\"\t117112\r\n",
            "\t\"North Dakota\"\t\"38\"\t\"2019\"\t\"2019\"\t10308\r\n",
            "\t\"Ohio\"\t\"39\"\t\"2019\"\t\"2019\"\t132050\r\n",
            "\t\"Oklahoma\"\t\"40\"\t\"2019\"\t\"2019\"\t48408\r\n",
            "\t\"Oregon\"\t\"41\"\t\"2019\"\t\"2019\"\t40436\r\n",
            "\t\"Pennsylvania\"\t\"42\"\t\"2019\"\t\"2019\"\t129314\r\n",
            "\t\"Rhode Island\"\t\"44\"\t\"2019\"\t\"2019\"\t10124\r\n",
            "\t\"South Carolina\"\t\"45\"\t\"2019\"\t\"2019\"\t56224\r\n",
            "\t\"South Dakota\"\t\"46\"\t\"2019\"\t\"2019\"\t11355\r\n",
            "\t\"Tennessee\"\t\"47\"\t\"2019\"\t\"2019\"\t79154\r\n",
            "\t\"Texas\"\t\"48\"\t\"2019\"\t\"2019\"\t372156\r\n",
            "\t\"Utah\"\t\"49\"\t\"2019\"\t\"2019\"\t45364\r\n",
            "\t\"Vermont\"\t\"50\"\t\"2019\"\t\"2019\"\t5227\r\n",
            "\t\"Virginia\"\t\"51\"\t\"2019\"\t\"2019\"\t96085\r\n",
            "\t\"Washington\"\t\"53\"\t\"2019\"\t\"2019\"\t81831\r\n",
            "\t\"West Virginia\"\t\"54\"\t\"2019\"\t\"2019\"\t17950\r\n",
            "\t\"Wisconsin\"\t\"55\"\t\"2019\"\t\"2019\"\t61281\r\n",
            "\t\"Wyoming\"\t\"56\"\t\"2019\"\t\"2019\"\t6422\r\n",
            "\"---\"\r\n",
            "\"Dataset: Natality, 2007-2019\"\r\n",
            "\"Query Parameters:\"\r\n",
            "\"Birthplace: In Hospital\"\r\n",
            "\"Year: 2019\"\r\n",
            "\"Group By: State; Year\"\r\n",
            "\"Show Totals: False\"\r\n",
            "\"Show Zero Values: False\"\r\n",
            "\"Show Suppressed: False\"\r\n",
            "\"Calculate Rates Per: 1,000\"\r\n",
            "\"Population Option: No populations shown because rates were not selected.\"\r\n",
            "\"---\"\r\n",
            "\"Help: See http://wonder.cdc.gov/wonder/help/Natality.html for more information.\"\r\n",
            "\"---\"\r\n",
            "\"Query Date: Jan 26, 2021 10:47:48 AM\"\r\n",
            "\"---\"\r\n",
            "\"Suggested Citation: United States Department of Health and Human Services (US DHHS), Centers for Disease Control and Prevention\"\r\n",
            "\"(CDC), National Center for Health Statistics (NCHS), Division of Vital Statistics, Natality public-use data 2007-2019, on CDC\"\r\n",
            "\"WONDER Online Database, October 2020. Accessed at http://wonder.cdc.gov/natality-current.html on Jan 26, 2021 10:47:48 AM\"\r\n",
            "\"---\"\r\n",
            "Caveats:\r\n",
            "\"1. Each birth record represents one living baby.\""
          ],
          "name": "stdout"
        }
      ]
    },
    {
      "cell_type": "code",
      "metadata": {
        "colab": {
          "base_uri": "https://localhost:8080/"
        },
        "id": "jvR1V8kzg6Di",
        "outputId": "e88bb38b-8c6d-446f-ab7a-f86d6a51301f"
      },
      "source": [
        "!cat /content/sample_data/hospital_v2.txt"
      ],
      "execution_count": 128,
      "outputs": [
        {
          "output_type": "stream",
          "text": [
            "\t\"Alabama\"\t\"01\"\t\"2019\"\t\"2019\"\t58292\r\n",
            "\t\"Alaska\"\t\"02\"\t\"2019\"\t\"2019\"\t9148\r\n",
            "\t\"Arizona\"\t\"04\"\t\"2019\"\t\"2019\"\t78020\r\n",
            "\t\"Arkansas\"\t\"05\"\t\"2019\"\t\"2019\"\t36169\r\n",
            "\t\"California\"\t\"06\"\t\"2019\"\t\"2019\"\t441421\r\n",
            "\t\"Colorado\"\t\"08\"\t\"2019\"\t\"2019\"\t61134\r\n",
            "\t\"Connecticut\"\t\"09\"\t\"2019\"\t\"2019\"\t33941\r\n",
            "\t\"Delaware\"\t\"10\"\t\"2019\"\t\"2019\"\t10304\r\n",
            "\t\"District of Columbia\"\t\"11\"\t\"2019\"\t\"2019\"\t8967\r\n",
            "\t\"Florida\"\t\"12\"\t\"2019\"\t\"2019\"\t216112\r\n",
            "\t\"Georgia\"\t\"13\"\t\"2019\"\t\"2019\"\t125133\r\n",
            "\t\"Hawaii\"\t\"15\"\t\"2019\"\t\"2019\"\t16442\r\n",
            "\t\"Idaho\"\t\"16\"\t\"2019\"\t\"2019\"\t20822\r\n",
            "\t\"Illinois\"\t\"17\"\t\"2019\"\t\"2019\"\t139203\r\n",
            "\t\"Indiana\"\t\"18\"\t\"2019\"\t\"2019\"\t78743\r\n",
            "\t\"Iowa\"\t\"19\"\t\"2019\"\t\"2019\"\t37087\r\n",
            "\t\"Kansas\"\t\"20\"\t\"2019\"\t\"2019\"\t34643\r\n",
            "\t\"Kentucky\"\t\"21\"\t\"2019\"\t\"2019\"\t52199\r\n",
            "\t\"Louisiana\"\t\"22\"\t\"2019\"\t\"2019\"\t58683\r\n",
            "\t\"Maine\"\t\"23\"\t\"2019\"\t\"2019\"\t11518\r\n",
            "\t\"Maryland\"\t\"24\"\t\"2019\"\t\"2019\"\t69214\r\n",
            "\t\"Massachusetts\"\t\"25\"\t\"2019\"\t\"2019\"\t68539\r\n",
            "\t\"Michigan\"\t\"26\"\t\"2019\"\t\"2019\"\t106215\r\n",
            "\t\"Minnesota\"\t\"27\"\t\"2019\"\t\"2019\"\t64466\r\n",
            "\t\"Mississippi\"\t\"28\"\t\"2019\"\t\"2019\"\t36451\r\n",
            "\t\"Missouri\"\t\"29\"\t\"2019\"\t\"2019\"\t70422\r\n",
            "\t\"Montana\"\t\"30\"\t\"2019\"\t\"2019\"\t10639\r\n",
            "\t\"Nebraska\"\t\"31\"\t\"2019\"\t\"2019\"\t24616\r\n",
            "\t\"Nevada\"\t\"32\"\t\"2019\"\t\"2019\"\t34479\r\n",
            "\t\"New Hampshire\"\t\"33\"\t\"2019\"\t\"2019\"\t11542\r\n",
            "\t\"New Jersey\"\t\"34\"\t\"2019\"\t\"2019\"\t98926\r\n",
            "\t\"New Mexico\"\t\"35\"\t\"2019\"\t\"2019\"\t22440\r\n",
            "\t\"New York\"\t\"36\"\t\"2019\"\t\"2019\"\t218297\r\n",
            "\t\"North Carolina\"\t\"37\"\t\"2019\"\t\"2019\"\t117112\r\n",
            "\t\"North Dakota\"\t\"38\"\t\"2019\"\t\"2019\"\t10308\r\n",
            "\t\"Ohio\"\t\"39\"\t\"2019\"\t\"2019\"\t132050\r\n",
            "\t\"Oklahoma\"\t\"40\"\t\"2019\"\t\"2019\"\t48408\r\n",
            "\t\"Oregon\"\t\"41\"\t\"2019\"\t\"2019\"\t40436\r\n",
            "\t\"Pennsylvania\"\t\"42\"\t\"2019\"\t\"2019\"\t129314\r\n",
            "\t\"Rhode Island\"\t\"44\"\t\"2019\"\t\"2019\"\t10124\r\n",
            "\t\"South Carolina\"\t\"45\"\t\"2019\"\t\"2019\"\t56224\r\n",
            "\t\"South Dakota\"\t\"46\"\t\"2019\"\t\"2019\"\t11355\r\n",
            "\t\"Tennessee\"\t\"47\"\t\"2019\"\t\"2019\"\t79154\r\n",
            "\t\"Texas\"\t\"48\"\t\"2019\"\t\"2019\"\t372156\r\n",
            "\t\"Utah\"\t\"49\"\t\"2019\"\t\"2019\"\t45364\r\n",
            "\t\"Vermont\"\t\"50\"\t\"2019\"\t\"2019\"\t5227\r\n",
            "\t\"Virginia\"\t\"51\"\t\"2019\"\t\"2019\"\t96085\r\n",
            "\t\"Washington\"\t\"53\"\t\"2019\"\t\"2019\"\t81831\r\n",
            "\t\"West Virginia\"\t\"54\"\t\"2019\"\t\"2019\"\t17950\r\n",
            "\t\"Wisconsin\"\t\"55\"\t\"2019\"\t\"2019\"\t61281\r\n",
            "\t\"Wyoming\"\t\"56\"\t\"2019\"\t\"2019\"\t6422\r\n"
          ],
          "name": "stdout"
        }
      ]
    },
    {
      "cell_type": "markdown",
      "metadata": {
        "id": "17GZXwn8k8YT"
      },
      "source": [
        "removes first tab\r\n"
      ]
    },
    {
      "cell_type": "code",
      "metadata": {
        "colab": {
          "base_uri": "https://localhost:8080/"
        },
        "id": "_c2AjYrdg5L1",
        "outputId": "a4252be9-75ef-41ec-d497-bd2758ed0750"
      },
      "source": [
        "!sed -i 's/\\t//' /content/sample_data/hospital_v2.txt\r\n",
        "!cat /content/sample_data/hospital_v2.txt"
      ],
      "execution_count": 129,
      "outputs": [
        {
          "output_type": "stream",
          "text": [
            "\"Alabama\"\t\"01\"\t\"2019\"\t\"2019\"\t58292\r\n",
            "\"Alaska\"\t\"02\"\t\"2019\"\t\"2019\"\t9148\r\n",
            "\"Arizona\"\t\"04\"\t\"2019\"\t\"2019\"\t78020\r\n",
            "\"Arkansas\"\t\"05\"\t\"2019\"\t\"2019\"\t36169\r\n",
            "\"California\"\t\"06\"\t\"2019\"\t\"2019\"\t441421\r\n",
            "\"Colorado\"\t\"08\"\t\"2019\"\t\"2019\"\t61134\r\n",
            "\"Connecticut\"\t\"09\"\t\"2019\"\t\"2019\"\t33941\r\n",
            "\"Delaware\"\t\"10\"\t\"2019\"\t\"2019\"\t10304\r\n",
            "\"District of Columbia\"\t\"11\"\t\"2019\"\t\"2019\"\t8967\r\n",
            "\"Florida\"\t\"12\"\t\"2019\"\t\"2019\"\t216112\r\n",
            "\"Georgia\"\t\"13\"\t\"2019\"\t\"2019\"\t125133\r\n",
            "\"Hawaii\"\t\"15\"\t\"2019\"\t\"2019\"\t16442\r\n",
            "\"Idaho\"\t\"16\"\t\"2019\"\t\"2019\"\t20822\r\n",
            "\"Illinois\"\t\"17\"\t\"2019\"\t\"2019\"\t139203\r\n",
            "\"Indiana\"\t\"18\"\t\"2019\"\t\"2019\"\t78743\r\n",
            "\"Iowa\"\t\"19\"\t\"2019\"\t\"2019\"\t37087\r\n",
            "\"Kansas\"\t\"20\"\t\"2019\"\t\"2019\"\t34643\r\n",
            "\"Kentucky\"\t\"21\"\t\"2019\"\t\"2019\"\t52199\r\n",
            "\"Louisiana\"\t\"22\"\t\"2019\"\t\"2019\"\t58683\r\n",
            "\"Maine\"\t\"23\"\t\"2019\"\t\"2019\"\t11518\r\n",
            "\"Maryland\"\t\"24\"\t\"2019\"\t\"2019\"\t69214\r\n",
            "\"Massachusetts\"\t\"25\"\t\"2019\"\t\"2019\"\t68539\r\n",
            "\"Michigan\"\t\"26\"\t\"2019\"\t\"2019\"\t106215\r\n",
            "\"Minnesota\"\t\"27\"\t\"2019\"\t\"2019\"\t64466\r\n",
            "\"Mississippi\"\t\"28\"\t\"2019\"\t\"2019\"\t36451\r\n",
            "\"Missouri\"\t\"29\"\t\"2019\"\t\"2019\"\t70422\r\n",
            "\"Montana\"\t\"30\"\t\"2019\"\t\"2019\"\t10639\r\n",
            "\"Nebraska\"\t\"31\"\t\"2019\"\t\"2019\"\t24616\r\n",
            "\"Nevada\"\t\"32\"\t\"2019\"\t\"2019\"\t34479\r\n",
            "\"New Hampshire\"\t\"33\"\t\"2019\"\t\"2019\"\t11542\r\n",
            "\"New Jersey\"\t\"34\"\t\"2019\"\t\"2019\"\t98926\r\n",
            "\"New Mexico\"\t\"35\"\t\"2019\"\t\"2019\"\t22440\r\n",
            "\"New York\"\t\"36\"\t\"2019\"\t\"2019\"\t218297\r\n",
            "\"North Carolina\"\t\"37\"\t\"2019\"\t\"2019\"\t117112\r\n",
            "\"North Dakota\"\t\"38\"\t\"2019\"\t\"2019\"\t10308\r\n",
            "\"Ohio\"\t\"39\"\t\"2019\"\t\"2019\"\t132050\r\n",
            "\"Oklahoma\"\t\"40\"\t\"2019\"\t\"2019\"\t48408\r\n",
            "\"Oregon\"\t\"41\"\t\"2019\"\t\"2019\"\t40436\r\n",
            "\"Pennsylvania\"\t\"42\"\t\"2019\"\t\"2019\"\t129314\r\n",
            "\"Rhode Island\"\t\"44\"\t\"2019\"\t\"2019\"\t10124\r\n",
            "\"South Carolina\"\t\"45\"\t\"2019\"\t\"2019\"\t56224\r\n",
            "\"South Dakota\"\t\"46\"\t\"2019\"\t\"2019\"\t11355\r\n",
            "\"Tennessee\"\t\"47\"\t\"2019\"\t\"2019\"\t79154\r\n",
            "\"Texas\"\t\"48\"\t\"2019\"\t\"2019\"\t372156\r\n",
            "\"Utah\"\t\"49\"\t\"2019\"\t\"2019\"\t45364\r\n",
            "\"Vermont\"\t\"50\"\t\"2019\"\t\"2019\"\t5227\r\n",
            "\"Virginia\"\t\"51\"\t\"2019\"\t\"2019\"\t96085\r\n",
            "\"Washington\"\t\"53\"\t\"2019\"\t\"2019\"\t81831\r\n",
            "\"West Virginia\"\t\"54\"\t\"2019\"\t\"2019\"\t17950\r\n",
            "\"Wisconsin\"\t\"55\"\t\"2019\"\t\"2019\"\t61281\r\n",
            "\"Wyoming\"\t\"56\"\t\"2019\"\t\"2019\"\t6422\r\n"
          ],
          "name": "stdout"
        }
      ]
    },
    {
      "cell_type": "markdown",
      "metadata": {
        "id": "9_ueflq_k4go"
      },
      "source": [
        "finds all tabs replaces with comma and print\r\n"
      ]
    },
    {
      "cell_type": "code",
      "metadata": {
        "id": "73Vyyafsg5IL"
      },
      "source": [
        "!sed -i 's/\\t/,/g' /content/sample_data/hospital_v2.txt"
      ],
      "execution_count": 130,
      "outputs": []
    },
    {
      "cell_type": "code",
      "metadata": {
        "colab": {
          "base_uri": "https://localhost:8080/"
        },
        "id": "Z-nbSpBig5CK",
        "outputId": "d5e89243-2002-4a5a-fb4b-160ca71e8054"
      },
      "source": [
        "!cat /content/sample_data/hospital_v2.txt"
      ],
      "execution_count": 131,
      "outputs": [
        {
          "output_type": "stream",
          "text": [
            "\"Alabama\",\"01\",\"2019\",\"2019\",58292\r\n",
            "\"Alaska\",\"02\",\"2019\",\"2019\",9148\r\n",
            "\"Arizona\",\"04\",\"2019\",\"2019\",78020\r\n",
            "\"Arkansas\",\"05\",\"2019\",\"2019\",36169\r\n",
            "\"California\",\"06\",\"2019\",\"2019\",441421\r\n",
            "\"Colorado\",\"08\",\"2019\",\"2019\",61134\r\n",
            "\"Connecticut\",\"09\",\"2019\",\"2019\",33941\r\n",
            "\"Delaware\",\"10\",\"2019\",\"2019\",10304\r\n",
            "\"District of Columbia\",\"11\",\"2019\",\"2019\",8967\r\n",
            "\"Florida\",\"12\",\"2019\",\"2019\",216112\r\n",
            "\"Georgia\",\"13\",\"2019\",\"2019\",125133\r\n",
            "\"Hawaii\",\"15\",\"2019\",\"2019\",16442\r\n",
            "\"Idaho\",\"16\",\"2019\",\"2019\",20822\r\n",
            "\"Illinois\",\"17\",\"2019\",\"2019\",139203\r\n",
            "\"Indiana\",\"18\",\"2019\",\"2019\",78743\r\n",
            "\"Iowa\",\"19\",\"2019\",\"2019\",37087\r\n",
            "\"Kansas\",\"20\",\"2019\",\"2019\",34643\r\n",
            "\"Kentucky\",\"21\",\"2019\",\"2019\",52199\r\n",
            "\"Louisiana\",\"22\",\"2019\",\"2019\",58683\r\n",
            "\"Maine\",\"23\",\"2019\",\"2019\",11518\r\n",
            "\"Maryland\",\"24\",\"2019\",\"2019\",69214\r\n",
            "\"Massachusetts\",\"25\",\"2019\",\"2019\",68539\r\n",
            "\"Michigan\",\"26\",\"2019\",\"2019\",106215\r\n",
            "\"Minnesota\",\"27\",\"2019\",\"2019\",64466\r\n",
            "\"Mississippi\",\"28\",\"2019\",\"2019\",36451\r\n",
            "\"Missouri\",\"29\",\"2019\",\"2019\",70422\r\n",
            "\"Montana\",\"30\",\"2019\",\"2019\",10639\r\n",
            "\"Nebraska\",\"31\",\"2019\",\"2019\",24616\r\n",
            "\"Nevada\",\"32\",\"2019\",\"2019\",34479\r\n",
            "\"New Hampshire\",\"33\",\"2019\",\"2019\",11542\r\n",
            "\"New Jersey\",\"34\",\"2019\",\"2019\",98926\r\n",
            "\"New Mexico\",\"35\",\"2019\",\"2019\",22440\r\n",
            "\"New York\",\"36\",\"2019\",\"2019\",218297\r\n",
            "\"North Carolina\",\"37\",\"2019\",\"2019\",117112\r\n",
            "\"North Dakota\",\"38\",\"2019\",\"2019\",10308\r\n",
            "\"Ohio\",\"39\",\"2019\",\"2019\",132050\r\n",
            "\"Oklahoma\",\"40\",\"2019\",\"2019\",48408\r\n",
            "\"Oregon\",\"41\",\"2019\",\"2019\",40436\r\n",
            "\"Pennsylvania\",\"42\",\"2019\",\"2019\",129314\r\n",
            "\"Rhode Island\",\"44\",\"2019\",\"2019\",10124\r\n",
            "\"South Carolina\",\"45\",\"2019\",\"2019\",56224\r\n",
            "\"South Dakota\",\"46\",\"2019\",\"2019\",11355\r\n",
            "\"Tennessee\",\"47\",\"2019\",\"2019\",79154\r\n",
            "\"Texas\",\"48\",\"2019\",\"2019\",372156\r\n",
            "\"Utah\",\"49\",\"2019\",\"2019\",45364\r\n",
            "\"Vermont\",\"50\",\"2019\",\"2019\",5227\r\n",
            "\"Virginia\",\"51\",\"2019\",\"2019\",96085\r\n",
            "\"Washington\",\"53\",\"2019\",\"2019\",81831\r\n",
            "\"West Virginia\",\"54\",\"2019\",\"2019\",17950\r\n",
            "\"Wisconsin\",\"55\",\"2019\",\"2019\",61281\r\n",
            "\"Wyoming\",\"56\",\"2019\",\"2019\",6422\r\n"
          ],
          "name": "stdout"
        }
      ]
    },
    {
      "cell_type": "markdown",
      "metadata": {
        "id": "9zOMOnvllEjS"
      },
      "source": [
        "puts headers on first line"
      ]
    },
    {
      "cell_type": "code",
      "metadata": {
        "colab": {
          "base_uri": "https://localhost:8080/"
        },
        "id": "piL64a0Ag45I",
        "outputId": "d16f3ce6-bb09-465b-99bb-269aabf32c4f"
      },
      "source": [
        "!sed -i '1i \\State, StateCode, Year, YearCode, HospitalCount\\' /content/sample_data/hospital_v2.txt\r\n",
        "!cat /content/sample_data/hospital_v2.txt"
      ],
      "execution_count": 132,
      "outputs": [
        {
          "output_type": "stream",
          "text": [
            "State, StateCode, Year, YearCode, HospitalCount\n",
            "\"Alabama\",\"01\",\"2019\",\"2019\",58292\r\n",
            "\"Alaska\",\"02\",\"2019\",\"2019\",9148\r\n",
            "\"Arizona\",\"04\",\"2019\",\"2019\",78020\r\n",
            "\"Arkansas\",\"05\",\"2019\",\"2019\",36169\r\n",
            "\"California\",\"06\",\"2019\",\"2019\",441421\r\n",
            "\"Colorado\",\"08\",\"2019\",\"2019\",61134\r\n",
            "\"Connecticut\",\"09\",\"2019\",\"2019\",33941\r\n",
            "\"Delaware\",\"10\",\"2019\",\"2019\",10304\r\n",
            "\"District of Columbia\",\"11\",\"2019\",\"2019\",8967\r\n",
            "\"Florida\",\"12\",\"2019\",\"2019\",216112\r\n",
            "\"Georgia\",\"13\",\"2019\",\"2019\",125133\r\n",
            "\"Hawaii\",\"15\",\"2019\",\"2019\",16442\r\n",
            "\"Idaho\",\"16\",\"2019\",\"2019\",20822\r\n",
            "\"Illinois\",\"17\",\"2019\",\"2019\",139203\r\n",
            "\"Indiana\",\"18\",\"2019\",\"2019\",78743\r\n",
            "\"Iowa\",\"19\",\"2019\",\"2019\",37087\r\n",
            "\"Kansas\",\"20\",\"2019\",\"2019\",34643\r\n",
            "\"Kentucky\",\"21\",\"2019\",\"2019\",52199\r\n",
            "\"Louisiana\",\"22\",\"2019\",\"2019\",58683\r\n",
            "\"Maine\",\"23\",\"2019\",\"2019\",11518\r\n",
            "\"Maryland\",\"24\",\"2019\",\"2019\",69214\r\n",
            "\"Massachusetts\",\"25\",\"2019\",\"2019\",68539\r\n",
            "\"Michigan\",\"26\",\"2019\",\"2019\",106215\r\n",
            "\"Minnesota\",\"27\",\"2019\",\"2019\",64466\r\n",
            "\"Mississippi\",\"28\",\"2019\",\"2019\",36451\r\n",
            "\"Missouri\",\"29\",\"2019\",\"2019\",70422\r\n",
            "\"Montana\",\"30\",\"2019\",\"2019\",10639\r\n",
            "\"Nebraska\",\"31\",\"2019\",\"2019\",24616\r\n",
            "\"Nevada\",\"32\",\"2019\",\"2019\",34479\r\n",
            "\"New Hampshire\",\"33\",\"2019\",\"2019\",11542\r\n",
            "\"New Jersey\",\"34\",\"2019\",\"2019\",98926\r\n",
            "\"New Mexico\",\"35\",\"2019\",\"2019\",22440\r\n",
            "\"New York\",\"36\",\"2019\",\"2019\",218297\r\n",
            "\"North Carolina\",\"37\",\"2019\",\"2019\",117112\r\n",
            "\"North Dakota\",\"38\",\"2019\",\"2019\",10308\r\n",
            "\"Ohio\",\"39\",\"2019\",\"2019\",132050\r\n",
            "\"Oklahoma\",\"40\",\"2019\",\"2019\",48408\r\n",
            "\"Oregon\",\"41\",\"2019\",\"2019\",40436\r\n",
            "\"Pennsylvania\",\"42\",\"2019\",\"2019\",129314\r\n",
            "\"Rhode Island\",\"44\",\"2019\",\"2019\",10124\r\n",
            "\"South Carolina\",\"45\",\"2019\",\"2019\",56224\r\n",
            "\"South Dakota\",\"46\",\"2019\",\"2019\",11355\r\n",
            "\"Tennessee\",\"47\",\"2019\",\"2019\",79154\r\n",
            "\"Texas\",\"48\",\"2019\",\"2019\",372156\r\n",
            "\"Utah\",\"49\",\"2019\",\"2019\",45364\r\n",
            "\"Vermont\",\"50\",\"2019\",\"2019\",5227\r\n",
            "\"Virginia\",\"51\",\"2019\",\"2019\",96085\r\n",
            "\"Washington\",\"53\",\"2019\",\"2019\",81831\r\n",
            "\"West Virginia\",\"54\",\"2019\",\"2019\",17950\r\n",
            "\"Wisconsin\",\"55\",\"2019\",\"2019\",61281\r\n",
            "\"Wyoming\",\"56\",\"2019\",\"2019\",6422\r\n"
          ],
          "name": "stdout"
        }
      ]
    },
    {
      "cell_type": "markdown",
      "metadata": {
        "id": "4HiahcuHOZpa"
      },
      "source": [
        "## Reading the processed data files into R"
      ]
    },
    {
      "cell_type": "markdown",
      "metadata": {
        "id": "uene2kuQOdm5"
      },
      "source": [
        "This an iPython Notebook; thus, to run R commands, R Magic will need to be implemented. "
      ]
    },
    {
      "cell_type": "code",
      "metadata": {
        "colab": {
          "base_uri": "https://localhost:8080/"
        },
        "id": "Qy4TRHBVOel6",
        "outputId": "6933a63f-c8b9-4faf-eea6-0778b55b3a53"
      },
      "source": [
        "%load_ext rpy2.ipython"
      ],
      "execution_count": 29,
      "outputs": [
        {
          "output_type": "stream",
          "text": [
            "/usr/local/lib/python3.6/dist-packages/rpy2/robjects/pandas2ri.py:14: FutureWarning: pandas.core.index is deprecated and will be removed in a future version.  The public classes are available in the top-level namespace.\n",
            "  from pandas.core.index import Index as PandasIndex\n",
            "/usr/local/lib/python3.6/dist-packages/rpy2/robjects/pandas2ri.py:34: UserWarning: pandas >= 1.0 is not supported.\n",
            "  warnings.warn('pandas >= 1.0 is not supported.')\n"
          ],
          "name": "stderr"
        }
      ]
    },
    {
      "cell_type": "markdown",
      "metadata": {
        "id": "5v3iFpfDQAqN"
      },
      "source": [
        "Once again, R commands can be run in code blocks when %%R is used in the first line of the code block."
      ]
    },
    {
      "cell_type": "code",
      "metadata": {
        "id": "bXzY8diJO60r"
      },
      "source": [
        "%%R\r\n",
        "\r\n",
        "AtHome <- read.csv('/content/sample_data/AtHome_Births_StateLevel_v5.txt')\r\n",
        "Hospital <- read.csv('/content/sample_data/hospital_v2.txt')"
      ],
      "execution_count": 133,
      "outputs": []
    },
    {
      "cell_type": "code",
      "metadata": {
        "colab": {
          "base_uri": "https://localhost:8080/"
        },
        "id": "hajfFA0iPEzR",
        "outputId": "0fc48986-8583-40a4-fa72-45c178286769"
      },
      "source": [
        "%%R\r\n",
        "\r\n",
        "head(AtHome)\r\n"
      ],
      "execution_count": 134,
      "outputs": [
        {
          "output_type": "stream",
          "text": [
            "       State StateCode Year YearCode AtHomeCount\n",
            "1    Alabama         1 2019     2019         243\n",
            "2     Alaska         2 2019     2019         195\n",
            "3    Arizona         4 2019     2019         706\n",
            "4   Arkansas         5 2019     2019         326\n",
            "5 California         6 2019     2019        3081\n",
            "6   Colorado         8 2019     2019         899\n"
          ],
          "name": "stdout"
        }
      ]
    },
    {
      "cell_type": "code",
      "metadata": {
        "colab": {
          "base_uri": "https://localhost:8080/"
        },
        "id": "mjUHElqql5S4",
        "outputId": "1a882917-7239-432f-b71c-1fc55f88581b"
      },
      "source": [
        "%%R\r\n",
        "\r\n",
        "head(Hospital)\r\n"
      ],
      "execution_count": 135,
      "outputs": [
        {
          "output_type": "stream",
          "text": [
            "       State StateCode Year YearCode HospitalCount\n",
            "1    Alabama         1 2019     2019         58292\n",
            "2     Alaska         2 2019     2019          9148\n",
            "3    Arizona         4 2019     2019         78020\n",
            "4   Arkansas         5 2019     2019         36169\n",
            "5 California         6 2019     2019        441421\n",
            "6   Colorado         8 2019     2019         61134\n"
          ],
          "name": "stdout"
        }
      ]
    },
    {
      "cell_type": "code",
      "metadata": {
        "colab": {
          "base_uri": "https://localhost:8080/"
        },
        "id": "oJ6dcVfNPtdW",
        "outputId": "307c7b87-8bd9-49d2-e60d-6631e01ad6c9"
      },
      "source": [
        "#The head command of the file in Colab directory\r\n",
        "!head /content/sample_data/AtHome_Births_StateLevel_v5.txt\r\n",
        "!head /content/sample_data/hospital_v2.txt"
      ],
      "execution_count": 136,
      "outputs": [
        {
          "output_type": "stream",
          "text": [
            "State, StateCode, Year, YearCode, AtHomeCount\n",
            "\"Alabama\",\"01\",\"2019\",\"2019\",243\r\n",
            "\"Alaska\",\"02\",\"2019\",\"2019\",195\r\n",
            "\"Arizona\",\"04\",\"2019\",\"2019\",706\r\n",
            "\"Arkansas\",\"05\",\"2019\",\"2019\",326\r\n",
            "\"California\",\"06\",\"2019\",\"2019\",3081\r\n",
            "\"Colorado\",\"08\",\"2019\",\"2019\",899\r\n",
            "\"Connecticut\",\"09\",\"2019\",\"2019\",217\r\n",
            "\"Delaware\",\"10\",\"2019\",\"2019\",66\r\n",
            "\"District of Columbia\",\"11\",\"2019\",\"2019\",72\n",
            "State, StateCode, Year, YearCode, HospitalCount\n",
            "\"Alabama\",\"01\",\"2019\",\"2019\",58292\n",
            "\"Alaska\",\"02\",\"2019\",\"2019\",9148\n",
            "\"Arizona\",\"04\",\"2019\",\"2019\",78020\n",
            "\"Arkansas\",\"05\",\"2019\",\"2019\",36169\n",
            "\"California\",\"06\",\"2019\",\"2019\",441421\n",
            "\"Colorado\",\"08\",\"2019\",\"2019\",61134\n",
            "\"Connecticut\",\"09\",\"2019\",\"2019\",33941\n",
            "\"Delaware\",\"10\",\"2019\",\"2019\",10304\n",
            "\"District of Columbia\",\"11\",\"2019\",\"2019\",8967\n"
          ],
          "name": "stdout"
        }
      ]
    },
    {
      "cell_type": "code",
      "metadata": {
        "colab": {
          "base_uri": "https://localhost:8080/"
        },
        "id": "klGhDzY1PJrP",
        "outputId": "2413c752-d0d4-4aeb-cf34-96d825c16b81"
      },
      "source": [
        "%%R \r\n",
        "\r\n",
        "dim(AtHome)\r\n"
      ],
      "execution_count": 137,
      "outputs": [
        {
          "output_type": "stream",
          "text": [
            "[1] 51  5\n"
          ],
          "name": "stdout"
        }
      ]
    },
    {
      "cell_type": "code",
      "metadata": {
        "colab": {
          "base_uri": "https://localhost:8080/"
        },
        "id": "PyIbCxi2nIxt",
        "outputId": "1e9bfe96-55ab-4e81-903e-79448607d062"
      },
      "source": [
        "%%R\r\n",
        "\r\n",
        "dim(Hospital)\r\n"
      ],
      "execution_count": 138,
      "outputs": [
        {
          "output_type": "stream",
          "text": [
            "[1] 51  5\n"
          ],
          "name": "stdout"
        }
      ]
    }
  ]
}