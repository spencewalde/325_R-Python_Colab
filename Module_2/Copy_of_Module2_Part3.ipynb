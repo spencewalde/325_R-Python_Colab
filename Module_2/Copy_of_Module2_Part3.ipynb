{
  "nbformat": 4,
  "nbformat_minor": 0,
  "metadata": {
    "colab": {
      "name": "Copy of Module2_Part3.ipynb",
      "provenance": []
    },
    "kernelspec": {
      "name": "python3",
      "display_name": "Python 3"
    }
  },
  "cells": [
    {
      "cell_type": "markdown",
      "metadata": {
        "id": "zQXd5cZ9SMmv"
      },
      "source": [
        "# Module 2 | Part 3: Pre-Processing Multiple Data Files"
      ]
    },
    {
      "cell_type": "markdown",
      "metadata": {
        "id": "F5v4zW5-EvjX"
      },
      "source": [
        "This notebook will discuss processes for the pre-processing of multiple data files.  BASH is a language that can be used to process a collection or series of commands for processing data files.  The collection of commands are often referred to as a (shell) script. \r\n",
        "\r\n",
        "BASH Wiki Page: https://en.wikipedia.org/wiki/Bash_(Unix_shell) "
      ]
    },
    {
      "cell_type": "markdown",
      "metadata": {
        "id": "cHFbYOB8JK4u"
      },
      "source": [
        "<table width='100%' ><tr><td bgcolor='green'></td></tr></table>\r\n",
        "\r\n",
        "### Example 2.3.1\r\n",
        "For this example, data from a well established bike rental company in New York City will be used.  The goal of this investigation is to compare the number of bike rentals near Central Park for tourists on summer holidays (Memorial Day, Independence Day, and Labor Day) over the last three years (2018/2019/2020).\r\n",
        "\r\n",
        "*   Only <strong>Customers</strong>, i.e. tourists, should be used in this investigation.\r\n",
        "*   Only rentals from bike stations near <strong>Central Park</strong> should be used in this investigation, i.e. bike rentals whose station name includes the words Central Park\r\n",
        "\r\n",
        "\r\n",
        "\r\n",
        "<p align='center'>\r\n",
        "<table border='1'>\r\n",
        "<tr>\r\n",
        "  <td bgcolor='lightgrey' align='center'><font size=\"2\">Holiday</font></td>\r\n",
        "  <td bgcolor='lightgrey' align='center'><font size=\"2\">2018</font></td>\r\n",
        "  <td bgcolor='lightgrey' align='center'><font size=\"2\">2019</font></td>\r\n",
        "  <td bgcolor='lightgrey' align='center'><font size=\"2\">2020</font></td>\r\n",
        "</tr>\r\n",
        "<tr>\r\n",
        "  <td align='center'><font size=\"2\">Memorial<br>Day</font></td>\r\n",
        "  <td align='center'><font size=\"2\">May 28</font></td>\r\n",
        "  <td align='center'><font size=\"2\">May 27</font></td>\r\n",
        "  <td align='center'><font size=\"2\">May 25</font></td>\r\n",
        "</tr>\r\n",
        "<tr>\r\n",
        "  <td align='center'><font size=\"2\">Independence<br>Day</font></td>\r\n",
        "  <td align='center'><font size=\"2\">July 4</font></td>\r\n",
        "  <td align='center'><font size=\"2\">July 4</font></td>\r\n",
        "  <td align='center'><font size=\"2\">July 4</font></td>\r\n",
        "</tr>\r\n",
        "<tr>\r\n",
        "  <td align='center'><font size=\"2\">Labor<br>Day</font></td>\r\n",
        "  <td align='center'><font size=\"2\">Sept 3</font></td>\r\n",
        "  <td align='center'><font size=\"2\">Sept 2</font></td>\r\n",
        "  <td align='center'><font size=\"2\">Sept 7</font></td>\r\n",
        "</tr>\r\n",
        "\r\n",
        "</table>\r\n",
        "</p>\r\n",
        "\r\n",
        " \r\n",
        "<i>CitiBike Web site</i>: https://www.citibikenyc.com/system-data\r\n",
        "<br><i>Data Source</i>: https://s3.amazonaws.com/tripdata/index.html \r\n",
        "\r\n",
        "<table width='100%' ><tr><td bgcolor='green'></td></tr></table>"
      ]
    },
    {
      "cell_type": "markdown",
      "metadata": {
        "id": "Pu1vBrNBJDnN"
      },
      "source": [
        "A graph analogous to the one shown here is the desired output from this investigation.\r\n",
        "\r\n",
        "<p align='center'><img src=\"https://drive.google.com/uc?export=view&id=1tqb7um1SF7maIrBwp5ybMTMilwDwI4rw\"></p>"
      ]
    },
    {
      "cell_type": "markdown",
      "metadata": {
        "id": "8_8JrHrvKGt4"
      },
      "source": [
        "## Pre-Processing with BASH - Downloading Files"
      ]
    },
    {
      "cell_type": "markdown",
      "metadata": {
        "id": "ksGFL2kZKLKl"
      },
      "source": [
        "BASH can be used to run a set of commands for the processing of data.  The series of commands are placed into a script or shell script.  The following code will create a file called Download_CitiBikeData.sh.  Each command here uses the wget function to download files from the internet.  The echo command simply instructs BASH to write the contents contained within quoted string to the file being created.  Notice that this series of commands are bracketed with the {} so that all echo lines are written to file."
      ]
    },
    {
      "cell_type": "code",
      "metadata": {
        "id": "uK0is1NqSHaL"
      },
      "source": [
        "#Create a file that contains a set of commands to download file\r\n",
        "%%bash\r\n",
        "{  \r\n",
        " echo 'wget -O  /content/sample_data/May2018.zip https://s3.amazonaws.com/tripdata/201805-citibike-tripdata.csv.zip'\r\n",
        " echo 'wget -O  /content/sample_data/July2018.zip https://s3.amazonaws.com/tripdata/201807-citibike-tripdata.csv.zip'\r\n",
        " echo 'wget -O /content/sample_data/September2018.zip https://s3.amazonaws.com/tripdata/201809-citibike-tripdata.csv.zip' \r\n",
        " echo 'wget -O  /content/sample_data/May2019.zip https://s3.amazonaws.com/tripdata/201905-citibike-tripdata.csv.zip'\r\n",
        " echo 'wget -O  /content/sample_data/July2019.zip https://s3.amazonaws.com/tripdata/201907-citibike-tripdata.csv.zip'\r\n",
        " echo 'wget -O /content/sample_data/September2019.zip https://s3.amazonaws.com/tripdata/201909-citibike-tripdata.csv.zip'\r\n",
        " echo 'wget -O  /content/sample_data/May2020.zip https://s3.amazonaws.com/tripdata/202005-citibike-tripdata.csv.zip'\r\n",
        " echo 'wget -O  /content/sample_data/July2020.zip https://s3.amazonaws.com/tripdata/202007-citibike-tripdata.csv.zip'\r\n",
        " echo 'wget -O /content/sample_data/September2020.zip https://s3.amazonaws.com/tripdata/202009-citibike-tripdata.csv.zip'\r\n",
        " } > Download_CitiBikeData.sh"
      ],
      "execution_count": null,
      "outputs": []
    },
    {
      "cell_type": "markdown",
      "metadata": {
        "id": "XAK0EgbSNSH8"
      },
      "source": [
        "Next, verify that the contents of the file is correct."
      ]
    },
    {
      "cell_type": "code",
      "metadata": {
        "colab": {
          "base_uri": "https://localhost:8080/"
        },
        "id": "iePj9IEsi6WO",
        "outputId": "be2dffb1-7625-473e-b07d-7f5a76ccc369"
      },
      "source": [
        "!head -n 10 /content/Download_CitiBikeData.sh"
      ],
      "execution_count": null,
      "outputs": [
        {
          "output_type": "stream",
          "text": [
            "wget -O  /content/sample_data/May2018.zip https://s3.amazonaws.com/tripdata/201805-citibike-tripdata.csv.zip\n",
            "wget -O  /content/sample_data/July2018.zip https://s3.amazonaws.com/tripdata/201807-citibike-tripdata.csv.zip\n",
            "wget -O /content/sample_data/September2018.zip https://s3.amazonaws.com/tripdata/201809-citibike-tripdata.csv.zip\n",
            "wget -O  /content/sample_data/May2019.zip https://s3.amazonaws.com/tripdata/201905-citibike-tripdata.csv.zip\n",
            "wget -O  /content/sample_data/July2019.zip https://s3.amazonaws.com/tripdata/201907-citibike-tripdata.csv.zip\n",
            "wget -O /content/sample_data/September2019.zip https://s3.amazonaws.com/tripdata/201909-citibike-tripdata.csv.zip\n",
            "wget -O  /content/sample_data/May2020.zip https://s3.amazonaws.com/tripdata/202005-citibike-tripdata.csv.zip\n",
            "wget -O  /content/sample_data/July2020.zip https://s3.amazonaws.com/tripdata/202007-citibike-tripdata.csv.zip\n",
            "wget -O /content/sample_data/September2020.zip https://s3.amazonaws.com/tripdata/202009-citibike-tripdata.csv.zip\n"
          ],
          "name": "stdout"
        }
      ]
    },
    {
      "cell_type": "code",
      "metadata": {
        "colab": {
          "base_uri": "https://localhost:8080/"
        },
        "id": "wTaq9jQJGoiv",
        "outputId": "7437e146-6fe1-4870-8e15-7e3e830aef96"
      },
      "source": [
        "#Verify that the file exists in the /content/ folder!ls /content/"
      ],
      "execution_count": null,
      "outputs": [
        {
          "output_type": "stream",
          "text": [
            "Download_CitiBikeData.sh  sample_data\n"
          ],
          "name": "stdout"
        }
      ]
    },
    {
      "cell_type": "markdown",
      "metadata": {
        "id": "1GaG0yBLNka7"
      },
      "source": [
        "The following code block will 'run' or execute the lines of code within the script file.   "
      ]
    },
    {
      "cell_type": "code",
      "metadata": {
        "id": "8p0xSWJSG5e2"
      },
      "source": [
        "%%bash\r\n",
        "bash Download_CitiBikeData.sh"
      ],
      "execution_count": null,
      "outputs": []
    },
    {
      "cell_type": "markdown",
      "metadata": {
        "id": "TiJqbe3eNv0g"
      },
      "source": [
        "Again, let us verify that the wget commands were sucessfully executed.  There should be several *.zip files -- one for each year and summer holiday."
      ]
    },
    {
      "cell_type": "code",
      "metadata": {
        "colab": {
          "base_uri": "https://localhost:8080/"
        },
        "id": "UGPvLlo5G8iO",
        "outputId": "b6e5b2d7-b052-4f54-f9ca-e592d59801ed"
      },
      "source": [
        "#View the contents in the content folder\r\n",
        "!ls /content/sample_data/"
      ],
      "execution_count": null,
      "outputs": [
        {
          "output_type": "stream",
          "text": [
            "August2018.zip\tAugust2020.zip\tJuly2019.zip  June2018.zip  June2020.zip\n",
            "August2019.zip\tJuly2018.zip\tJuly2020.zip  June2019.zip\n"
          ],
          "name": "stdout"
        }
      ]
    },
    {
      "cell_type": "markdown",
      "metadata": {
        "id": "gzqF-HVnTs-m"
      },
      "source": [
        "## Pre-Processing with BASH - Unzipping Files"
      ]
    },
    {
      "cell_type": "markdown",
      "metadata": {
        "id": "XkA3SSLgOE5d"
      },
      "source": [
        "The next step in the process is to create another script file that contains the commands needed to unzip each of the downloaded files.  Here, the name of the script file is Unzip_CitiBikeData.sh."
      ]
    },
    {
      "cell_type": "code",
      "metadata": {
        "id": "tJdYkcrlHVCp"
      },
      "source": [
        "%%bash\r\n",
        "{   \r\n",
        " echo 'unzip -o /content/sample_data/May2018.zip -d \"/content/sample_data\"'\r\n",
        " echo 'unzip -o /content/sample_data/July2018.zip -d \"/content/sample_data\"'\r\n",
        " echo 'unzip -o /content/sample_data/September2018.zip -d \"/content/sample_data\"'\r\n",
        " echo 'unzip -o /content/sample_data/May2019.zip -d \"/content/sample_data\"'\r\n",
        " echo 'unzip -o /content/sample_data/July2019.zip -d \"/content/sample_data\"'\r\n",
        " echo 'unzip -o /content/sample_data/September2019.zip -d \"/content/sample_data\"'\r\n",
        " echo 'unzip -o /content/sample_data/May2020.zip -d \"/content/sample_data\"'\r\n",
        " echo 'unzip -o /content/sample_data/July2020.zip -d \"/content/sample_data\"'\r\n",
        " echo 'unzip -o /content/sample_data/September2020.zip -d \"/content/sample_data\"'\r\n",
        " } > Unzip_CitiBikeData.sh"
      ],
      "execution_count": null,
      "outputs": []
    },
    {
      "cell_type": "markdown",
      "metadata": {
        "id": "wNkAodPFOPno"
      },
      "source": [
        "Verify that the contents of the Unzip_CitiBikeData shell file is correct."
      ]
    },
    {
      "cell_type": "code",
      "metadata": {
        "colab": {
          "base_uri": "https://localhost:8080/"
        },
        "id": "PePnO_vDjCbt",
        "outputId": "25ea4ca3-1d2e-48a5-bf15-6ebeb017b3ed"
      },
      "source": [
        "!head -n 10 /content/Unzip_CitiBikeData.sh"
      ],
      "execution_count": null,
      "outputs": [
        {
          "output_type": "stream",
          "text": [
            "unzip -o /content/sample_data/May2018.zip -d \"/content/sample_data\"\n",
            "unzip -o /content/sample_data/July2018.zip -d \"/content/sample_data\"\n",
            "unzip -o /content/sample_data/September2018.zip -d \"/content/sample_data\"\n",
            "unzip -o /content/sample_data/May2019.zip -d \"/content/sample_data\"\n",
            "unzip -o /content/sample_data/July2019.zip -d \"/content/sample_data\"\n",
            "unzip -o /content/sample_data/September2019.zip -d \"/content/sample_data\"\n",
            "unzip -o /content/sample_data/May2020.zip -d \"/content/sample_data\"\n",
            "unzip -o /content/sample_data/July2020.zip -d \"/content/sample_data\"\n",
            "unzip -o /content/sample_data/September2020.zip -d \"/content/sample_data\"\n"
          ],
          "name": "stdout"
        }
      ]
    },
    {
      "cell_type": "markdown",
      "metadata": {
        "id": "mcUhk-EbUB8o"
      },
      "source": [
        "After a script file has been created to unzip each file, execute the lines of code using the following command."
      ]
    },
    {
      "cell_type": "code",
      "metadata": {
        "colab": {
          "base_uri": "https://localhost:8080/"
        },
        "id": "_KFsjvhoT9wc",
        "outputId": "5a86be4f-b6ea-4557-d30b-cc7f26a4beae"
      },
      "source": [
        "%%bash\r\n",
        "bash Unzip_CitiBikeData.sh"
      ],
      "execution_count": null,
      "outputs": [
        {
          "output_type": "stream",
          "text": [
            "Archive:  /content/sample_data/May2018.zip\n",
            "  inflating: /content/sample_data/201805-citibike-tripdata.csv  \n",
            "Archive:  /content/sample_data/July2018.zip\n",
            "  inflating: /content/sample_data/201807-citibike-tripdata.csv  \n",
            "Archive:  /content/sample_data/September2018.zip\n",
            "  inflating: /content/sample_data/201809-citibike-tripdata.csv  \n",
            "Archive:  /content/sample_data/May2019.zip\n",
            "  inflating: /content/sample_data/201905-citibike-tripdata.csv  \n",
            "Archive:  /content/sample_data/July2019.zip\n",
            "  inflating: /content/sample_data/201907-citibike-tripdata.csv  \n",
            "Archive:  /content/sample_data/September2019.zip\n",
            "  inflating: /content/sample_data/201909-citibike-tripdata.csv  \n",
            "Archive:  /content/sample_data/May2020.zip\n",
            "  inflating: /content/sample_data/202005-citibike-tripdata.csv  \n",
            "Archive:  /content/sample_data/July2020.zip\n",
            "  inflating: /content/sample_data/202007-citibike-tripdata.csv  \n",
            "Archive:  /content/sample_data/September2020.zip\n",
            "  inflating: /content/sample_data/202009-citibike-tripdata.csv  \n"
          ],
          "name": "stdout"
        }
      ]
    },
    {
      "cell_type": "markdown",
      "metadata": {
        "id": "u8cLg1aAOqua"
      },
      "source": [
        "Once again, verify that each has been sucessfully unzipped."
      ]
    },
    {
      "cell_type": "code",
      "metadata": {
        "colab": {
          "base_uri": "https://localhost:8080/"
        },
        "id": "8mvitKPBUGQN",
        "outputId": "fe169a6e-14b1-4948-a7dc-4636ad8858dd"
      },
      "source": [
        "#View the contents in the content folder\r\n",
        "!ls -l /content/sample_data/"
      ],
      "execution_count": null,
      "outputs": [
        {
          "output_type": "stream",
          "text": [
            "total 4127544\n",
            "-rw-r--r-- 1 root root 346788777 Sep  6  2018 201805-citibike-tripdata.csv\n",
            "-rw-r--r-- 1 root root 364208046 Sep  6  2018 201807-citibike-tripdata.csv\n",
            "-rw-r--r-- 1 root root 357819814 Oct  3  2018 201809-citibike-tripdata.csv\n",
            "-rw-r--r-- 1 root root 367008111 Jun 11  2019 201905-citibike-tripdata.csv\n",
            "-rw-r--r-- 1 root root 415266713 Aug  5  2019 201907-citibike-tripdata.csv\n",
            "-rw-r--r-- 1 root root 464421401 Oct 11  2019 201909-citibike-tripdata.csv\n",
            "-rw-r--r-- 1 root root 283682921 Jun  5  2020 202005-citibike-tripdata.csv\n",
            "-rw-r--r-- 1 root root 399626762 Aug 12 01:42 202007-citibike-tripdata.csv\n",
            "-rw-r--r-- 1 root root 472984200 Oct 13 19:23 202009-citibike-tripdata.csv\n",
            "-rw-r--r-- 1 root root  63141848 Sep  6  2018 July2018.zip\n",
            "-rw-r--r-- 1 root root  93359147 Aug  5  2019 July2019.zip\n",
            "-rw-r--r-- 1 root root  94091098 Aug 12 02:13 July2020.zip\n",
            "drwxrwxr-x 2 root root      4096 Jul  6  2020 __MACOSX\n",
            "-rw-r--r-- 1 root root  60398070 Sep  6  2018 May2018.zip\n",
            "-rw-r--r-- 1 root root  82176801 Jun 11  2019 May2019.zip\n",
            "-rw-r--r-- 1 root root  65378700 Jun  5  2020 May2020.zip\n",
            "-rw-r--r-- 1 root root  80091394 Oct  3  2018 September2018.zip\n",
            "-rw-r--r-- 1 root root 104185546 Oct 11  2019 September2019.zip\n",
            "-rw-r--r-- 1 root root 111931985 Oct 13 19:55 September2020.zip\n"
          ],
          "name": "stdout"
        }
      ]
    },
    {
      "cell_type": "markdown",
      "metadata": {
        "id": "FwWTGhmqOzOI"
      },
      "source": [
        "## Pre-Processing of Data Files - GREP"
      ]
    },
    {
      "cell_type": "markdown",
      "metadata": {
        "id": "jOuS4id2UwAl"
      },
      "source": [
        "The following command can be used to get the number of lines across all *.csv files."
      ]
    },
    {
      "cell_type": "code",
      "metadata": {
        "colab": {
          "base_uri": "https://localhost:8080/"
        },
        "id": "s7iBqb22UyIi",
        "outputId": "b857441c-612b-49f5-e558-4ddecf3db776"
      },
      "source": [
        "!awk 'END{ print NR }' /content/sample_data/*.csv"
      ],
      "execution_count": null,
      "outputs": [
        {
          "output_type": "stream",
          "text": [
            "18248678\n"
          ],
          "name": "stdout"
        }
      ]
    },
    {
      "cell_type": "markdown",
      "metadata": {
        "id": "QNnOXYYcPMYc"
      },
      "source": [
        "An alternative to AWK is the use the <strong>!wc</strong> utility function.  The word count function has an -l option (the letter l, not 1) that can be used to count lines in a file.  This alternative is faster than AWK and it provides more details."
      ]
    },
    {
      "cell_type": "code",
      "metadata": {
        "colab": {
          "base_uri": "https://localhost:8080/"
        },
        "id": "MPxBLQtiQV0v",
        "outputId": "bc45b862-623d-4631-e157-9a8244a98a02"
      },
      "source": [
        "!wc -l /content/sample_data/*.csv"
      ],
      "execution_count": null,
      "outputs": [
        {
          "output_type": "stream",
          "text": [
            "   1824711 /content/sample_data/201805-citibike-tripdata.csv\n",
            "   1913626 /content/sample_data/201807-citibike-tripdata.csv\n",
            "   1877885 /content/sample_data/201809-citibike-tripdata.csv\n",
            "   1924564 /content/sample_data/201905-citibike-tripdata.csv\n",
            "   2181065 /content/sample_data/201907-citibike-tripdata.csv\n",
            "   2444901 /content/sample_data/201909-citibike-tripdata.csv\n",
            "   1487891 /content/sample_data/202005-citibike-tripdata.csv\n",
            "   2105809 /content/sample_data/202007-citibike-tripdata.csv\n",
            "   2488226 /content/sample_data/202009-citibike-tripdata.csv\n",
            "  18248678 total\n"
          ],
          "name": "stdout"
        }
      ]
    },
    {
      "cell_type": "markdown",
      "metadata": {
        "id": "JR2eu-41Vord"
      },
      "source": [
        "GREP is yet another command-line procedure for searching plain-text in data files that match a partipular expression.  GREP uses regular expression syntax when doing its searching. \r\n",
        "\r\n",
        "Wiki Entry for GREP: https://en.wikipedia.org/wiki/Grep "
      ]
    },
    {
      "cell_type": "markdown",
      "metadata": {
        "id": "uKR2LCKZQOcZ"
      },
      "source": [
        "The following <strong>!grep</strong> command will find all rows for which the word Customer is present.  The output from this search will be placed into a file named Customer.csv in the /content/sample_data/ folder."
      ]
    },
    {
      "cell_type": "code",
      "metadata": {
        "id": "6PdYrvMUQ-3W"
      },
      "source": [
        "!grep 'Customer' /content/sample_data/*.csv > /content/sample_data/Customer.csv"
      ],
      "execution_count": null,
      "outputs": []
    },
    {
      "cell_type": "markdown",
      "metadata": {
        "id": "Q-U-Ue4oWTYF"
      },
      "source": [
        "Next, get all the lines in Customer.csv file that have <strong>Central Park</strong> contained in either in the Start Station or End Station fields."
      ]
    },
    {
      "cell_type": "code",
      "metadata": {
        "id": "KJA83eOcWXbH"
      },
      "source": [
        "!grep 'Central Park' /content/sample_data/Customer.csv > /content/sample_data/Customer_CentralPark.csv"
      ],
      "execution_count": null,
      "outputs": []
    },
    {
      "cell_type": "markdown",
      "metadata": {
        "id": "YaBrVzX9RZnA"
      },
      "source": [
        "A check of the number of records in the Customer_CentralPark.csv file. "
      ]
    },
    {
      "cell_type": "code",
      "metadata": {
        "colab": {
          "base_uri": "https://localhost:8080/"
        },
        "id": "eTxs-ho5WYBj",
        "outputId": "c0e57d96-2bff-4aac-a1d3-386f46d13108"
      },
      "source": [
        "!wc -l /content/sample_data/Customer_CentralPark.csv"
      ],
      "execution_count": null,
      "outputs": [
        {
          "output_type": "stream",
          "text": [
            "358715 /content/sample_data/Customer_CentralPark.csv\n"
          ],
          "name": "stdout"
        }
      ]
    },
    {
      "cell_type": "markdown",
      "metadata": {
        "id": "3_WH4c0iXS1i"
      },
      "source": [
        "The two-step processing done above using !grep can be done with in a single step.  The syntax for the grep command must be modified so that a logicial <strong>AND</strong> is implemented.  This is accomplished through the use of the .* syntax."
      ]
    },
    {
      "cell_type": "code",
      "metadata": {
        "id": "ztVuBVe5XYxC"
      },
      "source": [
        "#Using the AND syntax with grep\r\n",
        "!grep 'Central Park.*Customer' /content/sample_data/*.csv > /content/sample_data/Customer_CentralPark_v2.csv"
      ],
      "execution_count": null,
      "outputs": []
    },
    {
      "cell_type": "markdown",
      "metadata": {
        "id": "bCLAr2ubSfXq"
      },
      "source": [
        "Verify that the grep functions was successfully executed."
      ]
    },
    {
      "cell_type": "code",
      "metadata": {
        "colab": {
          "base_uri": "https://localhost:8080/"
        },
        "id": "soIZ5brpXnTr",
        "outputId": "8921bd35-d251-40a1-8a7a-445beffb87b3"
      },
      "source": [
        "!wc -l /content/sample_data/Customer_CentralPark_v2.csv"
      ],
      "execution_count": null,
      "outputs": [
        {
          "output_type": "stream",
          "text": [
            "1076145 /content/sample_data/Customer_CentralPark_v2.csv\n"
          ],
          "name": "stdout"
        }
      ]
    },
    {
      "cell_type": "markdown",
      "metadata": {
        "id": "-UYCccHHSk3i"
      },
      "source": [
        "Notice that this version contains too many lines (does not match the grep command that was done above with the two-steps)."
      ]
    },
    {
      "cell_type": "code",
      "metadata": {
        "colab": {
          "base_uri": "https://localhost:8080/"
        },
        "id": "znc0pi-zYZbD",
        "outputId": "edcb6e5f-472c-450b-a01e-a7715cd643b3"
      },
      "source": [
        "!ls -l /content/sample_data/"
      ],
      "execution_count": null,
      "outputs": [
        {
          "output_type": "stream",
          "text": [
            "total 5353516\n",
            "-rw-r--r-- 1 root root 346788777 Sep  6  2018 201805-citibike-tripdata.csv\n",
            "-rw-r--r-- 1 root root 364208046 Sep  6  2018 201807-citibike-tripdata.csv\n",
            "-rw-r--r-- 1 root root 357819814 Oct  3  2018 201809-citibike-tripdata.csv\n",
            "-rw-r--r-- 1 root root 367008111 Jun 11  2019 201905-citibike-tripdata.csv\n",
            "-rw-r--r-- 1 root root 415266713 Aug  5  2019 201907-citibike-tripdata.csv\n",
            "-rw-r--r-- 1 root root 464421401 Oct 11  2019 201909-citibike-tripdata.csv\n",
            "-rw-r--r-- 1 root root 283682921 Jun  5  2020 202005-citibike-tripdata.csv\n",
            "-rw-r--r-- 1 root root 399626762 Aug 12 01:42 202007-citibike-tripdata.csv\n",
            "-rw-r--r-- 1 root root 472984200 Oct 13 19:23 202009-citibike-tripdata.csv\n",
            "-rw-r--r-- 1 root root  89576977 Feb  2 16:27 Customer_CentralPark.csv\n",
            "-rw-r--r-- 1 root root 297428131 Feb  2 16:27 Customer_CentralPark_v2.csv\n",
            "-rw-r--r-- 1 root root 868379340 Feb  2 16:26 Customer.csv\n",
            "-rw-r--r-- 1 root root  63141848 Sep  6  2018 July2018.zip\n",
            "-rw-r--r-- 1 root root  93359147 Aug  5  2019 July2019.zip\n",
            "-rw-r--r-- 1 root root  94091098 Aug 12 02:13 July2020.zip\n",
            "drwxrwxr-x 2 root root      4096 Jul  6  2020 __MACOSX\n",
            "-rw-r--r-- 1 root root  60398070 Sep  6  2018 May2018.zip\n",
            "-rw-r--r-- 1 root root  82176801 Jun 11  2019 May2019.zip\n",
            "-rw-r--r-- 1 root root  65378700 Jun  5  2020 May2020.zip\n",
            "-rw-r--r-- 1 root root  80091394 Oct  3  2018 September2018.zip\n",
            "-rw-r--r-- 1 root root 104185546 Oct 11  2019 September2019.zip\n",
            "-rw-r--r-- 1 root root 111931985 Oct 13 19:55 September2020.zip\n"
          ],
          "name": "stdout"
        }
      ]
    },
    {
      "cell_type": "markdown",
      "metadata": {
        "id": "QX2uEsHsSuo0"
      },
      "source": [
        "The *.csv wildcard inadvertly included the Customer_CentralPark.csv file.  The grep command should only be run through the orginal data files.  The followind modification solves this problem."
      ]
    },
    {
      "cell_type": "code",
      "metadata": {
        "id": "sCVQsqXzk4ox"
      },
      "source": [
        "!grep 'Central Park.*Customer' /content/sample_data/*-tripdata.csv > /content/sample_data/Customer_CentralPark_v2.csv"
      ],
      "execution_count": null,
      "outputs": []
    },
    {
      "cell_type": "markdown",
      "metadata": {
        "id": "0gisLlL_TFOd"
      },
      "source": [
        "Verify that the contents of this file matches that of what was done in the two-step process of filtering down to Customers and station locations near Central Park."
      ]
    },
    {
      "cell_type": "code",
      "metadata": {
        "colab": {
          "base_uri": "https://localhost:8080/"
        },
        "id": "bZ1svE42k_P2",
        "outputId": "68f753b8-9ae5-4eea-d6fc-6c4af106ffee"
      },
      "source": [
        "!wc -l /content/sample_data/Customer_CentralPark_v2.csv"
      ],
      "execution_count": null,
      "outputs": [
        {
          "output_type": "stream",
          "text": [
            "358715 /content/sample_data/Customer_CentralPark_v2.csv\n"
          ],
          "name": "stdout"
        }
      ]
    },
    {
      "cell_type": "markdown",
      "metadata": {
        "id": "jJq41lVWTSNt"
      },
      "source": [
        "Notice that the files are teh same exact size which may provide evidence they match."
      ]
    },
    {
      "cell_type": "code",
      "metadata": {
        "colab": {
          "base_uri": "https://localhost:8080/"
        },
        "id": "pki_iC1tX4JZ",
        "outputId": "8031feaa-2b46-47d4-8e05-1c4adc49812a"
      },
      "source": [
        "!ls -l /content/sample_data/Customer_CentralPark*"
      ],
      "execution_count": null,
      "outputs": [
        {
          "output_type": "stream",
          "text": [
            "-rw-r--r-- 1 root root 89576977 Feb  2 16:27 /content/sample_data/Customer_CentralPark.csv\n",
            "-rw-r--r-- 1 root root 89576977 Feb  2 16:29 /content/sample_data/Customer_CentralPark_v2.csv\n"
          ],
          "name": "stdout"
        }
      ]
    },
    {
      "cell_type": "markdown",
      "metadata": {
        "id": "i1FXMpC3eDrL"
      },
      "source": [
        "The </strong>!diff</strong> command is a more formal method to compare the contents of two files.  The output returned is empty which indicates that the two files match.\r\n"
      ]
    },
    {
      "cell_type": "code",
      "metadata": {
        "colab": {
          "base_uri": "https://localhost:8080/"
        },
        "id": "xmE4-fbHZD6k",
        "outputId": "d72dec2a-096d-4e5f-90df-b09b82247da9"
      },
      "source": [
        "!diff /content/sample_data/Customer_CentralPark_v2.csv /content/sample_data/Customer_CentralPark.csv"
      ],
      "execution_count": null,
      "outputs": [
        {
          "output_type": "stream",
          "text": [
            "371630,1114887d371629\n",
            "< /content/sample_data/Customer_CentralPark.csv:/content/sample_data/201806-citibike-tripdata.csv:2042,\"2018-06-03 17:04:53.4320\",\"2018-06-03 17:38:56.0580\",72,\"W 52 St & 11 Ave\",40.76727216,-73.99392888,3160,\"Central Park West & W 76 St\",40.77896784,-73.97374737,28746,\"Customer\",1992,1\n",
            "< /content/sample_data/Customer_CentralPark.csv:/content/sample_data/201806-citibike-tripdata.csv:1777,\"2018-06-03 17:09:23.6020\",\"2018-06-03 17:39:01.2470\",72,\"W 52 St & 11 Ave\",40.76727216,-73.99392888,3160,\"Central Park West & W 76 St\",40.77896784,-73.97374737,28593,\"Customer\",1995,1\n",
            "< /content/sample_data/Customer_CentralPark.csv:/content/sample_data/201806-citibike-tripdata.csv:817,\"2018-06-03 18:03:21.6480\",\"2018-06-03 18:16:59.0370\",72,\"W 52 St & 11 Ave\",40.76727216,-73.99392888,2006,\"Central Park S & 6 Ave\",40.76590936,-73.97634151,30892,\"Customer\",1969,0\n",
            "< /content/sample_data/Customer_CentralPark.csv:/content/sample_data/201806-citibike-tripdata.csv:1547,\"2018-06-08 16:11:04.6640\",\"2018-06-08 16:36:51.7660\",72,\"W 52 St & 11 Ave\",40.76727216,-73.99392888,3323,\"W 106 St & Central Park West\",40.7981856,-73.9605909006,21198,\"Customer\",1984,1\n"
          ],
          "name": "stdout"
        }
      ]
    },
    {
      "cell_type": "markdown",
      "metadata": {
        "id": "3D5RpJ9qefWk"
      },
      "source": [
        "Next, let us try to extract the fourth of July dates using the following command."
      ]
    },
    {
      "cell_type": "code",
      "metadata": {
        "colab": {
          "base_uri": "https://localhost:8080/"
        },
        "id": "5LM-6es6ee9r",
        "outputId": "dc17fadc-475e-4009-bbcb-51176f7c6b2a"
      },
      "source": [
        "!grep '-07-04' /content/sample_data/Customer_CentralPark.csv > /content/sample_data/Customer_CentralPark_Holidays.csv"
      ],
      "execution_count": null,
      "outputs": [
        {
          "output_type": "stream",
          "text": [
            "grep: invalid option -- '-'\n",
            "Usage: grep [OPTION]... PATTERN [FILE]...\n",
            "Try 'grep --help' for more information.\n"
          ],
          "name": "stdout"
        }
      ]
    },
    {
      "cell_type": "markdown",
      "metadata": {
        "id": "L8yrYRWcT0xB"
      },
      "source": [
        "The initial dash is causing problems as GREP things this is a command.  We can escapulate character in grep with a backslash as is shown here."
      ]
    },
    {
      "cell_type": "code",
      "metadata": {
        "id": "-64YXnsZlkvn"
      },
      "source": [
        "!grep '\\-07-04' /content/sample_data/Customer_CentralPark.csv > /content/sample_data/Customer_CentralPark_Holidays.csv"
      ],
      "execution_count": null,
      "outputs": []
    },
    {
      "cell_type": "markdown",
      "metadata": {
        "id": "fFN-npBpUAQW"
      },
      "source": [
        "Let us check how many rentals we have for the fourth of July across all three years."
      ]
    },
    {
      "cell_type": "code",
      "metadata": {
        "colab": {
          "base_uri": "https://localhost:8080/"
        },
        "id": "N6vcSi1qhhKY",
        "outputId": "88587d8a-164d-4689-f95d-5ebfa4450f36"
      },
      "source": [
        "!wc -l /content/sample_data/Customer_CentralPark_Holidays.csv"
      ],
      "execution_count": null,
      "outputs": [
        {
          "output_type": "stream",
          "text": [
            "6074 /content/sample_data/Customer_CentralPark_Holidays.csv\n"
          ],
          "name": "stdout"
        }
      ]
    },
    {
      "cell_type": "markdown",
      "metadata": {
        "id": "dp-bFOwUULpA"
      },
      "source": [
        "Next, let us get the bike rentals from May 28, 2018."
      ]
    },
    {
      "cell_type": "code",
      "metadata": {
        "id": "QMhvPqM1lxUw"
      },
      "source": [
        "!grep '2018-05-28' /content/sample_data/Customer_CentralPark.csv > /content/sample_data/Customer_CentralPark_Holidays.csv"
      ],
      "execution_count": null,
      "outputs": []
    },
    {
      "cell_type": "markdown",
      "metadata": {
        "id": "wEAkLEzLURDI"
      },
      "source": [
        "Again, a simple count of the records in this file."
      ]
    },
    {
      "cell_type": "code",
      "metadata": {
        "colab": {
          "base_uri": "https://localhost:8080/"
        },
        "id": "66NODJB3l3Yx",
        "outputId": "66857813-afd0-4e0a-f5f4-db433fe80620"
      },
      "source": [
        "!wc -l /content/sample_data/Customer_CentralPark_Holidays.csv"
      ],
      "execution_count": null,
      "outputs": [
        {
          "output_type": "stream",
          "text": [
            "2048 /content/sample_data/Customer_CentralPark_Holidays.csv\n"
          ],
          "name": "stdout"
        }
      ]
    },
    {
      "cell_type": "markdown",
      "metadata": {
        "id": "GlhOsJ0AUVud"
      },
      "source": [
        "The vertical bar \"|\" is used to represent the logical <strong>OR</strong> with grep."
      ]
    },
    {
      "cell_type": "code",
      "metadata": {
        "id": "MOhZbLU2l53L"
      },
      "source": [
        "!grep -E '\\-07-04|2018-05-28' /content/sample_data/Customer_CentralPark.csv > /content/sample_data/Customer_CentralPark_Holidays.csv"
      ],
      "execution_count": null,
      "outputs": []
    },
    {
      "cell_type": "markdown",
      "metadata": {
        "id": "UM2BdmkeUiAQ"
      },
      "source": [
        "Verify how many records for July 4 (across all years) and May 28, 2018."
      ]
    },
    {
      "cell_type": "code",
      "metadata": {
        "colab": {
          "base_uri": "https://localhost:8080/"
        },
        "id": "j5QBxnGOl6Vx",
        "outputId": "aadc685d-b110-4fce-a390-de9dea757503"
      },
      "source": [
        "!wc -l /content/sample_data/Customer_CentralPark_Holidays.csv"
      ],
      "execution_count": null,
      "outputs": [
        {
          "output_type": "stream",
          "text": [
            "8122 /content/sample_data/Customer_CentralPark_Holidays.csv\n"
          ],
          "name": "stdout"
        }
      ]
    },
    {
      "cell_type": "markdown",
      "metadata": {
        "id": "-W4LHRrWUnvX"
      },
      "source": [
        "The following grep command can be used to get all the bike rentals across the summer holidays and across the three years."
      ]
    },
    {
      "cell_type": "code",
      "metadata": {
        "id": "_wIW7YJWmMGC"
      },
      "source": [
        "!grep -E '\\-07-04|2018-05-28|2019-05-27|2020-05-25|2018-09-03|2019-09-02|2020-09-07' /content/sample_data/Customer_CentralPark.csv > /content/sample_data/Customer_CentralPark_Holidays.csv"
      ],
      "execution_count": null,
      "outputs": []
    },
    {
      "cell_type": "code",
      "metadata": {
        "colab": {
          "base_uri": "https://localhost:8080/"
        },
        "id": "dPqP9BMLmOKx",
        "outputId": "3312d74f-e69f-45e5-9b42-02a7dce938f6"
      },
      "source": [
        "!wc -l /content/sample_data/Customer_CentralPark_Holidays.csv"
      ],
      "execution_count": null,
      "outputs": [
        {
          "output_type": "stream",
          "text": [
            "19724 /content/sample_data/Customer_CentralPark_Holidays.csv\n"
          ],
          "name": "stdout"
        }
      ]
    },
    {
      "cell_type": "markdown",
      "metadata": {
        "id": "POdMsiFao8HA"
      },
      "source": [
        "Get a random selection of rows to verify condidtions have been meet"
      ]
    },
    {
      "cell_type": "code",
      "metadata": {
        "colab": {
          "base_uri": "https://localhost:8080/"
        },
        "id": "j11VsZxamg8X",
        "outputId": "91070b18-1592-4b90-9a2a-acc0d4f5c97f"
      },
      "source": [
        "!shuf -n 20 /content/sample_data/Customer_CentralPark_Holidays.csv "
      ],
      "execution_count": null,
      "outputs": [
        {
          "output_type": "stream",
          "text": [
            "/content/sample_data/201807-citibike-tripdata.csv:1411,\"2018-07-04 19:14:06.3150\",\"2018-07-04 19:37:37.9050\",3168,\"Central Park West & W 85 St\",40.78472675,-73.96961715,457,\"Broadway & W 58 St\",40.76695317,-73.98169333,15047,\"Customer\",1969,0\n",
            "/content/sample_data/201905-citibike-tripdata.csv:765,\"2019-05-27 08:49:00.8070\",\"2019-05-27 09:01:46.4220\",3374,\"Central Park North & Adam Clayton Powell Blvd\",40.799484,-73.955613,3383,\"Cathedral Pkwy & Broadway\",40.804213,-73.96699104,15780,\"Customer\",1986,1\n",
            "/content/sample_data/202009-citibike-tripdata.csv:9872,\"2020-09-07 07:30:08.5970\",\"2020-09-07 10:14:41.5540\",3724,\"7 Ave & Central Park South\",40.7667405590595,-73.9790689945221,3305,\"E 91 St & 2 Ave\",40.78112229934166,-73.94965589046478,37050,\"Customer\",1969,0\n",
            "/content/sample_data/201809-citibike-tripdata.csv:1087,\"2018-09-03 13:09:36.3430\",\"2018-09-03 13:27:43.3650\",3282,\"5 Ave & E 88 St\",40.78307,-73.95939,3374,\"Central Park North & Adam Clayton Powell Blvd\",40.799484,-73.955613,24976,\"Customer\",1969,0\n",
            "/content/sample_data/202009-citibike-tripdata.csv:1382,\"2020-09-07 15:50:31.2080\",\"2020-09-07 16:13:33.3660\",3724,\"7 Ave & Central Park South\",40.7667405590595,-73.9790689945221,3374,\"Central Park North & Adam Clayton Powell Blvd\",40.799484,-73.955613,44634,\"Customer\",1991,2\n",
            "/content/sample_data/201805-citibike-tripdata.csv:3084,\"2018-05-28 14:11:07.7780\",\"2018-05-28 15:02:32.6070\",3538,\"W 110 St & Amsterdam Ave\",40.802692,-73.96295,3374,\"Central Park North & Adam Clayton Powell Blvd\",40.799484,-73.955613,28462,\"Customer\",1996,1\n",
            "/content/sample_data/202005-citibike-tripdata.csv:1451,\"2020-05-25 18:29:05.1870\",\"2020-05-25 18:53:17.0540\",3320,\"Central Park West & W 100 St\",40.79406660818552,-73.96286845207214,3165,\"Central Park West & W 72 St\",40.77579376683666,-73.9762057363987,29119,\"Customer\",1969,0\n",
            "/content/sample_data/201909-citibike-tripdata.csv:909,\"2019-09-02 16:01:43.4770\",\"2019-09-02 16:16:52.8790\",3160,\"Central Park West & W 76 St\",40.77896784,-73.97374737,500,\"Broadway & W 51 St\",40.76228826,-73.98336183,28827,\"Customer\",1969,0\n",
            "/content/sample_data/202009-citibike-tripdata.csv:785,\"2020-09-07 08:46:20.9420\",\"2020-09-07 08:59:26.7740\",540,\"Lexington Ave & E 29 St\",40.74311555376486,-73.98215353488922,2006,\"Central Park S & 6 Ave\",40.76590936,-73.97634151,25323,\"Customer\",1969,0\n",
            "/content/sample_data/201905-citibike-tripdata.csv:1326,\"2019-05-27 15:09:24.2000\",\"2019-05-27 15:31:30.3190\",3165,\"Central Park West & W 72 St\",40.77579376683666,-73.9762057363987,3282,\"5 Ave & E 88 St\",40.78307,-73.95939,30961,\"Customer\",1969,0\n",
            "/content/sample_data/202009-citibike-tripdata.csv:351,\"2020-09-07 17:48:41.1260\",\"2020-09-07 17:54:33.1140\",3508,\"St Nicholas Ave & Manhattan Ave\",40.809725,-73.953149,3374,\"Central Park North & Adam Clayton Powell Blvd\",40.799484,-73.955613,37412,\"Customer\",1991,1\n",
            "/content/sample_data/202007-citibike-tripdata.csv:1551,\"2020-07-04 16:47:02.9970\",\"2020-07-04 17:12:54.8450\",281,\"Grand Army Plaza & Central Park S\",40.7643971,-73.97371465,3295,\"Central Park W & W 96 St\",40.79127,-73.964839,41763,\"Customer\",1989,1\n",
            "/content/sample_data/201805-citibike-tripdata.csv:1875,\"2018-05-28 13:57:29.8400\",\"2018-05-28 14:28:44.8990\",3374,\"Central Park North & Adam Clayton Powell Blvd\",40.799484,-73.955613,457,\"Broadway & W 58 St\",40.76695317,-73.98169333,30494,\"Customer\",1981,2\n",
            "/content/sample_data/201905-citibike-tripdata.csv:1155,\"2019-05-27 16:27:21.7790\",\"2019-05-27 16:46:36.8420\",3160,\"Central Park West & W 76 St\",40.77896784,-73.97374737,3521,\"Lenox Ave & W 111 St\",40.7987859,-73.9523,26581,\"Customer\",1969,0\n",
            "/content/sample_data/201809-citibike-tripdata.csv:122,\"2018-09-03 13:12:52.0160\",\"2018-09-03 13:14:54.4640\",2006,\"Central Park S & 6 Ave\",40.76590936,-73.97634151,2006,\"Central Park S & 6 Ave\",40.76590936,-73.97634151,18634,\"Customer\",2000,1\n",
            "/content/sample_data/202009-citibike-tripdata.csv:4130,\"2020-09-07 17:36:42.0010\",\"2020-09-07 18:45:32.5360\",4122,\"Central Park W & W 97 St\",40.79249519495111,-73.96417066463071,4122,\"Central Park W & W 97 St\",40.79249519495111,-73.96417066463071,43349,\"Customer\",1994,2\n",
            "/content/sample_data/201805-citibike-tripdata.csv:1433,\"2018-05-28 13:35:08.4420\",\"2018-05-28 13:59:02.1120\",3282,\"5 Ave & E 88 St\",40.78307,-73.95939,3320,\"Central Park West & W 100 St\",40.79406660818552,-73.96286845207214,20649,\"Customer\",1969,0\n",
            "/content/sample_data/201805-citibike-tripdata.csv:1556,\"2018-05-27 23:34:58.0390\",\"2018-05-28 00:00:54.2500\",469,\"Broadway & W 53 St\",40.76344058,-73.98268129,3165,\"Central Park West & W 72 St\",40.77579376683666,-73.9762057363987,20909,\"Customer\",1969,0\n",
            "/content/sample_data/201907-citibike-tripdata.csv:1414,\"2019-07-04 16:50:16.6640\",\"2019-07-04 17:13:51.6140\",3165,\"Central Park West & W 72 St\",40.77579376683666,-73.9762057363987,3362,\"Madison Ave & E 82 St\",40.7781314,-73.96069399,18148,\"Customer\",1969,0\n",
            "/content/sample_data/201805-citibike-tripdata.csv:1426,\"2018-05-28 17:56:56.2400\",\"2018-05-28 18:20:42.6370\",3295,\"Central Park W & W 96 St\",40.79127,-73.964839,499,\"Broadway & W 60 St\",40.76915505,-73.98191841,26363,\"Customer\",1969,0\n"
          ],
          "name": "stdout"
        }
      ]
    },
    {
      "cell_type": "code",
      "metadata": {
        "id": "w47HLP1nriST"
      },
      "source": [
        "!head -n 1 /content/sample_data/201805-citibike-tripdata.csv > /content/sample_data/Header.csv"
      ],
      "execution_count": null,
      "outputs": []
    },
    {
      "cell_type": "markdown",
      "metadata": {
        "id": "MqOgFh50rqk1"
      },
      "source": [
        "Looking at header"
      ]
    },
    {
      "cell_type": "code",
      "metadata": {
        "colab": {
          "base_uri": "https://localhost:8080/"
        },
        "id": "4ywu-R0wrsI8",
        "outputId": "222acc10-1538-477f-efb3-7498642d90c4"
      },
      "source": [
        "!cat /content/sample_data/Header.csv "
      ],
      "execution_count": null,
      "outputs": [
        {
          "output_type": "stream",
          "text": [
            "\"tripduration\",\"starttime\",\"stoptime\",\"start station id\",\"start station name\",\"start station latitude\",\"start station longitude\",\"end station id\",\"end station name\",\"end station latitude\",\"end station longitude\",\"bikeid\",\"usertype\",\"birth year\",\"gender\"\n"
          ],
          "name": "stdout"
        }
      ]
    },
    {
      "cell_type": "markdown",
      "metadata": {
        "id": "TPDihnsftt7G"
      },
      "source": [
        "Replace all spaces in field names with and underscore"
      ]
    },
    {
      "cell_type": "code",
      "metadata": {
        "id": "IFiE8EbhtuDd"
      },
      "source": [
        "!sed -i '1s/ /_/g' /content/sample_data/Header.csv "
      ],
      "execution_count": null,
      "outputs": []
    },
    {
      "cell_type": "code",
      "metadata": {
        "colab": {
          "base_uri": "https://localhost:8080/"
        },
        "id": "15tfviV9uAGX",
        "outputId": "373a6bae-2c5f-40df-b8f6-db742f3f0fc1"
      },
      "source": [
        "!cat /content/sample_data/Header.csv "
      ],
      "execution_count": null,
      "outputs": [
        {
          "output_type": "stream",
          "text": [
            "\"tripduration\",\"starttime\",\"stoptime\",\"start_station_id\",\"start_station_name\",\"start_station_latitude\",\"start_station_longitude\",\"end_station_id\",\"end_station_name\",\"end_station_latitude\",\"end_station_longitude\",\"bikeid\",\"usertype\",\"birth_year\",\"gender\"\n"
          ],
          "name": "stdout"
        }
      ]
    },
    {
      "cell_type": "markdown",
      "metadata": {
        "id": "WqiRTd8qsAo3"
      },
      "source": [
        "Glue to top of Holidays file"
      ]
    },
    {
      "cell_type": "code",
      "metadata": {
        "id": "DBOf_hJFsC5N"
      },
      "source": [
        "!cat /content/sample_data/Header.csv /content/sample_data/Customer_CentralPark_Holidays.csv > /content/sample_data/Customer_CentralPark_Holidays_withHeader.csv "
      ],
      "execution_count": null,
      "outputs": []
    },
    {
      "cell_type": "markdown",
      "metadata": {
        "id": "lEl9dGsksTBW"
      },
      "source": [
        "Did it work?"
      ]
    },
    {
      "cell_type": "code",
      "metadata": {
        "colab": {
          "base_uri": "https://localhost:8080/"
        },
        "id": "gw9C-ELdsUgx",
        "outputId": "0138bdbf-83f9-4fc7-9b19-aa28589b6994"
      },
      "source": [
        "!head /content/sample_data/Customer_CentralPark_Holidays_withHeader.csv"
      ],
      "execution_count": null,
      "outputs": [
        {
          "output_type": "stream",
          "text": [
            "\"tripduration\",\"starttime\",\"stoptime\",\"start_station_id\",\"start_station_name\",\"start_station_latitude\",\"start_station_longitude\",\"end_station_id\",\"end_station_name\",\"end_station_latitude\",\"end_station_longitude\",\"bikeid\",\"usertype\",\"birth_year\",\"gender\"\n",
            "/content/sample_data/201805-citibike-tripdata.csv:1850,\"2018-05-28 12:59:49.5320\",\"2018-05-28 13:30:40.0560\",72,\"W 52 St & 11 Ave\",40.76727216,-73.99392888,2006,\"Central Park S & 6 Ave\",40.76590936,-73.97634151,30028,\"Customer\",1969,0\n",
            "/content/sample_data/201805-citibike-tripdata.csv:1513,\"2018-05-28 13:27:45.5860\",\"2018-05-28 13:52:58.9950\",72,\"W 52 St & 11 Ave\",40.76727216,-73.99392888,3226,\"W 82 St & Central Park West\",40.78275,-73.97137,17715,\"Customer\",1969,0\n",
            "/content/sample_data/201805-citibike-tripdata.csv:1485,\"2018-05-28 13:28:06.1480\",\"2018-05-28 13:52:51.9910\",72,\"W 52 St & 11 Ave\",40.76727216,-73.99392888,3226,\"W 82 St & Central Park West\",40.78275,-73.97137,21809,\"Customer\",1969,0\n",
            "/content/sample_data/201805-citibike-tripdata.csv:2274,\"2018-05-28 14:44:56.0750\",\"2018-05-28 15:22:50.7010\",128,\"MacDougal St & Prince St\",40.72710258,-74.00297088,2006,\"Central Park S & 6 Ave\",40.76590936,-73.97634151,28536,\"Customer\",1995,1\n",
            "/content/sample_data/201805-citibike-tripdata.csv:2268,\"2018-05-28 14:45:01.5460\",\"2018-05-28 15:22:49.7980\",128,\"MacDougal St & Prince St\",40.72710258,-74.00297088,2006,\"Central Park S & 6 Ave\",40.76590936,-73.97634151,28122,\"Customer\",1995,1\n",
            "/content/sample_data/201805-citibike-tripdata.csv:1449,\"2018-05-28 13:27:07.6770\",\"2018-05-28 13:51:16.8360\",167,\"E 39 St & 3 Ave\",40.7489006,-73.97604882,2006,\"Central Park S & 6 Ave\",40.76590936,-73.97634151,15404,\"Customer\",1969,0\n",
            "/content/sample_data/201805-citibike-tripdata.csv:1246,\"2018-05-28 00:28:54.3860\",\"2018-05-28 00:49:40.4280\",173,\"Broadway & W 49 St\",40.76068327096592,-73.9845272898674,3320,\"Central Park West & W 100 St\",40.79406660818552,-73.96286845207214,28077,\"Customer\",1969,0\n",
            "/content/sample_data/201805-citibike-tripdata.csv:733,\"2018-05-28 12:16:45.3380\",\"2018-05-28 12:28:58.3690\",173,\"Broadway & W 49 St\",40.76068327096592,-73.9845272898674,281,\"Grand Army Plaza & Central Park S\",40.7643971,-73.97371465,29632,\"Customer\",1969,0\n",
            "/content/sample_data/201805-citibike-tripdata.csv:647,\"2018-05-28 12:18:03.5980\",\"2018-05-28 12:28:51.5770\",173,\"Broadway & W 49 St\",40.76068327096592,-73.9845272898674,281,\"Grand Army Plaza & Central Park S\",40.7643971,-73.97371465,24985,\"Customer\",1969,0\n"
          ],
          "name": "stdout"
        }
      ]
    },
    {
      "cell_type": "markdown",
      "metadata": {
        "id": "7pp44TL5qZrJ"
      },
      "source": [
        "## Reading data into R"
      ]
    },
    {
      "cell_type": "code",
      "metadata": {
        "colab": {
          "base_uri": "https://localhost:8080/"
        },
        "id": "sPExDhbcqaEU",
        "outputId": "52e66ff6-2618-4137-e1a0-4c2db6cfcdd1"
      },
      "source": [
        "%load_ext rpy2.ipython"
      ],
      "execution_count": null,
      "outputs": [
        {
          "output_type": "stream",
          "text": [
            "/usr/local/lib/python3.6/dist-packages/rpy2/robjects/pandas2ri.py:14: FutureWarning: pandas.core.index is deprecated and will be removed in a future version.  The public classes are available in the top-level namespace.\n",
            "  from pandas.core.index import Index as PandasIndex\n",
            "/usr/local/lib/python3.6/dist-packages/rpy2/robjects/pandas2ri.py:34: UserWarning: pandas >= 1.0 is not supported.\n",
            "  warnings.warn('pandas >= 1.0 is not supported.')\n"
          ],
          "name": "stderr"
        }
      ]
    },
    {
      "cell_type": "markdown",
      "metadata": {
        "id": "8QJi4sP5tPDH"
      },
      "source": [
        ""
      ]
    },
    {
      "cell_type": "code",
      "metadata": {
        "colab": {
          "base_uri": "https://localhost:8080/"
        },
        "id": "nUZbp7x-tPQQ",
        "outputId": "5e7588f5-a850-4b5e-aea1-75bbd1c19ed1"
      },
      "source": [
        "%%R\r\n",
        "library(tidyverse)"
      ],
      "execution_count": null,
      "outputs": [
        {
          "output_type": "stream",
          "text": [
            "R[write to console]: ── Attaching packages ─────────────────────────────────────── tidyverse 1.3.0 ──\n",
            "\n",
            "R[write to console]: ✔ ggplot2 3.3.3     ✔ purrr   0.3.4\n",
            "✔ tibble  3.0.5     ✔ dplyr   1.0.3\n",
            "✔ tidyr   1.1.2     ✔ stringr 1.4.0\n",
            "✔ readr   1.4.0     ✔ forcats 0.5.0\n",
            "\n",
            "R[write to console]: ── Conflicts ────────────────────────────────────────── tidyverse_conflicts() ──\n",
            "✖ dplyr::filter() masks stats::filter()\n",
            "✖ dplyr::lag()    masks stats::lag()\n",
            "\n"
          ],
          "name": "stderr"
        }
      ]
    },
    {
      "cell_type": "code",
      "metadata": {
        "colab": {
          "base_uri": "https://localhost:8080/"
        },
        "id": "Z2cj7iglqePh",
        "outputId": "e160808c-9e48-4bbd-e05c-8e67bc227d49"
      },
      "source": [
        "#Read the *.csv file into R; provide names for each field as well\r\n",
        "%%R\r\n",
        "\r\n",
        "NYC_Holidays_CitiBikeRentals <- read_csv('/content/sample_data/Customer_CentralPark_Holidays_withHeader.csv')"
      ],
      "execution_count": null,
      "outputs": [
        {
          "output_type": "stream",
          "text": [
            "R[write to console]: \n",
            "── Column specification ────────────────────────────────────────────────────────\n",
            "cols(\n",
            "  tripduration = col_character(),\n",
            "  starttime = col_datetime(format = \"\"),\n",
            "  stoptime = col_datetime(format = \"\"),\n",
            "  start_station_id = col_double(),\n",
            "  start_station_name = col_character(),\n",
            "  start_station_latitude = col_double(),\n",
            "  start_station_longitude = col_double(),\n",
            "  end_station_id = col_double(),\n",
            "  end_station_name = col_character(),\n",
            "  end_station_latitude = col_double(),\n",
            "  end_station_longitude = col_double(),\n",
            "  bikeid = col_double(),\n",
            "  usertype = col_character(),\n",
            "  birth_year = col_double(),\n",
            "  gender = col_double()\n",
            ")\n",
            "\n",
            "\n"
          ],
          "name": "stderr"
        }
      ]
    },
    {
      "cell_type": "markdown",
      "metadata": {
        "id": "ydbgsI8Xswd9"
      },
      "source": [
        ""
      ]
    },
    {
      "cell_type": "code",
      "metadata": {
        "colab": {
          "base_uri": "https://localhost:8080/"
        },
        "id": "ZHhX1fRnswml",
        "outputId": "eeb06a6a-cfeb-47ea-adff-df8fc2af4396"
      },
      "source": [
        "#\r\n",
        "%%R\r\n",
        "\r\n",
        "ls()\r\n",
        "head(NYC_Holidays_CitiBikeRentals)"
      ],
      "execution_count": null,
      "outputs": [
        {
          "output_type": "stream",
          "text": [
            "# A tibble: 6 x 15\n",
            "  tripduration starttime           stoptime            start_station_id\n",
            "  <chr>        <dttm>              <dttm>                         <dbl>\n",
            "1 /content/sa… 2018-05-28 12:59:49 2018-05-28 13:30:40               72\n",
            "2 /content/sa… 2018-05-28 13:27:45 2018-05-28 13:52:58               72\n",
            "3 /content/sa… 2018-05-28 13:28:06 2018-05-28 13:52:51               72\n",
            "4 /content/sa… 2018-05-28 14:44:56 2018-05-28 15:22:50              128\n",
            "5 /content/sa… 2018-05-28 14:45:01 2018-05-28 15:22:49              128\n",
            "6 /content/sa… 2018-05-28 13:27:07 2018-05-28 13:51:16              167\n",
            "# … with 11 more variables: start_station_name <chr>,\n",
            "#   start_station_latitude <dbl>, start_station_longitude <dbl>,\n",
            "#   end_station_id <dbl>, end_station_name <chr>, end_station_latitude <dbl>,\n",
            "#   end_station_longitude <dbl>, bikeid <dbl>, usertype <chr>,\n",
            "#   birth_year <dbl>, gender <dbl>\n"
          ],
          "name": "stdout"
        }
      ]
    },
    {
      "cell_type": "markdown",
      "metadata": {
        "id": "h-dZtNe6tAD1"
      },
      "source": [
        "Looking at structure..."
      ]
    },
    {
      "cell_type": "code",
      "metadata": {
        "colab": {
          "base_uri": "https://localhost:8080/"
        },
        "id": "8w5XwDc9tArI",
        "outputId": "16e2e343-d7ed-4322-89e6-f4a2c34272ee"
      },
      "source": [
        "%%R\r\n",
        "str(NYC_Holidays_CitiBikeRentals)"
      ],
      "execution_count": null,
      "outputs": [
        {
          "output_type": "stream",
          "text": [
            "tibble [19,724 × 15] (S3: spec_tbl_df/tbl_df/tbl/data.frame)\n",
            " $ tripduration           : chr [1:19724] \"/content/sample_data/201805-citibike-tripdata.csv:1850\" \"/content/sample_data/201805-citibike-tripdata.csv:1513\" \"/content/sample_data/201805-citibike-tripdata.csv:1485\" \"/content/sample_data/201805-citibike-tripdata.csv:2274\" ...\n",
            " $ starttime              : POSIXct[1:19724], format: \"2018-05-28 12:59:49\" \"2018-05-28 13:27:45\" ...\n",
            " $ stoptime               : POSIXct[1:19724], format: \"2018-05-28 13:30:40\" \"2018-05-28 13:52:58\" ...\n",
            " $ start_station_id       : num [1:19724] 72 72 72 128 128 167 173 173 173 173 ...\n",
            " $ start_station_name     : chr [1:19724] \"W 52 St & 11 Ave\" \"W 52 St & 11 Ave\" \"W 52 St & 11 Ave\" \"MacDougal St & Prince St\" ...\n",
            " $ start_station_latitude : num [1:19724] 40.8 40.8 40.8 40.7 40.7 ...\n",
            " $ start_station_longitude: num [1:19724] -74 -74 -74 -74 -74 ...\n",
            " $ end_station_id         : num [1:19724] 2006 3226 3226 2006 2006 ...\n",
            " $ end_station_name       : chr [1:19724] \"Central Park S & 6 Ave\" \"W 82 St & Central Park West\" \"W 82 St & Central Park West\" \"Central Park S & 6 Ave\" ...\n",
            " $ end_station_latitude   : num [1:19724] 40.8 40.8 40.8 40.8 40.8 ...\n",
            " $ end_station_longitude  : num [1:19724] -74 -74 -74 -74 -74 ...\n",
            " $ bikeid                 : num [1:19724] 30028 17715 21809 28536 28122 ...\n",
            " $ usertype               : chr [1:19724] \"Customer\" \"Customer\" \"Customer\" \"Customer\" ...\n",
            " $ birth_year             : num [1:19724] 1969 1969 1969 1995 1995 ...\n",
            " $ gender                 : num [1:19724] 0 0 0 1 1 0 0 0 0 0 ...\n",
            " - attr(*, \"spec\")=\n",
            "  .. cols(\n",
            "  ..   tripduration = col_character(),\n",
            "  ..   starttime = col_datetime(format = \"\"),\n",
            "  ..   stoptime = col_datetime(format = \"\"),\n",
            "  ..   start_station_id = col_double(),\n",
            "  ..   start_station_name = col_character(),\n",
            "  ..   start_station_latitude = col_double(),\n",
            "  ..   start_station_longitude = col_double(),\n",
            "  ..   end_station_id = col_double(),\n",
            "  ..   end_station_name = col_character(),\n",
            "  ..   end_station_latitude = col_double(),\n",
            "  ..   end_station_longitude = col_double(),\n",
            "  ..   bikeid = col_double(),\n",
            "  ..   usertype = col_character(),\n",
            "  ..   birth_year = col_double(),\n",
            "  ..   gender = col_double()\n",
            "  .. )\n"
          ],
          "name": "stdout"
        }
      ]
    },
    {
      "cell_type": "markdown",
      "metadata": {
        "id": "NVQrskwwvRBV"
      },
      "source": [
        ""
      ]
    },
    {
      "cell_type": "code",
      "metadata": {
        "colab": {
          "base_uri": "https://localhost:8080/"
        },
        "id": "LBzHDKglvRPV",
        "outputId": "24b26a40-7d92-4dbf-91be-2e7408bc898e"
      },
      "source": [
        "%%R\r\n",
        "\r\n",
        "NYC_Holidays_CitiBikeRentals$Year <- format(NYC_Holidays_CitiBikeRentals$starttime, format=\"%Y\")\r\n",
        "NYC_Holidays_CitiBikeRentals$Month <- format(NYC_Holidays_CitiBikeRentals$starttime, format=\"%m\")\r\n",
        "\r\n",
        "str(NYC_Holidays_CitiBikeRentals)"
      ],
      "execution_count": null,
      "outputs": [
        {
          "output_type": "stream",
          "text": [
            "tibble [19,724 × 17] (S3: spec_tbl_df/tbl_df/tbl/data.frame)\n",
            " $ tripduration           : chr [1:19724] \"/content/sample_data/201805-citibike-tripdata.csv:1850\" \"/content/sample_data/201805-citibike-tripdata.csv:1513\" \"/content/sample_data/201805-citibike-tripdata.csv:1485\" \"/content/sample_data/201805-citibike-tripdata.csv:2274\" ...\n",
            " $ starttime              : POSIXct[1:19724], format: \"2018-05-28 12:59:49\" \"2018-05-28 13:27:45\" ...\n",
            " $ stoptime               : POSIXct[1:19724], format: \"2018-05-28 13:30:40\" \"2018-05-28 13:52:58\" ...\n",
            " $ start_station_id       : num [1:19724] 72 72 72 128 128 167 173 173 173 173 ...\n",
            " $ start_station_name     : chr [1:19724] \"W 52 St & 11 Ave\" \"W 52 St & 11 Ave\" \"W 52 St & 11 Ave\" \"MacDougal St & Prince St\" ...\n",
            " $ start_station_latitude : num [1:19724] 40.8 40.8 40.8 40.7 40.7 ...\n",
            " $ start_station_longitude: num [1:19724] -74 -74 -74 -74 -74 ...\n",
            " $ end_station_id         : num [1:19724] 2006 3226 3226 2006 2006 ...\n",
            " $ end_station_name       : chr [1:19724] \"Central Park S & 6 Ave\" \"W 82 St & Central Park West\" \"W 82 St & Central Park West\" \"Central Park S & 6 Ave\" ...\n",
            " $ end_station_latitude   : num [1:19724] 40.8 40.8 40.8 40.8 40.8 ...\n",
            " $ end_station_longitude  : num [1:19724] -74 -74 -74 -74 -74 ...\n",
            " $ bikeid                 : num [1:19724] 30028 17715 21809 28536 28122 ...\n",
            " $ usertype               : chr [1:19724] \"Customer\" \"Customer\" \"Customer\" \"Customer\" ...\n",
            " $ birth_year             : num [1:19724] 1969 1969 1969 1995 1995 ...\n",
            " $ gender                 : num [1:19724] 0 0 0 1 1 0 0 0 0 0 ...\n",
            " $ Year                   : chr [1:19724] \"2018\" \"2018\" \"2018\" \"2018\" ...\n",
            " $ Month                  : chr [1:19724] \"05\" \"05\" \"05\" \"05\" ...\n",
            " - attr(*, \"spec\")=\n",
            "  .. cols(\n",
            "  ..   tripduration = col_character(),\n",
            "  ..   starttime = col_datetime(format = \"\"),\n",
            "  ..   stoptime = col_datetime(format = \"\"),\n",
            "  ..   start_station_id = col_double(),\n",
            "  ..   start_station_name = col_character(),\n",
            "  ..   start_station_latitude = col_double(),\n",
            "  ..   start_station_longitude = col_double(),\n",
            "  ..   end_station_id = col_double(),\n",
            "  ..   end_station_name = col_character(),\n",
            "  ..   end_station_latitude = col_double(),\n",
            "  ..   end_station_longitude = col_double(),\n",
            "  ..   bikeid = col_double(),\n",
            "  ..   usertype = col_character(),\n",
            "  ..   birth_year = col_double(),\n",
            "  ..   gender = col_double()\n",
            "  .. )\n"
          ],
          "name": "stdout"
        }
      ]
    },
    {
      "cell_type": "markdown",
      "metadata": {
        "id": "qRko1Pbsxs7J"
      },
      "source": [
        "## Getting the tallies"
      ]
    },
    {
      "cell_type": "code",
      "metadata": {
        "colab": {
          "base_uri": "https://localhost:8080/"
        },
        "id": "F1DRVj7cxtC2",
        "outputId": "73267df3-496b-47bf-eb18-c5107900f43b"
      },
      "source": [
        "%%R\r\n",
        "\r\n",
        "( NYC_Holidays_CitiBikeRentals\r\n",
        "  %>% group_by(Year, Month)\r\n",
        "  %>% summarise(Count = n())\r\n",
        ") -> NYC_Holidays_CitiBikeRentals_Counts"
      ],
      "execution_count": null,
      "outputs": [
        {
          "output_type": "stream",
          "text": [
            "R[write to console]: `summarise()` has grouped output by 'Year'. You can override using the `.groups` argument.\n",
            "\n"
          ],
          "name": "stderr"
        }
      ]
    },
    {
      "cell_type": "code",
      "metadata": {
        "colab": {
          "base_uri": "https://localhost:8080/"
        },
        "id": "p71HiiCHyldA",
        "outputId": "6b47c247-8b5c-49e7-c52f-3a5a78e9c5b5"
      },
      "source": [
        "%%R\r\n",
        "NYC_Holidays_CitiBikeRentals_Counts"
      ],
      "execution_count": null,
      "outputs": [
        {
          "output_type": "stream",
          "text": [
            "# A tibble: 9 x 3\n",
            "# Groups:   Year [3]\n",
            "  Year  Month Count\n",
            "  <chr> <chr> <int>\n",
            "1 2018  05     2048\n",
            "2 2018  07     1750\n",
            "3 2018  09     2362\n",
            "4 2019  05     3236\n",
            "5 2019  07     2220\n",
            "6 2019  09      970\n",
            "7 2020  05     2472\n",
            "8 2020  07     2104\n",
            "9 2020  09     2562\n"
          ],
          "name": "stdout"
        }
      ]
    },
    {
      "cell_type": "markdown",
      "metadata": {
        "id": "qKovQ0Bry3HC"
      },
      "source": [
        "## Creating the graph"
      ]
    },
    {
      "cell_type": "code",
      "metadata": {
        "colab": {
          "base_uri": "https://localhost:8080/",
          "height": 497
        },
        "id": "rVPcSbPvy3O6",
        "outputId": "15ded650-e23c-45cb-89a4-ad043d98faa5"
      },
      "source": [
        "%%R\r\n",
        "\r\n",
        "NYC_Holidays_CitiBikeRentals_Counts %>%\r\n",
        " ggplot(aes(x = Month, y = Count, fill=Year)) +\r\n",
        "  geom_col(position='dodge') +\r\n",
        "  theme_light()  "
      ],
      "execution_count": null,
      "outputs": [
        {
          "output_type": "display_data",
          "data": {
            "image/png": "[encoded data removed]"
          },
          "metadata": {
            "tags": []
          }
        }
      ]
    },
    {
      "cell_type": "markdown",
      "metadata": {
        "id": "sb7DiE9-0GI9"
      },
      "source": [
        ""
      ]
    },
    {
      "cell_type": "code",
      "metadata": {
        "colab": {
          "base_uri": "https://localhost:8080/"
        },
        "id": "wr5dlfn00GTt",
        "outputId": "c6507b9b-a101-4505-be12-4d38325558a7"
      },
      "source": [
        "%%R\r\n",
        "(\r\n",
        "NYC_Holidays_CitiBikeRentals_Counts\r\n",
        " %>% mutate(Holiday = case_when(Month == \"05\" ~ \"Memorial Day\", Month == \"07\" ~ \"Independence Day\", Month == \"09\" ~ \"Labor Day\"))\r\n",
        ") -> NYC_Holidays_CitiBikeRentals_Counts\r\n",
        "\r\n",
        "head(NYC_Holidays_CitiBikeRentals_Counts)"
      ],
      "execution_count": null,
      "outputs": [
        {
          "output_type": "stream",
          "text": [
            "# A tibble: 6 x 4\n",
            "# Groups:   Year [2]\n",
            "  Year  Month Count Holiday         \n",
            "  <chr> <chr> <int> <chr>           \n",
            "1 2018  05     2048 Memorial Day    \n",
            "2 2018  07     1750 Independence Day\n",
            "3 2018  09     2362 Labor Day       \n",
            "4 2019  05     3236 Memorial Day    \n",
            "5 2019  07     2220 Independence Day\n",
            "6 2019  09      970 Labor Day       \n"
          ],
          "name": "stdout"
        }
      ]
    },
    {
      "cell_type": "markdown",
      "metadata": {
        "id": "AWVQtceq1JEq"
      },
      "source": [
        ""
      ]
    },
    {
      "cell_type": "code",
      "metadata": {
        "colab": {
          "base_uri": "https://localhost:8080/",
          "height": 497
        },
        "id": "SoDPWbKa1JMe",
        "outputId": "551855da-3c47-44d9-ae31-23a6abd8bc11"
      },
      "source": [
        "%%R\r\n",
        "\r\n",
        "NYC_Holidays_CitiBikeRentals_Counts %>%\r\n",
        " ggplot(aes(x = Holiday, y = Count, fill=Year)) +\r\n",
        "  geom_col(position='dodge') +\r\n",
        "  theme_light()  \r\n",
        "  "
      ],
      "execution_count": null,
      "outputs": [
        {
          "output_type": "display_data",
          "data": {
            "image/png": "[encoded data removed]"
          },
          "metadata": {
            "tags": []
          }
        }
      ]
    },
    {
      "cell_type": "markdown",
      "metadata": {
        "id": "Tx0MwUF22nkR"
      },
      "source": [
        ""
      ]
    },
    {
      "cell_type": "code",
      "metadata": {
        "colab": {
          "base_uri": "https://localhost:8080/",
          "height": 497
        },
        "id": "LK_8InxK2nqT",
        "outputId": "b7aa8bd7-e26f-4a27-c90f-59c640e0afdd"
      },
      "source": [
        "%%R\r\n",
        "\r\n",
        "NYC_Holidays_CitiBikeRentals_Counts %>%\r\n",
        " mutate(Holiday = fct_relevel(Holiday, c(\"Memorial Day\",\"Independence Day\",\"Labor Day\"))) %>%\r\n",
        " ggplot(aes(x = Holiday, y = Count, fill=Year)) +\r\n",
        "  geom_col(position='dodge') +\r\n",
        "  theme_light() +\r\n",
        "  xlab(\"\")\r\n",
        "\r\n"
      ],
      "execution_count": null,
      "outputs": [
        {
          "output_type": "display_data",
          "data": {
            "image/png": "[encoded data removed]"
          },
          "metadata": {
            "tags": []
          }
        }
      ]
    },
    {
      "cell_type": "markdown",
      "metadata": {
        "id": "IDcEg_Vc62-w"
      },
      "source": [
        ""
      ]
    },
    {
      "cell_type": "code",
      "metadata": {
        "colab": {
          "base_uri": "https://localhost:8080/",
          "height": 497
        },
        "id": "O-cxQgW963Ir",
        "outputId": "4c648ef9-6935-4417-b100-e2bd502d1e84"
      },
      "source": [
        "%%R\r\n",
        "\r\n",
        "NYC_Holidays_CitiBikeRentals_Counts %>%\r\n",
        "  mutate(Holiday = fct_relevel(Holiday, c(\"Memorial Day\",\"Independence Day\",\"Labor Day\"))) %>%\r\n",
        "  ggplot(aes(x = Year, y = Count,fill=Month)) +\r\n",
        "    geom_col(position='dodge')  +\r\n",
        "    facet_grid(~Holiday, \r\n",
        "             switch = \"x\") +\r\n",
        "             # )+\r\n",
        "   ggtitle(\"NYC CikiBike Rentals for Summer Holidays\") +\r\n",
        "    theme(legend.position = \"none\",\r\n",
        "          panel.background = element_blank(),\r\n",
        "          panel.border = element_rect(color=\"black\",fill=NA),\r\n",
        "          strip.placement = \"outside\",                      # Place facet labels outside x axis labels.\r\n",
        "          strip.background = element_rect(fill = \"white\"),  # Make facet label background white.\r\n",
        "          axis.title = element_blank(),\r\n",
        "          plot.title = element_text(hjust = 0.5)\r\n",
        "          ) \r\n"
      ],
      "execution_count": null,
      "outputs": [
        {
          "output_type": "display_data",
          "data": {
            "image/png": "[encoded data removed]"
          },
          "metadata": {
            "tags": []
          }
        }
      ]
    },
    {
      "cell_type": "markdown",
      "metadata": {
        "id": "SRhLmoDREfUq"
      },
      "source": [
        "https://www.wunderground.com/history/daily/us/ny/new-york-city/KLGA/date/2019-9-2 "
      ]
    }
  ]
}